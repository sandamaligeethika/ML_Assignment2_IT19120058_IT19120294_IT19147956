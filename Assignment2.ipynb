{
 "cells": [
  {
   "cell_type": "markdown",
   "id": "01a444f7",
   "metadata": {},
   "source": [
    "# Importing Libraries"
   ]
  },
  {
   "cell_type": "code",
   "execution_count": 1,
   "id": "d2167bfe",
   "metadata": {},
   "outputs": [],
   "source": [
    "import numpy as np\n",
    "import pandas as pd\n",
    "#to plot graphs\n",
    "import matplotlib.pyplot as plt\n",
    "import seaborn as sns"
   ]
  },
  {
   "cell_type": "markdown",
   "id": "7e83c012",
   "metadata": {},
   "source": [
    "# Importing Dataset"
   ]
  },
  {
   "cell_type": "code",
   "execution_count": 2,
   "id": "a25c4cf9",
   "metadata": {},
   "outputs": [],
   "source": [
    "#import dataset\n",
    "#set the index - Date column\n",
    "dataset = pd.read_csv('weatherAUS.csv',index_col=\"Date\")"
   ]
  },
  {
   "cell_type": "code",
   "execution_count": 3,
   "id": "babf3b27",
   "metadata": {},
   "outputs": [
    {
     "data": {
      "text/html": [
       "<div>\n",
       "<style scoped>\n",
       "    .dataframe tbody tr th:only-of-type {\n",
       "        vertical-align: middle;\n",
       "    }\n",
       "\n",
       "    .dataframe tbody tr th {\n",
       "        vertical-align: top;\n",
       "    }\n",
       "\n",
       "    .dataframe thead th {\n",
       "        text-align: right;\n",
       "    }\n",
       "</style>\n",
       "<table border=\"1\" class=\"dataframe\">\n",
       "  <thead>\n",
       "    <tr style=\"text-align: right;\">\n",
       "      <th></th>\n",
       "      <th>Location</th>\n",
       "      <th>MinTemp</th>\n",
       "      <th>MaxTemp</th>\n",
       "      <th>Rainfall</th>\n",
       "      <th>Evaporation</th>\n",
       "      <th>Sunshine</th>\n",
       "      <th>WindGustDir</th>\n",
       "      <th>WindGustSpeed</th>\n",
       "      <th>WindDir9am</th>\n",
       "      <th>WindDir3pm</th>\n",
       "      <th>...</th>\n",
       "      <th>Humidity9am</th>\n",
       "      <th>Humidity3pm</th>\n",
       "      <th>Pressure9am</th>\n",
       "      <th>Pressure3pm</th>\n",
       "      <th>Cloud9am</th>\n",
       "      <th>Cloud3pm</th>\n",
       "      <th>Temp9am</th>\n",
       "      <th>Temp3pm</th>\n",
       "      <th>RainToday</th>\n",
       "      <th>RainTomorrow</th>\n",
       "    </tr>\n",
       "    <tr>\n",
       "      <th>Date</th>\n",
       "      <th></th>\n",
       "      <th></th>\n",
       "      <th></th>\n",
       "      <th></th>\n",
       "      <th></th>\n",
       "      <th></th>\n",
       "      <th></th>\n",
       "      <th></th>\n",
       "      <th></th>\n",
       "      <th></th>\n",
       "      <th></th>\n",
       "      <th></th>\n",
       "      <th></th>\n",
       "      <th></th>\n",
       "      <th></th>\n",
       "      <th></th>\n",
       "      <th></th>\n",
       "      <th></th>\n",
       "      <th></th>\n",
       "      <th></th>\n",
       "      <th></th>\n",
       "    </tr>\n",
       "  </thead>\n",
       "  <tbody>\n",
       "    <tr>\n",
       "      <th>2008-12-01</th>\n",
       "      <td>Albury</td>\n",
       "      <td>13.4</td>\n",
       "      <td>22.9</td>\n",
       "      <td>0.6</td>\n",
       "      <td>NaN</td>\n",
       "      <td>NaN</td>\n",
       "      <td>W</td>\n",
       "      <td>44.0</td>\n",
       "      <td>W</td>\n",
       "      <td>WNW</td>\n",
       "      <td>...</td>\n",
       "      <td>71.0</td>\n",
       "      <td>22.0</td>\n",
       "      <td>1007.7</td>\n",
       "      <td>1007.1</td>\n",
       "      <td>8.0</td>\n",
       "      <td>NaN</td>\n",
       "      <td>16.9</td>\n",
       "      <td>21.8</td>\n",
       "      <td>No</td>\n",
       "      <td>No</td>\n",
       "    </tr>\n",
       "    <tr>\n",
       "      <th>2008-12-02</th>\n",
       "      <td>Albury</td>\n",
       "      <td>7.4</td>\n",
       "      <td>25.1</td>\n",
       "      <td>0.0</td>\n",
       "      <td>NaN</td>\n",
       "      <td>NaN</td>\n",
       "      <td>WNW</td>\n",
       "      <td>44.0</td>\n",
       "      <td>NNW</td>\n",
       "      <td>WSW</td>\n",
       "      <td>...</td>\n",
       "      <td>44.0</td>\n",
       "      <td>25.0</td>\n",
       "      <td>1010.6</td>\n",
       "      <td>1007.8</td>\n",
       "      <td>NaN</td>\n",
       "      <td>NaN</td>\n",
       "      <td>17.2</td>\n",
       "      <td>24.3</td>\n",
       "      <td>No</td>\n",
       "      <td>No</td>\n",
       "    </tr>\n",
       "    <tr>\n",
       "      <th>2008-12-03</th>\n",
       "      <td>Albury</td>\n",
       "      <td>12.9</td>\n",
       "      <td>25.7</td>\n",
       "      <td>0.0</td>\n",
       "      <td>NaN</td>\n",
       "      <td>NaN</td>\n",
       "      <td>WSW</td>\n",
       "      <td>46.0</td>\n",
       "      <td>W</td>\n",
       "      <td>WSW</td>\n",
       "      <td>...</td>\n",
       "      <td>38.0</td>\n",
       "      <td>30.0</td>\n",
       "      <td>1007.6</td>\n",
       "      <td>1008.7</td>\n",
       "      <td>NaN</td>\n",
       "      <td>2.0</td>\n",
       "      <td>21.0</td>\n",
       "      <td>23.2</td>\n",
       "      <td>No</td>\n",
       "      <td>No</td>\n",
       "    </tr>\n",
       "    <tr>\n",
       "      <th>2008-12-04</th>\n",
       "      <td>Albury</td>\n",
       "      <td>9.2</td>\n",
       "      <td>28.0</td>\n",
       "      <td>0.0</td>\n",
       "      <td>NaN</td>\n",
       "      <td>NaN</td>\n",
       "      <td>NE</td>\n",
       "      <td>24.0</td>\n",
       "      <td>SE</td>\n",
       "      <td>E</td>\n",
       "      <td>...</td>\n",
       "      <td>45.0</td>\n",
       "      <td>16.0</td>\n",
       "      <td>1017.6</td>\n",
       "      <td>1012.8</td>\n",
       "      <td>NaN</td>\n",
       "      <td>NaN</td>\n",
       "      <td>18.1</td>\n",
       "      <td>26.5</td>\n",
       "      <td>No</td>\n",
       "      <td>No</td>\n",
       "    </tr>\n",
       "    <tr>\n",
       "      <th>2008-12-05</th>\n",
       "      <td>Albury</td>\n",
       "      <td>17.5</td>\n",
       "      <td>32.3</td>\n",
       "      <td>1.0</td>\n",
       "      <td>NaN</td>\n",
       "      <td>NaN</td>\n",
       "      <td>W</td>\n",
       "      <td>41.0</td>\n",
       "      <td>ENE</td>\n",
       "      <td>NW</td>\n",
       "      <td>...</td>\n",
       "      <td>82.0</td>\n",
       "      <td>33.0</td>\n",
       "      <td>1010.8</td>\n",
       "      <td>1006.0</td>\n",
       "      <td>7.0</td>\n",
       "      <td>8.0</td>\n",
       "      <td>17.8</td>\n",
       "      <td>29.7</td>\n",
       "      <td>No</td>\n",
       "      <td>No</td>\n",
       "    </tr>\n",
       "    <tr>\n",
       "      <th>...</th>\n",
       "      <td>...</td>\n",
       "      <td>...</td>\n",
       "      <td>...</td>\n",
       "      <td>...</td>\n",
       "      <td>...</td>\n",
       "      <td>...</td>\n",
       "      <td>...</td>\n",
       "      <td>...</td>\n",
       "      <td>...</td>\n",
       "      <td>...</td>\n",
       "      <td>...</td>\n",
       "      <td>...</td>\n",
       "      <td>...</td>\n",
       "      <td>...</td>\n",
       "      <td>...</td>\n",
       "      <td>...</td>\n",
       "      <td>...</td>\n",
       "      <td>...</td>\n",
       "      <td>...</td>\n",
       "      <td>...</td>\n",
       "      <td>...</td>\n",
       "    </tr>\n",
       "    <tr>\n",
       "      <th>2017-06-21</th>\n",
       "      <td>Uluru</td>\n",
       "      <td>2.8</td>\n",
       "      <td>23.4</td>\n",
       "      <td>0.0</td>\n",
       "      <td>NaN</td>\n",
       "      <td>NaN</td>\n",
       "      <td>E</td>\n",
       "      <td>31.0</td>\n",
       "      <td>SE</td>\n",
       "      <td>ENE</td>\n",
       "      <td>...</td>\n",
       "      <td>51.0</td>\n",
       "      <td>24.0</td>\n",
       "      <td>1024.6</td>\n",
       "      <td>1020.3</td>\n",
       "      <td>NaN</td>\n",
       "      <td>NaN</td>\n",
       "      <td>10.1</td>\n",
       "      <td>22.4</td>\n",
       "      <td>No</td>\n",
       "      <td>No</td>\n",
       "    </tr>\n",
       "    <tr>\n",
       "      <th>2017-06-22</th>\n",
       "      <td>Uluru</td>\n",
       "      <td>3.6</td>\n",
       "      <td>25.3</td>\n",
       "      <td>0.0</td>\n",
       "      <td>NaN</td>\n",
       "      <td>NaN</td>\n",
       "      <td>NNW</td>\n",
       "      <td>22.0</td>\n",
       "      <td>SE</td>\n",
       "      <td>N</td>\n",
       "      <td>...</td>\n",
       "      <td>56.0</td>\n",
       "      <td>21.0</td>\n",
       "      <td>1023.5</td>\n",
       "      <td>1019.1</td>\n",
       "      <td>NaN</td>\n",
       "      <td>NaN</td>\n",
       "      <td>10.9</td>\n",
       "      <td>24.5</td>\n",
       "      <td>No</td>\n",
       "      <td>No</td>\n",
       "    </tr>\n",
       "    <tr>\n",
       "      <th>2017-06-23</th>\n",
       "      <td>Uluru</td>\n",
       "      <td>5.4</td>\n",
       "      <td>26.9</td>\n",
       "      <td>0.0</td>\n",
       "      <td>NaN</td>\n",
       "      <td>NaN</td>\n",
       "      <td>N</td>\n",
       "      <td>37.0</td>\n",
       "      <td>SE</td>\n",
       "      <td>WNW</td>\n",
       "      <td>...</td>\n",
       "      <td>53.0</td>\n",
       "      <td>24.0</td>\n",
       "      <td>1021.0</td>\n",
       "      <td>1016.8</td>\n",
       "      <td>NaN</td>\n",
       "      <td>NaN</td>\n",
       "      <td>12.5</td>\n",
       "      <td>26.1</td>\n",
       "      <td>No</td>\n",
       "      <td>No</td>\n",
       "    </tr>\n",
       "    <tr>\n",
       "      <th>2017-06-24</th>\n",
       "      <td>Uluru</td>\n",
       "      <td>7.8</td>\n",
       "      <td>27.0</td>\n",
       "      <td>0.0</td>\n",
       "      <td>NaN</td>\n",
       "      <td>NaN</td>\n",
       "      <td>SE</td>\n",
       "      <td>28.0</td>\n",
       "      <td>SSE</td>\n",
       "      <td>N</td>\n",
       "      <td>...</td>\n",
       "      <td>51.0</td>\n",
       "      <td>24.0</td>\n",
       "      <td>1019.4</td>\n",
       "      <td>1016.5</td>\n",
       "      <td>3.0</td>\n",
       "      <td>2.0</td>\n",
       "      <td>15.1</td>\n",
       "      <td>26.0</td>\n",
       "      <td>No</td>\n",
       "      <td>No</td>\n",
       "    </tr>\n",
       "    <tr>\n",
       "      <th>2017-06-25</th>\n",
       "      <td>Uluru</td>\n",
       "      <td>14.9</td>\n",
       "      <td>NaN</td>\n",
       "      <td>0.0</td>\n",
       "      <td>NaN</td>\n",
       "      <td>NaN</td>\n",
       "      <td>NaN</td>\n",
       "      <td>NaN</td>\n",
       "      <td>ESE</td>\n",
       "      <td>ESE</td>\n",
       "      <td>...</td>\n",
       "      <td>62.0</td>\n",
       "      <td>36.0</td>\n",
       "      <td>1020.2</td>\n",
       "      <td>1017.9</td>\n",
       "      <td>8.0</td>\n",
       "      <td>8.0</td>\n",
       "      <td>15.0</td>\n",
       "      <td>20.9</td>\n",
       "      <td>No</td>\n",
       "      <td>NaN</td>\n",
       "    </tr>\n",
       "  </tbody>\n",
       "</table>\n",
       "<p>145460 rows × 22 columns</p>\n",
       "</div>"
      ],
      "text/plain": [
       "           Location  MinTemp  MaxTemp  Rainfall  Evaporation  Sunshine  \\\n",
       "Date                                                                     \n",
       "2008-12-01   Albury     13.4     22.9       0.6          NaN       NaN   \n",
       "2008-12-02   Albury      7.4     25.1       0.0          NaN       NaN   \n",
       "2008-12-03   Albury     12.9     25.7       0.0          NaN       NaN   \n",
       "2008-12-04   Albury      9.2     28.0       0.0          NaN       NaN   \n",
       "2008-12-05   Albury     17.5     32.3       1.0          NaN       NaN   \n",
       "...             ...      ...      ...       ...          ...       ...   \n",
       "2017-06-21    Uluru      2.8     23.4       0.0          NaN       NaN   \n",
       "2017-06-22    Uluru      3.6     25.3       0.0          NaN       NaN   \n",
       "2017-06-23    Uluru      5.4     26.9       0.0          NaN       NaN   \n",
       "2017-06-24    Uluru      7.8     27.0       0.0          NaN       NaN   \n",
       "2017-06-25    Uluru     14.9      NaN       0.0          NaN       NaN   \n",
       "\n",
       "           WindGustDir  WindGustSpeed WindDir9am WindDir3pm  ...  Humidity9am  \\\n",
       "Date                                                         ...                \n",
       "2008-12-01           W           44.0          W        WNW  ...         71.0   \n",
       "2008-12-02         WNW           44.0        NNW        WSW  ...         44.0   \n",
       "2008-12-03         WSW           46.0          W        WSW  ...         38.0   \n",
       "2008-12-04          NE           24.0         SE          E  ...         45.0   \n",
       "2008-12-05           W           41.0        ENE         NW  ...         82.0   \n",
       "...                ...            ...        ...        ...  ...          ...   \n",
       "2017-06-21           E           31.0         SE        ENE  ...         51.0   \n",
       "2017-06-22         NNW           22.0         SE          N  ...         56.0   \n",
       "2017-06-23           N           37.0         SE        WNW  ...         53.0   \n",
       "2017-06-24          SE           28.0        SSE          N  ...         51.0   \n",
       "2017-06-25         NaN            NaN        ESE        ESE  ...         62.0   \n",
       "\n",
       "            Humidity3pm  Pressure9am  Pressure3pm  Cloud9am  Cloud3pm  \\\n",
       "Date                                                                    \n",
       "2008-12-01         22.0       1007.7       1007.1       8.0       NaN   \n",
       "2008-12-02         25.0       1010.6       1007.8       NaN       NaN   \n",
       "2008-12-03         30.0       1007.6       1008.7       NaN       2.0   \n",
       "2008-12-04         16.0       1017.6       1012.8       NaN       NaN   \n",
       "2008-12-05         33.0       1010.8       1006.0       7.0       8.0   \n",
       "...                 ...          ...          ...       ...       ...   \n",
       "2017-06-21         24.0       1024.6       1020.3       NaN       NaN   \n",
       "2017-06-22         21.0       1023.5       1019.1       NaN       NaN   \n",
       "2017-06-23         24.0       1021.0       1016.8       NaN       NaN   \n",
       "2017-06-24         24.0       1019.4       1016.5       3.0       2.0   \n",
       "2017-06-25         36.0       1020.2       1017.9       8.0       8.0   \n",
       "\n",
       "            Temp9am  Temp3pm  RainToday  RainTomorrow  \n",
       "Date                                                   \n",
       "2008-12-01     16.9     21.8         No            No  \n",
       "2008-12-02     17.2     24.3         No            No  \n",
       "2008-12-03     21.0     23.2         No            No  \n",
       "2008-12-04     18.1     26.5         No            No  \n",
       "2008-12-05     17.8     29.7         No            No  \n",
       "...             ...      ...        ...           ...  \n",
       "2017-06-21     10.1     22.4         No            No  \n",
       "2017-06-22     10.9     24.5         No            No  \n",
       "2017-06-23     12.5     26.1         No            No  \n",
       "2017-06-24     15.1     26.0         No            No  \n",
       "2017-06-25     15.0     20.9         No           NaN  \n",
       "\n",
       "[145460 rows x 22 columns]"
      ]
     },
     "execution_count": 3,
     "metadata": {},
     "output_type": "execute_result"
    }
   ],
   "source": [
    "#display dataset\n",
    "dataset"
   ]
  },
  {
   "cell_type": "markdown",
   "id": "7db15c8f",
   "metadata": {},
   "source": [
    "# Data Preprocessing"
   ]
  },
  {
   "cell_type": "code",
   "execution_count": 4,
   "id": "afa60c77",
   "metadata": {},
   "outputs": [
    {
     "data": {
      "text/plain": [
       "Location          object\n",
       "MinTemp          float64\n",
       "MaxTemp          float64\n",
       "Rainfall         float64\n",
       "Evaporation      float64\n",
       "Sunshine         float64\n",
       "WindGustDir       object\n",
       "WindGustSpeed    float64\n",
       "WindDir9am        object\n",
       "WindDir3pm        object\n",
       "WindSpeed9am     float64\n",
       "WindSpeed3pm     float64\n",
       "Humidity9am      float64\n",
       "Humidity3pm      float64\n",
       "Pressure9am      float64\n",
       "Pressure3pm      float64\n",
       "Cloud9am         float64\n",
       "Cloud3pm         float64\n",
       "Temp9am          float64\n",
       "Temp3pm          float64\n",
       "RainToday         object\n",
       "RainTomorrow      object\n",
       "dtype: object"
      ]
     },
     "execution_count": 4,
     "metadata": {},
     "output_type": "execute_result"
    }
   ],
   "source": [
    "#data types of the attributes\n",
    "dataset.dtypes"
   ]
  },
  {
   "cell_type": "code",
   "execution_count": 5,
   "id": "ad022c0f",
   "metadata": {},
   "outputs": [
    {
     "data": {
      "text/plain": [
       "Location             0\n",
       "MinTemp           1485\n",
       "MaxTemp           1261\n",
       "Rainfall          3261\n",
       "Evaporation      62790\n",
       "Sunshine         69835\n",
       "WindGustDir      10326\n",
       "WindGustSpeed    10263\n",
       "WindDir9am       10566\n",
       "WindDir3pm        4228\n",
       "WindSpeed9am      1767\n",
       "WindSpeed3pm      3062\n",
       "Humidity9am       2654\n",
       "Humidity3pm       4507\n",
       "Pressure9am      15065\n",
       "Pressure3pm      15028\n",
       "Cloud9am         55888\n",
       "Cloud3pm         59358\n",
       "Temp9am           1767\n",
       "Temp3pm           3609\n",
       "RainToday         3261\n",
       "RainTomorrow      3267\n",
       "dtype: int64"
      ]
     },
     "execution_count": 5,
     "metadata": {},
     "output_type": "execute_result"
    }
   ],
   "source": [
    "#missing values\n",
    "dataset.apply(pd.isnull).sum()"
   ]
  },
  {
   "cell_type": "code",
   "execution_count": 6,
   "id": "76e09931",
   "metadata": {},
   "outputs": [
    {
     "data": {
      "text/plain": [
       "Location         0.000000\n",
       "MinTemp          0.010209\n",
       "MaxTemp          0.008669\n",
       "Rainfall         0.022419\n",
       "Evaporation      0.431665\n",
       "Sunshine         0.480098\n",
       "WindGustDir      0.070989\n",
       "WindGustSpeed    0.070555\n",
       "WindDir9am       0.072639\n",
       "WindDir3pm       0.029066\n",
       "WindSpeed9am     0.012148\n",
       "WindSpeed3pm     0.021050\n",
       "Humidity9am      0.018246\n",
       "Humidity3pm      0.030984\n",
       "Pressure9am      0.103568\n",
       "Pressure3pm      0.103314\n",
       "Cloud9am         0.384216\n",
       "Cloud3pm         0.408071\n",
       "Temp9am          0.012148\n",
       "Temp3pm          0.024811\n",
       "RainToday        0.022419\n",
       "RainTomorrow     0.022460\n",
       "dtype: float64"
      ]
     },
     "execution_count": 6,
     "metadata": {},
     "output_type": "execute_result"
    }
   ],
   "source": [
    "#missing values as a percentage\n",
    "dataset.apply(pd.isnull).sum()/dataset.shape[0]"
   ]
  },
  {
   "cell_type": "markdown",
   "id": "abfc0272",
   "metadata": {},
   "source": [
    "# Drop Columns"
   ]
  },
  {
   "cell_type": "code",
   "execution_count": 7,
   "id": "22e8153d",
   "metadata": {},
   "outputs": [],
   "source": [
    "#dataset.dropna(['Evaporation', 'Sunshine','WindGustDir','WindGustSpeed','WindDir9am','WindDir3pm','Cloud9am', 'Cloud3pm'], df.dropna(subset=['column1','column2'], inplace=True)df.dropna(subset=['column1','column2'], inplace=True))"
   ]
  },
  {
   "cell_type": "code",
   "execution_count": 8,
   "id": "407a4a7f",
   "metadata": {},
   "outputs": [],
   "source": [
    "#dataset.dropna(subset=['Evaporation', 'Sunshine','WindGustDir','WindGustSpeed','WindDir9am','WindDir3pm','Cloud9am', 'Cloud3pm'],inplace=True)"
   ]
  },
  {
   "cell_type": "code",
   "execution_count": 9,
   "id": "bc5ffa6e",
   "metadata": {},
   "outputs": [],
   "source": [
    "raindata = dataset.copy()"
   ]
  },
  {
   "cell_type": "code",
   "execution_count": 10,
   "id": "b0613cc9",
   "metadata": {},
   "outputs": [],
   "source": [
    "raindata = raindata [['MinTemp', 'MaxTemp','Rainfall','WindSpeed9am','WindSpeed3pm','Humidity9am','Humidity3pm', 'Pressure9am','Pressure3pm','Temp9am','Temp3pm','RainToday','RainTomorrow']]"
   ]
  },
  {
   "cell_type": "code",
   "execution_count": 11,
   "id": "f075d1d2",
   "metadata": {},
   "outputs": [
    {
     "data": {
      "text/html": [
       "<div>\n",
       "<style scoped>\n",
       "    .dataframe tbody tr th:only-of-type {\n",
       "        vertical-align: middle;\n",
       "    }\n",
       "\n",
       "    .dataframe tbody tr th {\n",
       "        vertical-align: top;\n",
       "    }\n",
       "\n",
       "    .dataframe thead th {\n",
       "        text-align: right;\n",
       "    }\n",
       "</style>\n",
       "<table border=\"1\" class=\"dataframe\">\n",
       "  <thead>\n",
       "    <tr style=\"text-align: right;\">\n",
       "      <th></th>\n",
       "      <th>MinTemp</th>\n",
       "      <th>MaxTemp</th>\n",
       "      <th>Rainfall</th>\n",
       "      <th>WindSpeed9am</th>\n",
       "      <th>WindSpeed3pm</th>\n",
       "      <th>Humidity9am</th>\n",
       "      <th>Humidity3pm</th>\n",
       "      <th>Pressure9am</th>\n",
       "      <th>Pressure3pm</th>\n",
       "      <th>Temp9am</th>\n",
       "      <th>Temp3pm</th>\n",
       "      <th>RainToday</th>\n",
       "      <th>RainTomorrow</th>\n",
       "    </tr>\n",
       "    <tr>\n",
       "      <th>Date</th>\n",
       "      <th></th>\n",
       "      <th></th>\n",
       "      <th></th>\n",
       "      <th></th>\n",
       "      <th></th>\n",
       "      <th></th>\n",
       "      <th></th>\n",
       "      <th></th>\n",
       "      <th></th>\n",
       "      <th></th>\n",
       "      <th></th>\n",
       "      <th></th>\n",
       "      <th></th>\n",
       "    </tr>\n",
       "  </thead>\n",
       "  <tbody>\n",
       "    <tr>\n",
       "      <th>2008-12-01</th>\n",
       "      <td>13.4</td>\n",
       "      <td>22.9</td>\n",
       "      <td>0.6</td>\n",
       "      <td>20.0</td>\n",
       "      <td>24.0</td>\n",
       "      <td>71.0</td>\n",
       "      <td>22.0</td>\n",
       "      <td>1007.7</td>\n",
       "      <td>1007.1</td>\n",
       "      <td>16.9</td>\n",
       "      <td>21.8</td>\n",
       "      <td>No</td>\n",
       "      <td>No</td>\n",
       "    </tr>\n",
       "    <tr>\n",
       "      <th>2008-12-02</th>\n",
       "      <td>7.4</td>\n",
       "      <td>25.1</td>\n",
       "      <td>0.0</td>\n",
       "      <td>4.0</td>\n",
       "      <td>22.0</td>\n",
       "      <td>44.0</td>\n",
       "      <td>25.0</td>\n",
       "      <td>1010.6</td>\n",
       "      <td>1007.8</td>\n",
       "      <td>17.2</td>\n",
       "      <td>24.3</td>\n",
       "      <td>No</td>\n",
       "      <td>No</td>\n",
       "    </tr>\n",
       "    <tr>\n",
       "      <th>2008-12-03</th>\n",
       "      <td>12.9</td>\n",
       "      <td>25.7</td>\n",
       "      <td>0.0</td>\n",
       "      <td>19.0</td>\n",
       "      <td>26.0</td>\n",
       "      <td>38.0</td>\n",
       "      <td>30.0</td>\n",
       "      <td>1007.6</td>\n",
       "      <td>1008.7</td>\n",
       "      <td>21.0</td>\n",
       "      <td>23.2</td>\n",
       "      <td>No</td>\n",
       "      <td>No</td>\n",
       "    </tr>\n",
       "    <tr>\n",
       "      <th>2008-12-04</th>\n",
       "      <td>9.2</td>\n",
       "      <td>28.0</td>\n",
       "      <td>0.0</td>\n",
       "      <td>11.0</td>\n",
       "      <td>9.0</td>\n",
       "      <td>45.0</td>\n",
       "      <td>16.0</td>\n",
       "      <td>1017.6</td>\n",
       "      <td>1012.8</td>\n",
       "      <td>18.1</td>\n",
       "      <td>26.5</td>\n",
       "      <td>No</td>\n",
       "      <td>No</td>\n",
       "    </tr>\n",
       "    <tr>\n",
       "      <th>2008-12-05</th>\n",
       "      <td>17.5</td>\n",
       "      <td>32.3</td>\n",
       "      <td>1.0</td>\n",
       "      <td>7.0</td>\n",
       "      <td>20.0</td>\n",
       "      <td>82.0</td>\n",
       "      <td>33.0</td>\n",
       "      <td>1010.8</td>\n",
       "      <td>1006.0</td>\n",
       "      <td>17.8</td>\n",
       "      <td>29.7</td>\n",
       "      <td>No</td>\n",
       "      <td>No</td>\n",
       "    </tr>\n",
       "    <tr>\n",
       "      <th>...</th>\n",
       "      <td>...</td>\n",
       "      <td>...</td>\n",
       "      <td>...</td>\n",
       "      <td>...</td>\n",
       "      <td>...</td>\n",
       "      <td>...</td>\n",
       "      <td>...</td>\n",
       "      <td>...</td>\n",
       "      <td>...</td>\n",
       "      <td>...</td>\n",
       "      <td>...</td>\n",
       "      <td>...</td>\n",
       "      <td>...</td>\n",
       "    </tr>\n",
       "    <tr>\n",
       "      <th>2017-06-21</th>\n",
       "      <td>2.8</td>\n",
       "      <td>23.4</td>\n",
       "      <td>0.0</td>\n",
       "      <td>13.0</td>\n",
       "      <td>11.0</td>\n",
       "      <td>51.0</td>\n",
       "      <td>24.0</td>\n",
       "      <td>1024.6</td>\n",
       "      <td>1020.3</td>\n",
       "      <td>10.1</td>\n",
       "      <td>22.4</td>\n",
       "      <td>No</td>\n",
       "      <td>No</td>\n",
       "    </tr>\n",
       "    <tr>\n",
       "      <th>2017-06-22</th>\n",
       "      <td>3.6</td>\n",
       "      <td>25.3</td>\n",
       "      <td>0.0</td>\n",
       "      <td>13.0</td>\n",
       "      <td>9.0</td>\n",
       "      <td>56.0</td>\n",
       "      <td>21.0</td>\n",
       "      <td>1023.5</td>\n",
       "      <td>1019.1</td>\n",
       "      <td>10.9</td>\n",
       "      <td>24.5</td>\n",
       "      <td>No</td>\n",
       "      <td>No</td>\n",
       "    </tr>\n",
       "    <tr>\n",
       "      <th>2017-06-23</th>\n",
       "      <td>5.4</td>\n",
       "      <td>26.9</td>\n",
       "      <td>0.0</td>\n",
       "      <td>9.0</td>\n",
       "      <td>9.0</td>\n",
       "      <td>53.0</td>\n",
       "      <td>24.0</td>\n",
       "      <td>1021.0</td>\n",
       "      <td>1016.8</td>\n",
       "      <td>12.5</td>\n",
       "      <td>26.1</td>\n",
       "      <td>No</td>\n",
       "      <td>No</td>\n",
       "    </tr>\n",
       "    <tr>\n",
       "      <th>2017-06-24</th>\n",
       "      <td>7.8</td>\n",
       "      <td>27.0</td>\n",
       "      <td>0.0</td>\n",
       "      <td>13.0</td>\n",
       "      <td>7.0</td>\n",
       "      <td>51.0</td>\n",
       "      <td>24.0</td>\n",
       "      <td>1019.4</td>\n",
       "      <td>1016.5</td>\n",
       "      <td>15.1</td>\n",
       "      <td>26.0</td>\n",
       "      <td>No</td>\n",
       "      <td>No</td>\n",
       "    </tr>\n",
       "    <tr>\n",
       "      <th>2017-06-25</th>\n",
       "      <td>14.9</td>\n",
       "      <td>NaN</td>\n",
       "      <td>0.0</td>\n",
       "      <td>17.0</td>\n",
       "      <td>17.0</td>\n",
       "      <td>62.0</td>\n",
       "      <td>36.0</td>\n",
       "      <td>1020.2</td>\n",
       "      <td>1017.9</td>\n",
       "      <td>15.0</td>\n",
       "      <td>20.9</td>\n",
       "      <td>No</td>\n",
       "      <td>NaN</td>\n",
       "    </tr>\n",
       "  </tbody>\n",
       "</table>\n",
       "<p>145460 rows × 13 columns</p>\n",
       "</div>"
      ],
      "text/plain": [
       "            MinTemp  MaxTemp  Rainfall  WindSpeed9am  WindSpeed3pm  \\\n",
       "Date                                                                 \n",
       "2008-12-01     13.4     22.9       0.6          20.0          24.0   \n",
       "2008-12-02      7.4     25.1       0.0           4.0          22.0   \n",
       "2008-12-03     12.9     25.7       0.0          19.0          26.0   \n",
       "2008-12-04      9.2     28.0       0.0          11.0           9.0   \n",
       "2008-12-05     17.5     32.3       1.0           7.0          20.0   \n",
       "...             ...      ...       ...           ...           ...   \n",
       "2017-06-21      2.8     23.4       0.0          13.0          11.0   \n",
       "2017-06-22      3.6     25.3       0.0          13.0           9.0   \n",
       "2017-06-23      5.4     26.9       0.0           9.0           9.0   \n",
       "2017-06-24      7.8     27.0       0.0          13.0           7.0   \n",
       "2017-06-25     14.9      NaN       0.0          17.0          17.0   \n",
       "\n",
       "            Humidity9am  Humidity3pm  Pressure9am  Pressure3pm  Temp9am  \\\n",
       "Date                                                                      \n",
       "2008-12-01         71.0         22.0       1007.7       1007.1     16.9   \n",
       "2008-12-02         44.0         25.0       1010.6       1007.8     17.2   \n",
       "2008-12-03         38.0         30.0       1007.6       1008.7     21.0   \n",
       "2008-12-04         45.0         16.0       1017.6       1012.8     18.1   \n",
       "2008-12-05         82.0         33.0       1010.8       1006.0     17.8   \n",
       "...                 ...          ...          ...          ...      ...   \n",
       "2017-06-21         51.0         24.0       1024.6       1020.3     10.1   \n",
       "2017-06-22         56.0         21.0       1023.5       1019.1     10.9   \n",
       "2017-06-23         53.0         24.0       1021.0       1016.8     12.5   \n",
       "2017-06-24         51.0         24.0       1019.4       1016.5     15.1   \n",
       "2017-06-25         62.0         36.0       1020.2       1017.9     15.0   \n",
       "\n",
       "            Temp3pm RainToday RainTomorrow  \n",
       "Date                                        \n",
       "2008-12-01     21.8        No           No  \n",
       "2008-12-02     24.3        No           No  \n",
       "2008-12-03     23.2        No           No  \n",
       "2008-12-04     26.5        No           No  \n",
       "2008-12-05     29.7        No           No  \n",
       "...             ...       ...          ...  \n",
       "2017-06-21     22.4        No           No  \n",
       "2017-06-22     24.5        No           No  \n",
       "2017-06-23     26.1        No           No  \n",
       "2017-06-24     26.0        No           No  \n",
       "2017-06-25     20.9        No          NaN  \n",
       "\n",
       "[145460 rows x 13 columns]"
      ]
     },
     "execution_count": 11,
     "metadata": {},
     "output_type": "execute_result"
    }
   ],
   "source": [
    "raindata"
   ]
  },
  {
   "cell_type": "code",
   "execution_count": 12,
   "id": "a2235cd6",
   "metadata": {},
   "outputs": [
    {
     "data": {
      "text/plain": [
       "<AxesSubplot:title={'center':'MinTemp'}, xlabel='RainToday'>"
      ]
     },
     "execution_count": 12,
     "metadata": {},
     "output_type": "execute_result"
    },
    {
     "data": {
      "image/png": "[encoded data removed]",
      "text/plain": [
       "<Figure size 360x432 with 1 Axes>"
      ]
     },
     "metadata": {
      "needs_background": "light"
     },
     "output_type": "display_data"
    }
   ],
   "source": [
    "raindata.boxplot(column='MinTemp', by='RainToday', figsize=(5,6))"
   ]
  },
  {
   "cell_type": "code",
   "execution_count": 13,
   "id": "f3a9718a",
   "metadata": {},
   "outputs": [
    {
     "data": {
      "text/plain": [
       "<AxesSubplot:title={'center':'MaxTemp'}, xlabel='RainToday'>"
      ]
     },
     "execution_count": 13,
     "metadata": {},
     "output_type": "execute_result"
    },
    {
     "data": {
      "image/png": "[encoded data removed]",
      "text/plain": [
       "<Figure size 360x432 with 1 Axes>"
      ]
     },
     "metadata": {
      "needs_background": "light"
     },
     "output_type": "display_data"
    }
   ],
   "source": [
    "raindata.boxplot(column='MaxTemp', by='RainToday', figsize=(5,6))"
   ]
  },
  {
   "cell_type": "code",
   "execution_count": 14,
   "id": "a70901aa",
   "metadata": {},
   "outputs": [
    {
     "data": {
      "text/plain": [
       "<AxesSubplot:>"
      ]
     },
     "execution_count": 14,
     "metadata": {},
     "output_type": "execute_result"
    },
    {
     "data": {
      "image/png": "[encoded data removed]",
      "text/plain": [
       "<Figure size 576x288 with 1 Axes>"
      ]
     },
     "metadata": {
      "needs_background": "light"
     },
     "output_type": "display_data"
    }
   ],
   "source": [
    "# Generating a boxplot for single column\n",
    "raindata.boxplot(column='Rainfall', figsize=(8,4), vert=False)"
   ]
  },
  {
   "cell_type": "code",
   "execution_count": 15,
   "id": "6a6f7d10",
   "metadata": {},
   "outputs": [
    {
     "data": {
      "text/plain": [
       "<AxesSubplot:>"
      ]
     },
     "execution_count": 15,
     "metadata": {},
     "output_type": "execute_result"
    },
    {
     "data": {
      "image/png": "[encoded data removed]",
      "text/plain": [
       "<Figure size 576x288 with 1 Axes>"
      ]
     },
     "metadata": {
      "needs_background": "light"
     },
     "output_type": "display_data"
    }
   ],
   "source": [
    "# Generating a boxplot for single column\n",
    "raindata.boxplot(column='Pressure3pm', figsize=(8,4), vert=False)"
   ]
  },
  {
   "cell_type": "markdown",
   "id": "42255a75",
   "metadata": {},
   "source": [
    "# Split the Dataset"
   ]
  },
  {
   "cell_type": "code",
   "execution_count": 16,
   "id": "3cc9b40c",
   "metadata": {},
   "outputs": [],
   "source": [
    "#X considers upto Rain Today column\n",
    "X = raindata.iloc[:,:-2].values\n",
    "#Y considers upto Rain Today column\n",
    "Y = raindata.iloc[:,-2].values"
   ]
  },
  {
   "cell_type": "code",
   "execution_count": 17,
   "id": "78fe2d7b",
   "metadata": {},
   "outputs": [
    {
     "name": "stdout",
     "output_type": "stream",
     "text": [
      "[[1.3400e+01 2.2900e+01 6.0000e-01 ... 1.0071e+03 1.6900e+01 2.1800e+01]\n",
      " [7.4000e+00 2.5100e+01 0.0000e+00 ... 1.0078e+03 1.7200e+01 2.4300e+01]\n",
      " [1.2900e+01 2.5700e+01 0.0000e+00 ... 1.0087e+03 2.1000e+01 2.3200e+01]\n",
      " ...\n",
      " [5.4000e+00 2.6900e+01 0.0000e+00 ... 1.0168e+03 1.2500e+01 2.6100e+01]\n",
      " [7.8000e+00 2.7000e+01 0.0000e+00 ... 1.0165e+03 1.5100e+01 2.6000e+01]\n",
      " [1.4900e+01        nan 0.0000e+00 ... 1.0179e+03 1.5000e+01 2.0900e+01]]\n"
     ]
    }
   ],
   "source": [
    "print(X)"
   ]
  },
  {
   "cell_type": "code",
   "execution_count": 18,
   "id": "25b881ad",
   "metadata": {},
   "outputs": [
    {
     "name": "stdout",
     "output_type": "stream",
     "text": [
      "['No' 'No' 'No' ... 'No' 'No' 'No']\n"
     ]
    }
   ],
   "source": [
    "print(Y)"
   ]
  },
  {
   "cell_type": "markdown",
   "id": "98eff4e5",
   "metadata": {},
   "source": [
    "# Encoding Dataset"
   ]
  },
  {
   "cell_type": "code",
   "execution_count": 19,
   "id": "9dec1286",
   "metadata": {},
   "outputs": [],
   "source": [
    "from sklearn.preprocessing import LabelEncoder\n",
    "\n",
    "label = LabelEncoder()\n",
    "Y = label.fit_transform(Y)"
   ]
  },
  {
   "cell_type": "code",
   "execution_count": 20,
   "id": "140906df",
   "metadata": {},
   "outputs": [
    {
     "data": {
      "image/png": "[encoded data removed]",
      "text/plain": [
       "<Figure size 864x720 with 2 Axes>"
      ]
     },
     "metadata": {
      "needs_background": "light"
     },
     "output_type": "display_data"
    }
   ],
   "source": [
    "#Using Pearson Correlation\n",
    "plt.figure(figsize=(12,10))\n",
    "cor = raindata.corr()\n",
    "sns.heatmap(cor, annot=True, cmap=plt.cm.Reds)\n",
    "plt.show()"
   ]
  },
  {
   "cell_type": "code",
   "execution_count": 21,
   "id": "c82e4dfa",
   "metadata": {},
   "outputs": [
    {
     "data": {
      "text/plain": [
       "MinTemp        0.103938\n",
       "Rainfall       1.000000\n",
       "Humidity9am    0.224405\n",
       "Humidity3pm    0.255755\n",
       "Pressure9am    0.168154\n",
       "Pressure3pm    0.126534\n",
       "Name: Rainfall, dtype: float64"
      ]
     },
     "execution_count": 21,
     "metadata": {},
     "output_type": "execute_result"
    }
   ],
   "source": [
    "#Correlation with output variable\n",
    "cor_target = abs(cor[\"Rainfall\"])\n",
    "#Selecting highly correlated features\n",
    "relevant_features = cor_target[cor_target>0.1]\n",
    "relevant_features"
   ]
  },
  {
   "cell_type": "markdown",
   "id": "b8ab6690",
   "metadata": {},
   "source": [
    "# Replacing missing values"
   ]
  },
  {
   "cell_type": "code",
   "execution_count": 22,
   "id": "d184a16d",
   "metadata": {},
   "outputs": [
    {
     "data": {
      "text/plain": [
       "MinTemp          1485\n",
       "MaxTemp          1261\n",
       "Rainfall         3261\n",
       "WindSpeed9am     1767\n",
       "WindSpeed3pm     3062\n",
       "Humidity9am      2654\n",
       "Humidity3pm      4507\n",
       "Pressure9am     15065\n",
       "Pressure3pm     15028\n",
       "Temp9am          1767\n",
       "Temp3pm          3609\n",
       "RainToday        3261\n",
       "RainTomorrow     3267\n",
       "dtype: int64"
      ]
     },
     "execution_count": 22,
     "metadata": {},
     "output_type": "execute_result"
    }
   ],
   "source": [
    "#missing values\n",
    "raindata.apply(pd.isnull).sum()"
   ]
  },
  {
   "cell_type": "code",
   "execution_count": 23,
   "id": "e5e89519",
   "metadata": {},
   "outputs": [],
   "source": [
    "from sklearn.impute import SimpleImputer\n",
    "#arguments --> NaN values \n",
    "#simple imputer class is going to point on all the missing values and \n",
    "#'strategy' --> what to replace - with most frequent values\n",
    "imputer1 = SimpleImputer(missing_values = np.nan, strategy ='mean')\n",
    "imputer2 = SimpleImputer(missing_values = np.nan, strategy ='most_frequent')"
   ]
  },
  {
   "cell_type": "code",
   "execution_count": 24,
   "id": "5ea345f8",
   "metadata": {},
   "outputs": [],
   "source": [
    "#dataset['Pressure9am'] = dataset['Pressure9am'].fillna(dataset['Pressure9am'].value_counts().index[0])"
   ]
  },
  {
   "cell_type": "code",
   "execution_count": 25,
   "id": "0202a53c",
   "metadata": {},
   "outputs": [
    {
     "name": "stdout",
     "output_type": "stream",
     "text": [
      "[[1.3400e+01 2.2900e+01 6.0000e-01 ... 1.0071e+03 1.6900e+01 2.1800e+01]\n",
      " [7.4000e+00 2.5100e+01 0.0000e+00 ... 1.0078e+03 1.7200e+01 2.4300e+01]\n",
      " [1.2900e+01 2.5700e+01 0.0000e+00 ... 1.0087e+03 2.1000e+01 2.3200e+01]\n",
      " ...\n",
      " [5.4000e+00 2.6900e+01 0.0000e+00 ... 1.0168e+03 1.2500e+01 2.6100e+01]\n",
      " [7.8000e+00 2.7000e+01 0.0000e+00 ... 1.0165e+03 1.5100e+01 2.6000e+01]\n",
      " [1.4900e+01        nan 0.0000e+00 ... 1.0179e+03 1.5000e+01 2.0900e+01]]\n"
     ]
    }
   ],
   "source": [
    "print(X)"
   ]
  },
  {
   "cell_type": "code",
   "execution_count": 26,
   "id": "1a57761b",
   "metadata": {},
   "outputs": [
    {
     "name": "stdout",
     "output_type": "stream",
     "text": [
      "[[1.3400e+01 2.2900e+01 6.0000e-01 ... 1.0071e+03 1.6900e+01 2.1800e+01]\n",
      " [7.4000e+00 2.5100e+01 0.0000e+00 ... 1.0078e+03 1.7200e+01 2.4300e+01]\n",
      " [1.2900e+01 2.5700e+01 0.0000e+00 ... 1.0087e+03 2.1000e+01 2.3200e+01]\n",
      " ...\n",
      " [5.4000e+00 2.6900e+01 0.0000e+00 ... 1.0168e+03 1.2500e+01 2.6100e+01]\n",
      " [7.8000e+00 2.7000e+01 0.0000e+00 ... 1.0165e+03 1.5100e+01 2.6000e+01]\n",
      " [1.4900e+01        nan 0.0000e+00 ... 1.0179e+03 1.5000e+01 2.0900e+01]]\n"
     ]
    }
   ],
   "source": [
    "print(X)"
   ]
  },
  {
   "cell_type": "code",
   "execution_count": 27,
   "id": "12a671a4",
   "metadata": {},
   "outputs": [],
   "source": [
    "X  = imputer1.fit_transform(X)"
   ]
  },
  {
   "cell_type": "code",
   "execution_count": 28,
   "id": "2ffb3af3",
   "metadata": {},
   "outputs": [
    {
     "name": "stdout",
     "output_type": "stream",
     "text": [
      "[16.9 17.2 21.  ... 12.5 15.1 15. ]\n"
     ]
    }
   ],
   "source": [
    "print(X[:,-2] )"
   ]
  },
  {
   "cell_type": "code",
   "execution_count": 29,
   "id": "8c42ffc4",
   "metadata": {},
   "outputs": [],
   "source": [
    "#dataset['Cloud9am'] = dataset['Cloud9am'].fillna(dataset['Cloud9am'].value_counts().index[0])"
   ]
  },
  {
   "cell_type": "code",
   "execution_count": 30,
   "id": "8b997c47",
   "metadata": {},
   "outputs": [
    {
     "data": {
      "text/plain": [
       "MinTemp          1485\n",
       "MaxTemp          1261\n",
       "Rainfall         3261\n",
       "WindSpeed9am     1767\n",
       "WindSpeed3pm     3062\n",
       "Humidity9am      2654\n",
       "Humidity3pm      4507\n",
       "Pressure9am     15065\n",
       "Pressure3pm     15028\n",
       "Temp9am          1767\n",
       "Temp3pm          3609\n",
       "RainToday        3261\n",
       "RainTomorrow     3267\n",
       "dtype: int64"
      ]
     },
     "execution_count": 30,
     "metadata": {},
     "output_type": "execute_result"
    }
   ],
   "source": [
    "#missing values\n",
    "#raindata.apply(pd.isnull).sum()"
   ]
  },
  {
   "cell_type": "code",
   "execution_count": null,
   "id": "040c5bb9",
   "metadata": {},
   "outputs": [],
   "source": []
  }
 ],
 "metadata": {
  "kernelspec": {
   "display_name": "Python 3 (ipykernel)",
   "language": "python",
   "name": "python3"
  },
  "language_info": {
   "codemirror_mode": {
    "name": "ipython",
    "version": 3
   },
   "file_extension": ".py",
   "mimetype": "text/x-python",
   "name": "python",
   "nbconvert_exporter": "python",
   "pygments_lexer": "ipython3",
   "version": "3.9.7"
  }
 },
 "nbformat": 4,
 "nbformat_minor": 5
}
