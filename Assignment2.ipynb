{
 "cells": [
  {
   "cell_type": "markdown",
   "id": "01a444f7",
   "metadata": {},
   "source": [
    "# Importing Libraries"
   ]
  },
  {
   "cell_type": "code",
   "execution_count": 1,
   "id": "d2167bfe",
   "metadata": {},
   "outputs": [],
   "source": [
    "import numpy as np\n",
    "import pandas as pd\n",
    "#to plot graphs\n",
    "import matplotlib.pyplot as plt\n",
    "import seaborn as sns"
   ]
  },
  {
   "cell_type": "markdown",
   "id": "7e83c012",
   "metadata": {},
   "source": [
    "# Importing Dataset"
   ]
  },
  {
   "cell_type": "code",
   "execution_count": 2,
   "id": "a25c4cf9",
   "metadata": {},
   "outputs": [],
   "source": [
    "#import dataset\n",
    "#set the index - Date column\n",
    "dataset = pd.read_csv('weatherAUS.csv',index_col=\"Date\")"
   ]
  },
  {
   "cell_type": "code",
   "execution_count": 3,
   "id": "babf3b27",
   "metadata": {
    "scrolled": true
   },
   "outputs": [
    {
     "data": {
      "text/html": [
       "<div>\n",
       "<style scoped>\n",
       "    .dataframe tbody tr th:only-of-type {\n",
       "        vertical-align: middle;\n",
       "    }\n",
       "\n",
       "    .dataframe tbody tr th {\n",
       "        vertical-align: top;\n",
       "    }\n",
       "\n",
       "    .dataframe thead th {\n",
       "        text-align: right;\n",
       "    }\n",
       "</style>\n",
       "<table border=\"1\" class=\"dataframe\">\n",
       "  <thead>\n",
       "    <tr style=\"text-align: right;\">\n",
       "      <th></th>\n",
       "      <th>Location</th>\n",
       "      <th>MinTemp</th>\n",
       "      <th>MaxTemp</th>\n",
       "      <th>Rainfall</th>\n",
       "      <th>Evaporation</th>\n",
       "      <th>Sunshine</th>\n",
       "      <th>WindGustDir</th>\n",
       "      <th>WindGustSpeed</th>\n",
       "      <th>WindDir9am</th>\n",
       "      <th>WindDir3pm</th>\n",
       "      <th>...</th>\n",
       "      <th>Humidity9am</th>\n",
       "      <th>Humidity3pm</th>\n",
       "      <th>Pressure9am</th>\n",
       "      <th>Pressure3pm</th>\n",
       "      <th>Cloud9am</th>\n",
       "      <th>Cloud3pm</th>\n",
       "      <th>Temp9am</th>\n",
       "      <th>Temp3pm</th>\n",
       "      <th>RainToday</th>\n",
       "      <th>RainTomorrow</th>\n",
       "    </tr>\n",
       "    <tr>\n",
       "      <th>Date</th>\n",
       "      <th></th>\n",
       "      <th></th>\n",
       "      <th></th>\n",
       "      <th></th>\n",
       "      <th></th>\n",
       "      <th></th>\n",
       "      <th></th>\n",
       "      <th></th>\n",
       "      <th></th>\n",
       "      <th></th>\n",
       "      <th></th>\n",
       "      <th></th>\n",
       "      <th></th>\n",
       "      <th></th>\n",
       "      <th></th>\n",
       "      <th></th>\n",
       "      <th></th>\n",
       "      <th></th>\n",
       "      <th></th>\n",
       "      <th></th>\n",
       "      <th></th>\n",
       "    </tr>\n",
       "  </thead>\n",
       "  <tbody>\n",
       "    <tr>\n",
       "      <th>2008-12-01</th>\n",
       "      <td>Albury</td>\n",
       "      <td>13.4</td>\n",
       "      <td>22.9</td>\n",
       "      <td>0.6</td>\n",
       "      <td>NaN</td>\n",
       "      <td>NaN</td>\n",
       "      <td>W</td>\n",
       "      <td>44.0</td>\n",
       "      <td>W</td>\n",
       "      <td>WNW</td>\n",
       "      <td>...</td>\n",
       "      <td>71.0</td>\n",
       "      <td>22.0</td>\n",
       "      <td>1007.7</td>\n",
       "      <td>1007.1</td>\n",
       "      <td>8.0</td>\n",
       "      <td>NaN</td>\n",
       "      <td>16.9</td>\n",
       "      <td>21.8</td>\n",
       "      <td>No</td>\n",
       "      <td>No</td>\n",
       "    </tr>\n",
       "    <tr>\n",
       "      <th>2008-12-02</th>\n",
       "      <td>Albury</td>\n",
       "      <td>7.4</td>\n",
       "      <td>25.1</td>\n",
       "      <td>0.0</td>\n",
       "      <td>NaN</td>\n",
       "      <td>NaN</td>\n",
       "      <td>WNW</td>\n",
       "      <td>44.0</td>\n",
       "      <td>NNW</td>\n",
       "      <td>WSW</td>\n",
       "      <td>...</td>\n",
       "      <td>44.0</td>\n",
       "      <td>25.0</td>\n",
       "      <td>1010.6</td>\n",
       "      <td>1007.8</td>\n",
       "      <td>NaN</td>\n",
       "      <td>NaN</td>\n",
       "      <td>17.2</td>\n",
       "      <td>24.3</td>\n",
       "      <td>No</td>\n",
       "      <td>No</td>\n",
       "    </tr>\n",
       "    <tr>\n",
       "      <th>2008-12-03</th>\n",
       "      <td>Albury</td>\n",
       "      <td>12.9</td>\n",
       "      <td>25.7</td>\n",
       "      <td>0.0</td>\n",
       "      <td>NaN</td>\n",
       "      <td>NaN</td>\n",
       "      <td>WSW</td>\n",
       "      <td>46.0</td>\n",
       "      <td>W</td>\n",
       "      <td>WSW</td>\n",
       "      <td>...</td>\n",
       "      <td>38.0</td>\n",
       "      <td>30.0</td>\n",
       "      <td>1007.6</td>\n",
       "      <td>1008.7</td>\n",
       "      <td>NaN</td>\n",
       "      <td>2.0</td>\n",
       "      <td>21.0</td>\n",
       "      <td>23.2</td>\n",
       "      <td>No</td>\n",
       "      <td>No</td>\n",
       "    </tr>\n",
       "    <tr>\n",
       "      <th>2008-12-04</th>\n",
       "      <td>Albury</td>\n",
       "      <td>9.2</td>\n",
       "      <td>28.0</td>\n",
       "      <td>0.0</td>\n",
       "      <td>NaN</td>\n",
       "      <td>NaN</td>\n",
       "      <td>NE</td>\n",
       "      <td>24.0</td>\n",
       "      <td>SE</td>\n",
       "      <td>E</td>\n",
       "      <td>...</td>\n",
       "      <td>45.0</td>\n",
       "      <td>16.0</td>\n",
       "      <td>1017.6</td>\n",
       "      <td>1012.8</td>\n",
       "      <td>NaN</td>\n",
       "      <td>NaN</td>\n",
       "      <td>18.1</td>\n",
       "      <td>26.5</td>\n",
       "      <td>No</td>\n",
       "      <td>No</td>\n",
       "    </tr>\n",
       "    <tr>\n",
       "      <th>2008-12-05</th>\n",
       "      <td>Albury</td>\n",
       "      <td>17.5</td>\n",
       "      <td>32.3</td>\n",
       "      <td>1.0</td>\n",
       "      <td>NaN</td>\n",
       "      <td>NaN</td>\n",
       "      <td>W</td>\n",
       "      <td>41.0</td>\n",
       "      <td>ENE</td>\n",
       "      <td>NW</td>\n",
       "      <td>...</td>\n",
       "      <td>82.0</td>\n",
       "      <td>33.0</td>\n",
       "      <td>1010.8</td>\n",
       "      <td>1006.0</td>\n",
       "      <td>7.0</td>\n",
       "      <td>8.0</td>\n",
       "      <td>17.8</td>\n",
       "      <td>29.7</td>\n",
       "      <td>No</td>\n",
       "      <td>No</td>\n",
       "    </tr>\n",
       "    <tr>\n",
       "      <th>...</th>\n",
       "      <td>...</td>\n",
       "      <td>...</td>\n",
       "      <td>...</td>\n",
       "      <td>...</td>\n",
       "      <td>...</td>\n",
       "      <td>...</td>\n",
       "      <td>...</td>\n",
       "      <td>...</td>\n",
       "      <td>...</td>\n",
       "      <td>...</td>\n",
       "      <td>...</td>\n",
       "      <td>...</td>\n",
       "      <td>...</td>\n",
       "      <td>...</td>\n",
       "      <td>...</td>\n",
       "      <td>...</td>\n",
       "      <td>...</td>\n",
       "      <td>...</td>\n",
       "      <td>...</td>\n",
       "      <td>...</td>\n",
       "      <td>...</td>\n",
       "    </tr>\n",
       "    <tr>\n",
       "      <th>2017-06-21</th>\n",
       "      <td>Uluru</td>\n",
       "      <td>2.8</td>\n",
       "      <td>23.4</td>\n",
       "      <td>0.0</td>\n",
       "      <td>NaN</td>\n",
       "      <td>NaN</td>\n",
       "      <td>E</td>\n",
       "      <td>31.0</td>\n",
       "      <td>SE</td>\n",
       "      <td>ENE</td>\n",
       "      <td>...</td>\n",
       "      <td>51.0</td>\n",
       "      <td>24.0</td>\n",
       "      <td>1024.6</td>\n",
       "      <td>1020.3</td>\n",
       "      <td>NaN</td>\n",
       "      <td>NaN</td>\n",
       "      <td>10.1</td>\n",
       "      <td>22.4</td>\n",
       "      <td>No</td>\n",
       "      <td>No</td>\n",
       "    </tr>\n",
       "    <tr>\n",
       "      <th>2017-06-22</th>\n",
       "      <td>Uluru</td>\n",
       "      <td>3.6</td>\n",
       "      <td>25.3</td>\n",
       "      <td>0.0</td>\n",
       "      <td>NaN</td>\n",
       "      <td>NaN</td>\n",
       "      <td>NNW</td>\n",
       "      <td>22.0</td>\n",
       "      <td>SE</td>\n",
       "      <td>N</td>\n",
       "      <td>...</td>\n",
       "      <td>56.0</td>\n",
       "      <td>21.0</td>\n",
       "      <td>1023.5</td>\n",
       "      <td>1019.1</td>\n",
       "      <td>NaN</td>\n",
       "      <td>NaN</td>\n",
       "      <td>10.9</td>\n",
       "      <td>24.5</td>\n",
       "      <td>No</td>\n",
       "      <td>No</td>\n",
       "    </tr>\n",
       "    <tr>\n",
       "      <th>2017-06-23</th>\n",
       "      <td>Uluru</td>\n",
       "      <td>5.4</td>\n",
       "      <td>26.9</td>\n",
       "      <td>0.0</td>\n",
       "      <td>NaN</td>\n",
       "      <td>NaN</td>\n",
       "      <td>N</td>\n",
       "      <td>37.0</td>\n",
       "      <td>SE</td>\n",
       "      <td>WNW</td>\n",
       "      <td>...</td>\n",
       "      <td>53.0</td>\n",
       "      <td>24.0</td>\n",
       "      <td>1021.0</td>\n",
       "      <td>1016.8</td>\n",
       "      <td>NaN</td>\n",
       "      <td>NaN</td>\n",
       "      <td>12.5</td>\n",
       "      <td>26.1</td>\n",
       "      <td>No</td>\n",
       "      <td>No</td>\n",
       "    </tr>\n",
       "    <tr>\n",
       "      <th>2017-06-24</th>\n",
       "      <td>Uluru</td>\n",
       "      <td>7.8</td>\n",
       "      <td>27.0</td>\n",
       "      <td>0.0</td>\n",
       "      <td>NaN</td>\n",
       "      <td>NaN</td>\n",
       "      <td>SE</td>\n",
       "      <td>28.0</td>\n",
       "      <td>SSE</td>\n",
       "      <td>N</td>\n",
       "      <td>...</td>\n",
       "      <td>51.0</td>\n",
       "      <td>24.0</td>\n",
       "      <td>1019.4</td>\n",
       "      <td>1016.5</td>\n",
       "      <td>3.0</td>\n",
       "      <td>2.0</td>\n",
       "      <td>15.1</td>\n",
       "      <td>26.0</td>\n",
       "      <td>No</td>\n",
       "      <td>No</td>\n",
       "    </tr>\n",
       "    <tr>\n",
       "      <th>2017-06-25</th>\n",
       "      <td>Uluru</td>\n",
       "      <td>14.9</td>\n",
       "      <td>NaN</td>\n",
       "      <td>0.0</td>\n",
       "      <td>NaN</td>\n",
       "      <td>NaN</td>\n",
       "      <td>NaN</td>\n",
       "      <td>NaN</td>\n",
       "      <td>ESE</td>\n",
       "      <td>ESE</td>\n",
       "      <td>...</td>\n",
       "      <td>62.0</td>\n",
       "      <td>36.0</td>\n",
       "      <td>1020.2</td>\n",
       "      <td>1017.9</td>\n",
       "      <td>8.0</td>\n",
       "      <td>8.0</td>\n",
       "      <td>15.0</td>\n",
       "      <td>20.9</td>\n",
       "      <td>No</td>\n",
       "      <td>NaN</td>\n",
       "    </tr>\n",
       "  </tbody>\n",
       "</table>\n",
       "<p>145460 rows × 22 columns</p>\n",
       "</div>"
      ],
      "text/plain": [
       "           Location  MinTemp  MaxTemp  Rainfall  Evaporation  Sunshine  \\\n",
       "Date                                                                     \n",
       "2008-12-01   Albury     13.4     22.9       0.6          NaN       NaN   \n",
       "2008-12-02   Albury      7.4     25.1       0.0          NaN       NaN   \n",
       "2008-12-03   Albury     12.9     25.7       0.0          NaN       NaN   \n",
       "2008-12-04   Albury      9.2     28.0       0.0          NaN       NaN   \n",
       "2008-12-05   Albury     17.5     32.3       1.0          NaN       NaN   \n",
       "...             ...      ...      ...       ...          ...       ...   \n",
       "2017-06-21    Uluru      2.8     23.4       0.0          NaN       NaN   \n",
       "2017-06-22    Uluru      3.6     25.3       0.0          NaN       NaN   \n",
       "2017-06-23    Uluru      5.4     26.9       0.0          NaN       NaN   \n",
       "2017-06-24    Uluru      7.8     27.0       0.0          NaN       NaN   \n",
       "2017-06-25    Uluru     14.9      NaN       0.0          NaN       NaN   \n",
       "\n",
       "           WindGustDir  WindGustSpeed WindDir9am WindDir3pm  ...  Humidity9am  \\\n",
       "Date                                                         ...                \n",
       "2008-12-01           W           44.0          W        WNW  ...         71.0   \n",
       "2008-12-02         WNW           44.0        NNW        WSW  ...         44.0   \n",
       "2008-12-03         WSW           46.0          W        WSW  ...         38.0   \n",
       "2008-12-04          NE           24.0         SE          E  ...         45.0   \n",
       "2008-12-05           W           41.0        ENE         NW  ...         82.0   \n",
       "...                ...            ...        ...        ...  ...          ...   \n",
       "2017-06-21           E           31.0         SE        ENE  ...         51.0   \n",
       "2017-06-22         NNW           22.0         SE          N  ...         56.0   \n",
       "2017-06-23           N           37.0         SE        WNW  ...         53.0   \n",
       "2017-06-24          SE           28.0        SSE          N  ...         51.0   \n",
       "2017-06-25         NaN            NaN        ESE        ESE  ...         62.0   \n",
       "\n",
       "            Humidity3pm  Pressure9am  Pressure3pm  Cloud9am  Cloud3pm  \\\n",
       "Date                                                                    \n",
       "2008-12-01         22.0       1007.7       1007.1       8.0       NaN   \n",
       "2008-12-02         25.0       1010.6       1007.8       NaN       NaN   \n",
       "2008-12-03         30.0       1007.6       1008.7       NaN       2.0   \n",
       "2008-12-04         16.0       1017.6       1012.8       NaN       NaN   \n",
       "2008-12-05         33.0       1010.8       1006.0       7.0       8.0   \n",
       "...                 ...          ...          ...       ...       ...   \n",
       "2017-06-21         24.0       1024.6       1020.3       NaN       NaN   \n",
       "2017-06-22         21.0       1023.5       1019.1       NaN       NaN   \n",
       "2017-06-23         24.0       1021.0       1016.8       NaN       NaN   \n",
       "2017-06-24         24.0       1019.4       1016.5       3.0       2.0   \n",
       "2017-06-25         36.0       1020.2       1017.9       8.0       8.0   \n",
       "\n",
       "            Temp9am  Temp3pm  RainToday  RainTomorrow  \n",
       "Date                                                   \n",
       "2008-12-01     16.9     21.8         No            No  \n",
       "2008-12-02     17.2     24.3         No            No  \n",
       "2008-12-03     21.0     23.2         No            No  \n",
       "2008-12-04     18.1     26.5         No            No  \n",
       "2008-12-05     17.8     29.7         No            No  \n",
       "...             ...      ...        ...           ...  \n",
       "2017-06-21     10.1     22.4         No            No  \n",
       "2017-06-22     10.9     24.5         No            No  \n",
       "2017-06-23     12.5     26.1         No            No  \n",
       "2017-06-24     15.1     26.0         No            No  \n",
       "2017-06-25     15.0     20.9         No           NaN  \n",
       "\n",
       "[145460 rows x 22 columns]"
      ]
     },
     "execution_count": 3,
     "metadata": {},
     "output_type": "execute_result"
    }
   ],
   "source": [
    "#display dataset\n",
    "dataset"
   ]
  },
  {
   "cell_type": "code",
   "execution_count": 4,
   "id": "8ff75253",
   "metadata": {},
   "outputs": [
    {
     "name": "stdout",
     "output_type": "stream",
     "text": [
      "Length of rainfall dataset:  145460\n"
     ]
    }
   ],
   "source": [
    "#Length of the dataset\n",
    "print(\"Length of rainfall dataset: \", len(dataset))"
   ]
  },
  {
   "cell_type": "code",
   "execution_count": 5,
   "id": "53e69d77",
   "metadata": {},
   "outputs": [
    {
     "name": "stdout",
     "output_type": "stream",
     "text": [
      "Data Shape:  (145460, 22)\n"
     ]
    }
   ],
   "source": [
    "#Shape of the Dataset\n",
    "print(\"Data Shape: \", dataset.shape)"
   ]
  },
  {
   "cell_type": "markdown",
   "id": "7db15c8f",
   "metadata": {},
   "source": [
    "# Data Preprocessing"
   ]
  },
  {
   "cell_type": "code",
   "execution_count": 6,
   "id": "afa60c77",
   "metadata": {},
   "outputs": [
    {
     "data": {
      "text/plain": [
       "Location          object\n",
       "MinTemp          float64\n",
       "MaxTemp          float64\n",
       "Rainfall         float64\n",
       "Evaporation      float64\n",
       "Sunshine         float64\n",
       "WindGustDir       object\n",
       "WindGustSpeed    float64\n",
       "WindDir9am        object\n",
       "WindDir3pm        object\n",
       "WindSpeed9am     float64\n",
       "WindSpeed3pm     float64\n",
       "Humidity9am      float64\n",
       "Humidity3pm      float64\n",
       "Pressure9am      float64\n",
       "Pressure3pm      float64\n",
       "Cloud9am         float64\n",
       "Cloud3pm         float64\n",
       "Temp9am          float64\n",
       "Temp3pm          float64\n",
       "RainToday         object\n",
       "RainTomorrow      object\n",
       "dtype: object"
      ]
     },
     "execution_count": 6,
     "metadata": {},
     "output_type": "execute_result"
    }
   ],
   "source": [
    "#data types of the attributes\n",
    "dataset.dtypes"
   ]
  },
  {
   "cell_type": "code",
   "execution_count": 7,
   "id": "ad022c0f",
   "metadata": {},
   "outputs": [
    {
     "data": {
      "text/plain": [
       "Location             0\n",
       "MinTemp           1485\n",
       "MaxTemp           1261\n",
       "Rainfall          3261\n",
       "Evaporation      62790\n",
       "Sunshine         69835\n",
       "WindGustDir      10326\n",
       "WindGustSpeed    10263\n",
       "WindDir9am       10566\n",
       "WindDir3pm        4228\n",
       "WindSpeed9am      1767\n",
       "WindSpeed3pm      3062\n",
       "Humidity9am       2654\n",
       "Humidity3pm       4507\n",
       "Pressure9am      15065\n",
       "Pressure3pm      15028\n",
       "Cloud9am         55888\n",
       "Cloud3pm         59358\n",
       "Temp9am           1767\n",
       "Temp3pm           3609\n",
       "RainToday         3261\n",
       "RainTomorrow      3267\n",
       "dtype: int64"
      ]
     },
     "execution_count": 7,
     "metadata": {},
     "output_type": "execute_result"
    }
   ],
   "source": [
    "#missing values\n",
    "dataset.apply(pd.isnull).sum()"
   ]
  },
  {
   "cell_type": "code",
   "execution_count": 8,
   "id": "76e09931",
   "metadata": {},
   "outputs": [
    {
     "data": {
      "text/plain": [
       "Location         0.000000\n",
       "MinTemp          0.010209\n",
       "MaxTemp          0.008669\n",
       "Rainfall         0.022419\n",
       "Evaporation      0.431665\n",
       "Sunshine         0.480098\n",
       "WindGustDir      0.070989\n",
       "WindGustSpeed    0.070555\n",
       "WindDir9am       0.072639\n",
       "WindDir3pm       0.029066\n",
       "WindSpeed9am     0.012148\n",
       "WindSpeed3pm     0.021050\n",
       "Humidity9am      0.018246\n",
       "Humidity3pm      0.030984\n",
       "Pressure9am      0.103568\n",
       "Pressure3pm      0.103314\n",
       "Cloud9am         0.384216\n",
       "Cloud3pm         0.408071\n",
       "Temp9am          0.012148\n",
       "Temp3pm          0.024811\n",
       "RainToday        0.022419\n",
       "RainTomorrow     0.022460\n",
       "dtype: float64"
      ]
     },
     "execution_count": 8,
     "metadata": {},
     "output_type": "execute_result"
    }
   ],
   "source": [
    "#missing values as a percentage\n",
    "dataset.apply(pd.isnull).sum()/dataset.shape[0]"
   ]
  },
  {
   "cell_type": "code",
   "execution_count": 9,
   "id": "bc5ffa6e",
   "metadata": {},
   "outputs": [],
   "source": [
    "#copy the dataset to a dataframe\n",
    "raindata = dataset.copy()"
   ]
  },
  {
   "cell_type": "code",
   "execution_count": 10,
   "id": "b0613cc9",
   "metadata": {},
   "outputs": [],
   "source": [
    "#select the necessary columns from the copied dataset\n",
    "raindata = raindata [['MinTemp', 'MaxTemp','Rainfall','WindSpeed9am','WindSpeed3pm','Humidity9am','Humidity3pm', 'Pressure9am','Pressure3pm','Temp9am','Temp3pm','RainToday']]"
   ]
  },
  {
   "cell_type": "code",
   "execution_count": 11,
   "id": "f075d1d2",
   "metadata": {},
   "outputs": [
    {
     "data": {
      "text/html": [
       "<div>\n",
       "<style scoped>\n",
       "    .dataframe tbody tr th:only-of-type {\n",
       "        vertical-align: middle;\n",
       "    }\n",
       "\n",
       "    .dataframe tbody tr th {\n",
       "        vertical-align: top;\n",
       "    }\n",
       "\n",
       "    .dataframe thead th {\n",
       "        text-align: right;\n",
       "    }\n",
       "</style>\n",
       "<table border=\"1\" class=\"dataframe\">\n",
       "  <thead>\n",
       "    <tr style=\"text-align: right;\">\n",
       "      <th></th>\n",
       "      <th>MinTemp</th>\n",
       "      <th>MaxTemp</th>\n",
       "      <th>Rainfall</th>\n",
       "      <th>WindSpeed9am</th>\n",
       "      <th>WindSpeed3pm</th>\n",
       "      <th>Humidity9am</th>\n",
       "      <th>Humidity3pm</th>\n",
       "      <th>Pressure9am</th>\n",
       "      <th>Pressure3pm</th>\n",
       "      <th>Temp9am</th>\n",
       "      <th>Temp3pm</th>\n",
       "      <th>RainToday</th>\n",
       "    </tr>\n",
       "    <tr>\n",
       "      <th>Date</th>\n",
       "      <th></th>\n",
       "      <th></th>\n",
       "      <th></th>\n",
       "      <th></th>\n",
       "      <th></th>\n",
       "      <th></th>\n",
       "      <th></th>\n",
       "      <th></th>\n",
       "      <th></th>\n",
       "      <th></th>\n",
       "      <th></th>\n",
       "      <th></th>\n",
       "    </tr>\n",
       "  </thead>\n",
       "  <tbody>\n",
       "    <tr>\n",
       "      <th>2008-12-01</th>\n",
       "      <td>13.4</td>\n",
       "      <td>22.9</td>\n",
       "      <td>0.6</td>\n",
       "      <td>20.0</td>\n",
       "      <td>24.0</td>\n",
       "      <td>71.0</td>\n",
       "      <td>22.0</td>\n",
       "      <td>1007.7</td>\n",
       "      <td>1007.1</td>\n",
       "      <td>16.9</td>\n",
       "      <td>21.8</td>\n",
       "      <td>No</td>\n",
       "    </tr>\n",
       "    <tr>\n",
       "      <th>2008-12-02</th>\n",
       "      <td>7.4</td>\n",
       "      <td>25.1</td>\n",
       "      <td>0.0</td>\n",
       "      <td>4.0</td>\n",
       "      <td>22.0</td>\n",
       "      <td>44.0</td>\n",
       "      <td>25.0</td>\n",
       "      <td>1010.6</td>\n",
       "      <td>1007.8</td>\n",
       "      <td>17.2</td>\n",
       "      <td>24.3</td>\n",
       "      <td>No</td>\n",
       "    </tr>\n",
       "    <tr>\n",
       "      <th>2008-12-03</th>\n",
       "      <td>12.9</td>\n",
       "      <td>25.7</td>\n",
       "      <td>0.0</td>\n",
       "      <td>19.0</td>\n",
       "      <td>26.0</td>\n",
       "      <td>38.0</td>\n",
       "      <td>30.0</td>\n",
       "      <td>1007.6</td>\n",
       "      <td>1008.7</td>\n",
       "      <td>21.0</td>\n",
       "      <td>23.2</td>\n",
       "      <td>No</td>\n",
       "    </tr>\n",
       "    <tr>\n",
       "      <th>2008-12-04</th>\n",
       "      <td>9.2</td>\n",
       "      <td>28.0</td>\n",
       "      <td>0.0</td>\n",
       "      <td>11.0</td>\n",
       "      <td>9.0</td>\n",
       "      <td>45.0</td>\n",
       "      <td>16.0</td>\n",
       "      <td>1017.6</td>\n",
       "      <td>1012.8</td>\n",
       "      <td>18.1</td>\n",
       "      <td>26.5</td>\n",
       "      <td>No</td>\n",
       "    </tr>\n",
       "    <tr>\n",
       "      <th>2008-12-05</th>\n",
       "      <td>17.5</td>\n",
       "      <td>32.3</td>\n",
       "      <td>1.0</td>\n",
       "      <td>7.0</td>\n",
       "      <td>20.0</td>\n",
       "      <td>82.0</td>\n",
       "      <td>33.0</td>\n",
       "      <td>1010.8</td>\n",
       "      <td>1006.0</td>\n",
       "      <td>17.8</td>\n",
       "      <td>29.7</td>\n",
       "      <td>No</td>\n",
       "    </tr>\n",
       "    <tr>\n",
       "      <th>...</th>\n",
       "      <td>...</td>\n",
       "      <td>...</td>\n",
       "      <td>...</td>\n",
       "      <td>...</td>\n",
       "      <td>...</td>\n",
       "      <td>...</td>\n",
       "      <td>...</td>\n",
       "      <td>...</td>\n",
       "      <td>...</td>\n",
       "      <td>...</td>\n",
       "      <td>...</td>\n",
       "      <td>...</td>\n",
       "    </tr>\n",
       "    <tr>\n",
       "      <th>2017-06-21</th>\n",
       "      <td>2.8</td>\n",
       "      <td>23.4</td>\n",
       "      <td>0.0</td>\n",
       "      <td>13.0</td>\n",
       "      <td>11.0</td>\n",
       "      <td>51.0</td>\n",
       "      <td>24.0</td>\n",
       "      <td>1024.6</td>\n",
       "      <td>1020.3</td>\n",
       "      <td>10.1</td>\n",
       "      <td>22.4</td>\n",
       "      <td>No</td>\n",
       "    </tr>\n",
       "    <tr>\n",
       "      <th>2017-06-22</th>\n",
       "      <td>3.6</td>\n",
       "      <td>25.3</td>\n",
       "      <td>0.0</td>\n",
       "      <td>13.0</td>\n",
       "      <td>9.0</td>\n",
       "      <td>56.0</td>\n",
       "      <td>21.0</td>\n",
       "      <td>1023.5</td>\n",
       "      <td>1019.1</td>\n",
       "      <td>10.9</td>\n",
       "      <td>24.5</td>\n",
       "      <td>No</td>\n",
       "    </tr>\n",
       "    <tr>\n",
       "      <th>2017-06-23</th>\n",
       "      <td>5.4</td>\n",
       "      <td>26.9</td>\n",
       "      <td>0.0</td>\n",
       "      <td>9.0</td>\n",
       "      <td>9.0</td>\n",
       "      <td>53.0</td>\n",
       "      <td>24.0</td>\n",
       "      <td>1021.0</td>\n",
       "      <td>1016.8</td>\n",
       "      <td>12.5</td>\n",
       "      <td>26.1</td>\n",
       "      <td>No</td>\n",
       "    </tr>\n",
       "    <tr>\n",
       "      <th>2017-06-24</th>\n",
       "      <td>7.8</td>\n",
       "      <td>27.0</td>\n",
       "      <td>0.0</td>\n",
       "      <td>13.0</td>\n",
       "      <td>7.0</td>\n",
       "      <td>51.0</td>\n",
       "      <td>24.0</td>\n",
       "      <td>1019.4</td>\n",
       "      <td>1016.5</td>\n",
       "      <td>15.1</td>\n",
       "      <td>26.0</td>\n",
       "      <td>No</td>\n",
       "    </tr>\n",
       "    <tr>\n",
       "      <th>2017-06-25</th>\n",
       "      <td>14.9</td>\n",
       "      <td>NaN</td>\n",
       "      <td>0.0</td>\n",
       "      <td>17.0</td>\n",
       "      <td>17.0</td>\n",
       "      <td>62.0</td>\n",
       "      <td>36.0</td>\n",
       "      <td>1020.2</td>\n",
       "      <td>1017.9</td>\n",
       "      <td>15.0</td>\n",
       "      <td>20.9</td>\n",
       "      <td>No</td>\n",
       "    </tr>\n",
       "  </tbody>\n",
       "</table>\n",
       "<p>145460 rows × 12 columns</p>\n",
       "</div>"
      ],
      "text/plain": [
       "            MinTemp  MaxTemp  Rainfall  WindSpeed9am  WindSpeed3pm  \\\n",
       "Date                                                                 \n",
       "2008-12-01     13.4     22.9       0.6          20.0          24.0   \n",
       "2008-12-02      7.4     25.1       0.0           4.0          22.0   \n",
       "2008-12-03     12.9     25.7       0.0          19.0          26.0   \n",
       "2008-12-04      9.2     28.0       0.0          11.0           9.0   \n",
       "2008-12-05     17.5     32.3       1.0           7.0          20.0   \n",
       "...             ...      ...       ...           ...           ...   \n",
       "2017-06-21      2.8     23.4       0.0          13.0          11.0   \n",
       "2017-06-22      3.6     25.3       0.0          13.0           9.0   \n",
       "2017-06-23      5.4     26.9       0.0           9.0           9.0   \n",
       "2017-06-24      7.8     27.0       0.0          13.0           7.0   \n",
       "2017-06-25     14.9      NaN       0.0          17.0          17.0   \n",
       "\n",
       "            Humidity9am  Humidity3pm  Pressure9am  Pressure3pm  Temp9am  \\\n",
       "Date                                                                      \n",
       "2008-12-01         71.0         22.0       1007.7       1007.1     16.9   \n",
       "2008-12-02         44.0         25.0       1010.6       1007.8     17.2   \n",
       "2008-12-03         38.0         30.0       1007.6       1008.7     21.0   \n",
       "2008-12-04         45.0         16.0       1017.6       1012.8     18.1   \n",
       "2008-12-05         82.0         33.0       1010.8       1006.0     17.8   \n",
       "...                 ...          ...          ...          ...      ...   \n",
       "2017-06-21         51.0         24.0       1024.6       1020.3     10.1   \n",
       "2017-06-22         56.0         21.0       1023.5       1019.1     10.9   \n",
       "2017-06-23         53.0         24.0       1021.0       1016.8     12.5   \n",
       "2017-06-24         51.0         24.0       1019.4       1016.5     15.1   \n",
       "2017-06-25         62.0         36.0       1020.2       1017.9     15.0   \n",
       "\n",
       "            Temp3pm RainToday  \n",
       "Date                           \n",
       "2008-12-01     21.8        No  \n",
       "2008-12-02     24.3        No  \n",
       "2008-12-03     23.2        No  \n",
       "2008-12-04     26.5        No  \n",
       "2008-12-05     29.7        No  \n",
       "...             ...       ...  \n",
       "2017-06-21     22.4        No  \n",
       "2017-06-22     24.5        No  \n",
       "2017-06-23     26.1        No  \n",
       "2017-06-24     26.0        No  \n",
       "2017-06-25     20.9        No  \n",
       "\n",
       "[145460 rows x 12 columns]"
      ]
     },
     "execution_count": 11,
     "metadata": {},
     "output_type": "execute_result"
    }
   ],
   "source": [
    "#display the new dataframe\n",
    "raindata"
   ]
  },
  {
   "cell_type": "markdown",
   "id": "06c9ebd9",
   "metadata": {},
   "source": [
    "# Verifying Correct Data types"
   ]
  },
  {
   "cell_type": "code",
   "execution_count": 12,
   "id": "c5c99196",
   "metadata": {},
   "outputs": [
    {
     "data": {
      "text/plain": [
       "MinTemp         float64\n",
       "MaxTemp         float64\n",
       "Rainfall        float64\n",
       "WindSpeed9am    float64\n",
       "WindSpeed3pm    float64\n",
       "Humidity9am     float64\n",
       "Humidity3pm     float64\n",
       "Pressure9am     float64\n",
       "Pressure3pm     float64\n",
       "Temp9am         float64\n",
       "Temp3pm         float64\n",
       "RainToday        object\n",
       "dtype: object"
      ]
     },
     "execution_count": 12,
     "metadata": {},
     "output_type": "execute_result"
    }
   ],
   "source": [
    "#data types\n",
    "raindata.dtypes"
   ]
  },
  {
   "cell_type": "code",
   "execution_count": 13,
   "id": "8cf9a59b",
   "metadata": {},
   "outputs": [
    {
     "data": {
      "text/plain": [
       "Index(['2008-12-01', '2008-12-02', '2008-12-03', '2008-12-04', '2008-12-05',\n",
       "       '2008-12-06', '2008-12-07', '2008-12-08', '2008-12-09', '2008-12-10',\n",
       "       ...\n",
       "       '2017-06-16', '2017-06-17', '2017-06-18', '2017-06-19', '2017-06-20',\n",
       "       '2017-06-21', '2017-06-22', '2017-06-23', '2017-06-24', '2017-06-25'],\n",
       "      dtype='object', name='Date', length=145460)"
      ]
     },
     "execution_count": 13,
     "metadata": {},
     "output_type": "execute_result"
    }
   ],
   "source": [
    "#check the index of the raindata dataframe\n",
    "raindata.index"
   ]
  },
  {
   "cell_type": "code",
   "execution_count": 14,
   "id": "c8050981",
   "metadata": {},
   "outputs": [],
   "source": [
    "#convert index data type to datetimeindex data type\n",
    "raindata.index = pd.to_datetime(raindata.index)"
   ]
  },
  {
   "cell_type": "code",
   "execution_count": 15,
   "id": "88aaff59",
   "metadata": {},
   "outputs": [
    {
     "data": {
      "text/plain": [
       "DatetimeIndex(['2008-12-01', '2008-12-02', '2008-12-03', '2008-12-04',\n",
       "               '2008-12-05', '2008-12-06', '2008-12-07', '2008-12-08',\n",
       "               '2008-12-09', '2008-12-10',\n",
       "               ...\n",
       "               '2017-06-16', '2017-06-17', '2017-06-18', '2017-06-19',\n",
       "               '2017-06-20', '2017-06-21', '2017-06-22', '2017-06-23',\n",
       "               '2017-06-24', '2017-06-25'],\n",
       "              dtype='datetime64[ns]', name='Date', length=145460, freq=None)"
      ]
     },
     "execution_count": 15,
     "metadata": {},
     "output_type": "execute_result"
    }
   ],
   "source": [
    "#check the index column again\n",
    "raindata.index"
   ]
  },
  {
   "cell_type": "code",
   "execution_count": 16,
   "id": "ac0be314",
   "metadata": {},
   "outputs": [
    {
     "data": {
      "text/html": [
       "<div>\n",
       "<style scoped>\n",
       "    .dataframe tbody tr th:only-of-type {\n",
       "        vertical-align: middle;\n",
       "    }\n",
       "\n",
       "    .dataframe tbody tr th {\n",
       "        vertical-align: top;\n",
       "    }\n",
       "\n",
       "    .dataframe thead th {\n",
       "        text-align: right;\n",
       "    }\n",
       "</style>\n",
       "<table border=\"1\" class=\"dataframe\">\n",
       "  <thead>\n",
       "    <tr style=\"text-align: right;\">\n",
       "      <th></th>\n",
       "      <th>MinTemp</th>\n",
       "      <th>MaxTemp</th>\n",
       "      <th>Rainfall</th>\n",
       "      <th>WindSpeed9am</th>\n",
       "      <th>WindSpeed3pm</th>\n",
       "      <th>Humidity9am</th>\n",
       "      <th>Humidity3pm</th>\n",
       "      <th>Pressure9am</th>\n",
       "      <th>Pressure3pm</th>\n",
       "      <th>Temp9am</th>\n",
       "      <th>Temp3pm</th>\n",
       "      <th>RainToday</th>\n",
       "    </tr>\n",
       "    <tr>\n",
       "      <th>Date</th>\n",
       "      <th></th>\n",
       "      <th></th>\n",
       "      <th></th>\n",
       "      <th></th>\n",
       "      <th></th>\n",
       "      <th></th>\n",
       "      <th></th>\n",
       "      <th></th>\n",
       "      <th></th>\n",
       "      <th></th>\n",
       "      <th></th>\n",
       "      <th></th>\n",
       "    </tr>\n",
       "  </thead>\n",
       "  <tbody>\n",
       "    <tr>\n",
       "      <th>2017-06-21</th>\n",
       "      <td>2.8</td>\n",
       "      <td>23.4</td>\n",
       "      <td>0.0</td>\n",
       "      <td>13.0</td>\n",
       "      <td>11.0</td>\n",
       "      <td>51.0</td>\n",
       "      <td>24.0</td>\n",
       "      <td>1024.6</td>\n",
       "      <td>1020.3</td>\n",
       "      <td>10.1</td>\n",
       "      <td>22.4</td>\n",
       "      <td>No</td>\n",
       "    </tr>\n",
       "    <tr>\n",
       "      <th>2017-06-22</th>\n",
       "      <td>3.6</td>\n",
       "      <td>25.3</td>\n",
       "      <td>0.0</td>\n",
       "      <td>13.0</td>\n",
       "      <td>9.0</td>\n",
       "      <td>56.0</td>\n",
       "      <td>21.0</td>\n",
       "      <td>1023.5</td>\n",
       "      <td>1019.1</td>\n",
       "      <td>10.9</td>\n",
       "      <td>24.5</td>\n",
       "      <td>No</td>\n",
       "    </tr>\n",
       "    <tr>\n",
       "      <th>2017-06-23</th>\n",
       "      <td>5.4</td>\n",
       "      <td>26.9</td>\n",
       "      <td>0.0</td>\n",
       "      <td>9.0</td>\n",
       "      <td>9.0</td>\n",
       "      <td>53.0</td>\n",
       "      <td>24.0</td>\n",
       "      <td>1021.0</td>\n",
       "      <td>1016.8</td>\n",
       "      <td>12.5</td>\n",
       "      <td>26.1</td>\n",
       "      <td>No</td>\n",
       "    </tr>\n",
       "    <tr>\n",
       "      <th>2017-06-24</th>\n",
       "      <td>7.8</td>\n",
       "      <td>27.0</td>\n",
       "      <td>0.0</td>\n",
       "      <td>13.0</td>\n",
       "      <td>7.0</td>\n",
       "      <td>51.0</td>\n",
       "      <td>24.0</td>\n",
       "      <td>1019.4</td>\n",
       "      <td>1016.5</td>\n",
       "      <td>15.1</td>\n",
       "      <td>26.0</td>\n",
       "      <td>No</td>\n",
       "    </tr>\n",
       "    <tr>\n",
       "      <th>2017-06-25</th>\n",
       "      <td>14.9</td>\n",
       "      <td>NaN</td>\n",
       "      <td>0.0</td>\n",
       "      <td>17.0</td>\n",
       "      <td>17.0</td>\n",
       "      <td>62.0</td>\n",
       "      <td>36.0</td>\n",
       "      <td>1020.2</td>\n",
       "      <td>1017.9</td>\n",
       "      <td>15.0</td>\n",
       "      <td>20.9</td>\n",
       "      <td>No</td>\n",
       "    </tr>\n",
       "  </tbody>\n",
       "</table>\n",
       "</div>"
      ],
      "text/plain": [
       "            MinTemp  MaxTemp  Rainfall  WindSpeed9am  WindSpeed3pm  \\\n",
       "Date                                                                 \n",
       "2017-06-21      2.8     23.4       0.0          13.0          11.0   \n",
       "2017-06-22      3.6     25.3       0.0          13.0           9.0   \n",
       "2017-06-23      5.4     26.9       0.0           9.0           9.0   \n",
       "2017-06-24      7.8     27.0       0.0          13.0           7.0   \n",
       "2017-06-25     14.9      NaN       0.0          17.0          17.0   \n",
       "\n",
       "            Humidity9am  Humidity3pm  Pressure9am  Pressure3pm  Temp9am  \\\n",
       "Date                                                                      \n",
       "2017-06-21         51.0         24.0       1024.6       1020.3     10.1   \n",
       "2017-06-22         56.0         21.0       1023.5       1019.1     10.9   \n",
       "2017-06-23         53.0         24.0       1021.0       1016.8     12.5   \n",
       "2017-06-24         51.0         24.0       1019.4       1016.5     15.1   \n",
       "2017-06-25         62.0         36.0       1020.2       1017.9     15.0   \n",
       "\n",
       "            Temp3pm RainToday  \n",
       "Date                           \n",
       "2017-06-21     22.4        No  \n",
       "2017-06-22     24.5        No  \n",
       "2017-06-23     26.1        No  \n",
       "2017-06-24     26.0        No  \n",
       "2017-06-25     20.9        No  "
      ]
     },
     "execution_count": 16,
     "metadata": {},
     "output_type": "execute_result"
    }
   ],
   "source": [
    "#display the last 5 rows of the dataset\n",
    "raindata.tail(5)"
   ]
  },
  {
   "cell_type": "code",
   "execution_count": 17,
   "id": "53f2d1e6",
   "metadata": {},
   "outputs": [
    {
     "data": {
      "text/html": [
       "<div>\n",
       "<style scoped>\n",
       "    .dataframe tbody tr th:only-of-type {\n",
       "        vertical-align: middle;\n",
       "    }\n",
       "\n",
       "    .dataframe tbody tr th {\n",
       "        vertical-align: top;\n",
       "    }\n",
       "\n",
       "    .dataframe thead th {\n",
       "        text-align: right;\n",
       "    }\n",
       "</style>\n",
       "<table border=\"1\" class=\"dataframe\">\n",
       "  <thead>\n",
       "    <tr style=\"text-align: right;\">\n",
       "      <th></th>\n",
       "      <th>MinTemp</th>\n",
       "      <th>MaxTemp</th>\n",
       "      <th>Rainfall</th>\n",
       "      <th>WindSpeed9am</th>\n",
       "      <th>WindSpeed3pm</th>\n",
       "      <th>Humidity9am</th>\n",
       "      <th>Humidity3pm</th>\n",
       "      <th>Pressure9am</th>\n",
       "      <th>Pressure3pm</th>\n",
       "      <th>Temp9am</th>\n",
       "      <th>Temp3pm</th>\n",
       "      <th>RainToday</th>\n",
       "    </tr>\n",
       "    <tr>\n",
       "      <th>Date</th>\n",
       "      <th></th>\n",
       "      <th></th>\n",
       "      <th></th>\n",
       "      <th></th>\n",
       "      <th></th>\n",
       "      <th></th>\n",
       "      <th></th>\n",
       "      <th></th>\n",
       "      <th></th>\n",
       "      <th></th>\n",
       "      <th></th>\n",
       "      <th></th>\n",
       "    </tr>\n",
       "  </thead>\n",
       "  <tbody>\n",
       "    <tr>\n",
       "      <th>2008-12-01</th>\n",
       "      <td>13.4</td>\n",
       "      <td>22.9</td>\n",
       "      <td>0.6</td>\n",
       "      <td>20.0</td>\n",
       "      <td>24.0</td>\n",
       "      <td>71.0</td>\n",
       "      <td>22.0</td>\n",
       "      <td>1007.7</td>\n",
       "      <td>1007.1</td>\n",
       "      <td>16.9</td>\n",
       "      <td>21.8</td>\n",
       "      <td>No</td>\n",
       "    </tr>\n",
       "    <tr>\n",
       "      <th>2008-12-02</th>\n",
       "      <td>7.4</td>\n",
       "      <td>25.1</td>\n",
       "      <td>0.0</td>\n",
       "      <td>4.0</td>\n",
       "      <td>22.0</td>\n",
       "      <td>44.0</td>\n",
       "      <td>25.0</td>\n",
       "      <td>1010.6</td>\n",
       "      <td>1007.8</td>\n",
       "      <td>17.2</td>\n",
       "      <td>24.3</td>\n",
       "      <td>No</td>\n",
       "    </tr>\n",
       "    <tr>\n",
       "      <th>2008-12-03</th>\n",
       "      <td>12.9</td>\n",
       "      <td>25.7</td>\n",
       "      <td>0.0</td>\n",
       "      <td>19.0</td>\n",
       "      <td>26.0</td>\n",
       "      <td>38.0</td>\n",
       "      <td>30.0</td>\n",
       "      <td>1007.6</td>\n",
       "      <td>1008.7</td>\n",
       "      <td>21.0</td>\n",
       "      <td>23.2</td>\n",
       "      <td>No</td>\n",
       "    </tr>\n",
       "    <tr>\n",
       "      <th>2008-12-04</th>\n",
       "      <td>9.2</td>\n",
       "      <td>28.0</td>\n",
       "      <td>0.0</td>\n",
       "      <td>11.0</td>\n",
       "      <td>9.0</td>\n",
       "      <td>45.0</td>\n",
       "      <td>16.0</td>\n",
       "      <td>1017.6</td>\n",
       "      <td>1012.8</td>\n",
       "      <td>18.1</td>\n",
       "      <td>26.5</td>\n",
       "      <td>No</td>\n",
       "    </tr>\n",
       "    <tr>\n",
       "      <th>2008-12-05</th>\n",
       "      <td>17.5</td>\n",
       "      <td>32.3</td>\n",
       "      <td>1.0</td>\n",
       "      <td>7.0</td>\n",
       "      <td>20.0</td>\n",
       "      <td>82.0</td>\n",
       "      <td>33.0</td>\n",
       "      <td>1010.8</td>\n",
       "      <td>1006.0</td>\n",
       "      <td>17.8</td>\n",
       "      <td>29.7</td>\n",
       "      <td>No</td>\n",
       "    </tr>\n",
       "    <tr>\n",
       "      <th>...</th>\n",
       "      <td>...</td>\n",
       "      <td>...</td>\n",
       "      <td>...</td>\n",
       "      <td>...</td>\n",
       "      <td>...</td>\n",
       "      <td>...</td>\n",
       "      <td>...</td>\n",
       "      <td>...</td>\n",
       "      <td>...</td>\n",
       "      <td>...</td>\n",
       "      <td>...</td>\n",
       "      <td>...</td>\n",
       "    </tr>\n",
       "    <tr>\n",
       "      <th>2017-06-21</th>\n",
       "      <td>2.8</td>\n",
       "      <td>23.4</td>\n",
       "      <td>0.0</td>\n",
       "      <td>13.0</td>\n",
       "      <td>11.0</td>\n",
       "      <td>51.0</td>\n",
       "      <td>24.0</td>\n",
       "      <td>1024.6</td>\n",
       "      <td>1020.3</td>\n",
       "      <td>10.1</td>\n",
       "      <td>22.4</td>\n",
       "      <td>No</td>\n",
       "    </tr>\n",
       "    <tr>\n",
       "      <th>2017-06-22</th>\n",
       "      <td>3.6</td>\n",
       "      <td>25.3</td>\n",
       "      <td>0.0</td>\n",
       "      <td>13.0</td>\n",
       "      <td>9.0</td>\n",
       "      <td>56.0</td>\n",
       "      <td>21.0</td>\n",
       "      <td>1023.5</td>\n",
       "      <td>1019.1</td>\n",
       "      <td>10.9</td>\n",
       "      <td>24.5</td>\n",
       "      <td>No</td>\n",
       "    </tr>\n",
       "    <tr>\n",
       "      <th>2017-06-23</th>\n",
       "      <td>5.4</td>\n",
       "      <td>26.9</td>\n",
       "      <td>0.0</td>\n",
       "      <td>9.0</td>\n",
       "      <td>9.0</td>\n",
       "      <td>53.0</td>\n",
       "      <td>24.0</td>\n",
       "      <td>1021.0</td>\n",
       "      <td>1016.8</td>\n",
       "      <td>12.5</td>\n",
       "      <td>26.1</td>\n",
       "      <td>No</td>\n",
       "    </tr>\n",
       "    <tr>\n",
       "      <th>2017-06-24</th>\n",
       "      <td>7.8</td>\n",
       "      <td>27.0</td>\n",
       "      <td>0.0</td>\n",
       "      <td>13.0</td>\n",
       "      <td>7.0</td>\n",
       "      <td>51.0</td>\n",
       "      <td>24.0</td>\n",
       "      <td>1019.4</td>\n",
       "      <td>1016.5</td>\n",
       "      <td>15.1</td>\n",
       "      <td>26.0</td>\n",
       "      <td>No</td>\n",
       "    </tr>\n",
       "    <tr>\n",
       "      <th>2017-06-25</th>\n",
       "      <td>14.9</td>\n",
       "      <td>NaN</td>\n",
       "      <td>0.0</td>\n",
       "      <td>17.0</td>\n",
       "      <td>17.0</td>\n",
       "      <td>62.0</td>\n",
       "      <td>36.0</td>\n",
       "      <td>1020.2</td>\n",
       "      <td>1017.9</td>\n",
       "      <td>15.0</td>\n",
       "      <td>20.9</td>\n",
       "      <td>No</td>\n",
       "    </tr>\n",
       "  </tbody>\n",
       "</table>\n",
       "<p>145460 rows × 12 columns</p>\n",
       "</div>"
      ],
      "text/plain": [
       "            MinTemp  MaxTemp  Rainfall  WindSpeed9am  WindSpeed3pm  \\\n",
       "Date                                                                 \n",
       "2008-12-01     13.4     22.9       0.6          20.0          24.0   \n",
       "2008-12-02      7.4     25.1       0.0           4.0          22.0   \n",
       "2008-12-03     12.9     25.7       0.0          19.0          26.0   \n",
       "2008-12-04      9.2     28.0       0.0          11.0           9.0   \n",
       "2008-12-05     17.5     32.3       1.0           7.0          20.0   \n",
       "...             ...      ...       ...           ...           ...   \n",
       "2017-06-21      2.8     23.4       0.0          13.0          11.0   \n",
       "2017-06-22      3.6     25.3       0.0          13.0           9.0   \n",
       "2017-06-23      5.4     26.9       0.0           9.0           9.0   \n",
       "2017-06-24      7.8     27.0       0.0          13.0           7.0   \n",
       "2017-06-25     14.9      NaN       0.0          17.0          17.0   \n",
       "\n",
       "            Humidity9am  Humidity3pm  Pressure9am  Pressure3pm  Temp9am  \\\n",
       "Date                                                                      \n",
       "2008-12-01         71.0         22.0       1007.7       1007.1     16.9   \n",
       "2008-12-02         44.0         25.0       1010.6       1007.8     17.2   \n",
       "2008-12-03         38.0         30.0       1007.6       1008.7     21.0   \n",
       "2008-12-04         45.0         16.0       1017.6       1012.8     18.1   \n",
       "2008-12-05         82.0         33.0       1010.8       1006.0     17.8   \n",
       "...                 ...          ...          ...          ...      ...   \n",
       "2017-06-21         51.0         24.0       1024.6       1020.3     10.1   \n",
       "2017-06-22         56.0         21.0       1023.5       1019.1     10.9   \n",
       "2017-06-23         53.0         24.0       1021.0       1016.8     12.5   \n",
       "2017-06-24         51.0         24.0       1019.4       1016.5     15.1   \n",
       "2017-06-25         62.0         36.0       1020.2       1017.9     15.0   \n",
       "\n",
       "            Temp3pm RainToday  \n",
       "Date                           \n",
       "2008-12-01     21.8        No  \n",
       "2008-12-02     24.3        No  \n",
       "2008-12-03     23.2        No  \n",
       "2008-12-04     26.5        No  \n",
       "2008-12-05     29.7        No  \n",
       "...             ...       ...  \n",
       "2017-06-21     22.4        No  \n",
       "2017-06-22     24.5        No  \n",
       "2017-06-23     26.1        No  \n",
       "2017-06-24     26.0        No  \n",
       "2017-06-25     20.9        No  \n",
       "\n",
       "[145460 rows x 12 columns]"
      ]
     },
     "execution_count": 17,
     "metadata": {},
     "output_type": "execute_result"
    }
   ],
   "source": [
    "#display the dataset\n",
    "raindata"
   ]
  },
  {
   "cell_type": "code",
   "execution_count": 18,
   "id": "45b8f47e",
   "metadata": {},
   "outputs": [
    {
     "data": {
      "text/plain": [
       "MinTemp          1485\n",
       "MaxTemp          1261\n",
       "Rainfall         3261\n",
       "WindSpeed9am     1767\n",
       "WindSpeed3pm     3062\n",
       "Humidity9am      2654\n",
       "Humidity3pm      4507\n",
       "Pressure9am     15065\n",
       "Pressure3pm     15028\n",
       "Temp9am          1767\n",
       "Temp3pm          3609\n",
       "RainToday        3261\n",
       "dtype: int64"
      ]
     },
     "execution_count": 18,
     "metadata": {},
     "output_type": "execute_result"
    }
   ],
   "source": [
    "#missing values of the dataset\n",
    "raindata.apply(pd.isnull).sum()"
   ]
  },
  {
   "cell_type": "code",
   "execution_count": 19,
   "id": "3bdf9d6f",
   "metadata": {},
   "outputs": [
    {
     "data": {
      "text/html": [
       "<div>\n",
       "<style scoped>\n",
       "    .dataframe tbody tr th:only-of-type {\n",
       "        vertical-align: middle;\n",
       "    }\n",
       "\n",
       "    .dataframe tbody tr th {\n",
       "        vertical-align: top;\n",
       "    }\n",
       "\n",
       "    .dataframe thead th {\n",
       "        text-align: right;\n",
       "    }\n",
       "</style>\n",
       "<table border=\"1\" class=\"dataframe\">\n",
       "  <thead>\n",
       "    <tr style=\"text-align: right;\">\n",
       "      <th></th>\n",
       "      <th>MinTemp</th>\n",
       "      <th>MaxTemp</th>\n",
       "      <th>Rainfall</th>\n",
       "      <th>WindSpeed9am</th>\n",
       "      <th>WindSpeed3pm</th>\n",
       "      <th>Humidity9am</th>\n",
       "      <th>Humidity3pm</th>\n",
       "      <th>Pressure9am</th>\n",
       "      <th>Pressure3pm</th>\n",
       "      <th>Temp9am</th>\n",
       "      <th>Temp3pm</th>\n",
       "      <th>RainToday</th>\n",
       "    </tr>\n",
       "    <tr>\n",
       "      <th>Date</th>\n",
       "      <th></th>\n",
       "      <th></th>\n",
       "      <th></th>\n",
       "      <th></th>\n",
       "      <th></th>\n",
       "      <th></th>\n",
       "      <th></th>\n",
       "      <th></th>\n",
       "      <th></th>\n",
       "      <th></th>\n",
       "      <th></th>\n",
       "      <th></th>\n",
       "    </tr>\n",
       "  </thead>\n",
       "  <tbody>\n",
       "    <tr>\n",
       "      <th>2008-12-16</th>\n",
       "      <td>9.8</td>\n",
       "      <td>27.7</td>\n",
       "      <td>NaN</td>\n",
       "      <td>NaN</td>\n",
       "      <td>22.0</td>\n",
       "      <td>50.0</td>\n",
       "      <td>28.0</td>\n",
       "      <td>1013.4</td>\n",
       "      <td>1010.3</td>\n",
       "      <td>17.3</td>\n",
       "      <td>26.2</td>\n",
       "      <td>NaN</td>\n",
       "    </tr>\n",
       "    <tr>\n",
       "      <th>2009-02-28</th>\n",
       "      <td>16.0</td>\n",
       "      <td>34.5</td>\n",
       "      <td>0.0</td>\n",
       "      <td>6.0</td>\n",
       "      <td>NaN</td>\n",
       "      <td>44.0</td>\n",
       "      <td>14.0</td>\n",
       "      <td>1007.5</td>\n",
       "      <td>1004.6</td>\n",
       "      <td>22.2</td>\n",
       "      <td>33.6</td>\n",
       "      <td>No</td>\n",
       "    </tr>\n",
       "    <tr>\n",
       "      <th>2009-09-10</th>\n",
       "      <td>2.6</td>\n",
       "      <td>NaN</td>\n",
       "      <td>0.0</td>\n",
       "      <td>6.0</td>\n",
       "      <td>13.0</td>\n",
       "      <td>71.0</td>\n",
       "      <td>55.0</td>\n",
       "      <td>1017.8</td>\n",
       "      <td>1017.6</td>\n",
       "      <td>9.7</td>\n",
       "      <td>14.3</td>\n",
       "      <td>No</td>\n",
       "    </tr>\n",
       "    <tr>\n",
       "      <th>2009-09-11</th>\n",
       "      <td>NaN</td>\n",
       "      <td>18.8</td>\n",
       "      <td>NaN</td>\n",
       "      <td>7.0</td>\n",
       "      <td>19.0</td>\n",
       "      <td>83.0</td>\n",
       "      <td>46.0</td>\n",
       "      <td>1022.2</td>\n",
       "      <td>1018.2</td>\n",
       "      <td>8.7</td>\n",
       "      <td>18.1</td>\n",
       "      <td>NaN</td>\n",
       "    </tr>\n",
       "    <tr>\n",
       "      <th>2010-01-07</th>\n",
       "      <td>15.0</td>\n",
       "      <td>33.0</td>\n",
       "      <td>0.0</td>\n",
       "      <td>9.0</td>\n",
       "      <td>NaN</td>\n",
       "      <td>45.0</td>\n",
       "      <td>17.0</td>\n",
       "      <td>1014.9</td>\n",
       "      <td>1012.7</td>\n",
       "      <td>22.8</td>\n",
       "      <td>31.8</td>\n",
       "      <td>No</td>\n",
       "    </tr>\n",
       "    <tr>\n",
       "      <th>...</th>\n",
       "      <td>...</td>\n",
       "      <td>...</td>\n",
       "      <td>...</td>\n",
       "      <td>...</td>\n",
       "      <td>...</td>\n",
       "      <td>...</td>\n",
       "      <td>...</td>\n",
       "      <td>...</td>\n",
       "      <td>...</td>\n",
       "      <td>...</td>\n",
       "      <td>...</td>\n",
       "      <td>...</td>\n",
       "    </tr>\n",
       "    <tr>\n",
       "      <th>2016-06-23</th>\n",
       "      <td>14.2</td>\n",
       "      <td>18.7</td>\n",
       "      <td>NaN</td>\n",
       "      <td>9.0</td>\n",
       "      <td>NaN</td>\n",
       "      <td>81.0</td>\n",
       "      <td>67.0</td>\n",
       "      <td>1015.2</td>\n",
       "      <td>1014.6</td>\n",
       "      <td>16.6</td>\n",
       "      <td>17.5</td>\n",
       "      <td>NaN</td>\n",
       "    </tr>\n",
       "    <tr>\n",
       "      <th>2016-06-24</th>\n",
       "      <td>3.2</td>\n",
       "      <td>17.9</td>\n",
       "      <td>NaN</td>\n",
       "      <td>11.0</td>\n",
       "      <td>20.0</td>\n",
       "      <td>83.0</td>\n",
       "      <td>39.0</td>\n",
       "      <td>1022.4</td>\n",
       "      <td>1019.0</td>\n",
       "      <td>8.8</td>\n",
       "      <td>17.2</td>\n",
       "      <td>NaN</td>\n",
       "    </tr>\n",
       "    <tr>\n",
       "      <th>2017-02-21</th>\n",
       "      <td>13.5</td>\n",
       "      <td>NaN</td>\n",
       "      <td>0.0</td>\n",
       "      <td>24.0</td>\n",
       "      <td>7.0</td>\n",
       "      <td>23.0</td>\n",
       "      <td>11.0</td>\n",
       "      <td>1013.7</td>\n",
       "      <td>1008.4</td>\n",
       "      <td>25.2</td>\n",
       "      <td>34.4</td>\n",
       "      <td>No</td>\n",
       "    </tr>\n",
       "    <tr>\n",
       "      <th>2017-02-22</th>\n",
       "      <td>16.1</td>\n",
       "      <td>38.0</td>\n",
       "      <td>NaN</td>\n",
       "      <td>22.0</td>\n",
       "      <td>17.0</td>\n",
       "      <td>30.0</td>\n",
       "      <td>16.0</td>\n",
       "      <td>1011.4</td>\n",
       "      <td>1008.6</td>\n",
       "      <td>27.7</td>\n",
       "      <td>36.4</td>\n",
       "      <td>NaN</td>\n",
       "    </tr>\n",
       "    <tr>\n",
       "      <th>2017-06-25</th>\n",
       "      <td>14.9</td>\n",
       "      <td>NaN</td>\n",
       "      <td>0.0</td>\n",
       "      <td>17.0</td>\n",
       "      <td>17.0</td>\n",
       "      <td>62.0</td>\n",
       "      <td>36.0</td>\n",
       "      <td>1020.2</td>\n",
       "      <td>1017.9</td>\n",
       "      <td>15.0</td>\n",
       "      <td>20.9</td>\n",
       "      <td>No</td>\n",
       "    </tr>\n",
       "  </tbody>\n",
       "</table>\n",
       "<p>20429 rows × 12 columns</p>\n",
       "</div>"
      ],
      "text/plain": [
       "            MinTemp  MaxTemp  Rainfall  WindSpeed9am  WindSpeed3pm  \\\n",
       "Date                                                                 \n",
       "2008-12-16      9.8     27.7       NaN           NaN          22.0   \n",
       "2009-02-28     16.0     34.5       0.0           6.0           NaN   \n",
       "2009-09-10      2.6      NaN       0.0           6.0          13.0   \n",
       "2009-09-11      NaN     18.8       NaN           7.0          19.0   \n",
       "2010-01-07     15.0     33.0       0.0           9.0           NaN   \n",
       "...             ...      ...       ...           ...           ...   \n",
       "2016-06-23     14.2     18.7       NaN           9.0           NaN   \n",
       "2016-06-24      3.2     17.9       NaN          11.0          20.0   \n",
       "2017-02-21     13.5      NaN       0.0          24.0           7.0   \n",
       "2017-02-22     16.1     38.0       NaN          22.0          17.0   \n",
       "2017-06-25     14.9      NaN       0.0          17.0          17.0   \n",
       "\n",
       "            Humidity9am  Humidity3pm  Pressure9am  Pressure3pm  Temp9am  \\\n",
       "Date                                                                      \n",
       "2008-12-16         50.0         28.0       1013.4       1010.3     17.3   \n",
       "2009-02-28         44.0         14.0       1007.5       1004.6     22.2   \n",
       "2009-09-10         71.0         55.0       1017.8       1017.6      9.7   \n",
       "2009-09-11         83.0         46.0       1022.2       1018.2      8.7   \n",
       "2010-01-07         45.0         17.0       1014.9       1012.7     22.8   \n",
       "...                 ...          ...          ...          ...      ...   \n",
       "2016-06-23         81.0         67.0       1015.2       1014.6     16.6   \n",
       "2016-06-24         83.0         39.0       1022.4       1019.0      8.8   \n",
       "2017-02-21         23.0         11.0       1013.7       1008.4     25.2   \n",
       "2017-02-22         30.0         16.0       1011.4       1008.6     27.7   \n",
       "2017-06-25         62.0         36.0       1020.2       1017.9     15.0   \n",
       "\n",
       "            Temp3pm RainToday  \n",
       "Date                           \n",
       "2008-12-16     26.2       NaN  \n",
       "2009-02-28     33.6        No  \n",
       "2009-09-10     14.3        No  \n",
       "2009-09-11     18.1       NaN  \n",
       "2010-01-07     31.8        No  \n",
       "...             ...       ...  \n",
       "2016-06-23     17.5       NaN  \n",
       "2016-06-24     17.2       NaN  \n",
       "2017-02-21     34.4        No  \n",
       "2017-02-22     36.4       NaN  \n",
       "2017-06-25     20.9        No  \n",
       "\n",
       "[20429 rows x 12 columns]"
      ]
     },
     "execution_count": 19,
     "metadata": {},
     "output_type": "execute_result"
    }
   ],
   "source": [
    "#display the records with NaN\n",
    "raindata[raindata.isna().any(axis=1)]"
   ]
  },
  {
   "cell_type": "code",
   "execution_count": 20,
   "id": "48af4208",
   "metadata": {},
   "outputs": [],
   "source": [
    "#drop the records with NaN values in RainToday column\n",
    "raindata = raindata[raindata['RainToday'].notna()]"
   ]
  },
  {
   "cell_type": "code",
   "execution_count": 21,
   "id": "13ff2bf8",
   "metadata": {},
   "outputs": [
    {
     "data": {
      "text/plain": [
       "MinTemp           487\n",
       "MaxTemp           470\n",
       "Rainfall            0\n",
       "WindSpeed9am     1091\n",
       "WindSpeed3pm     2647\n",
       "Humidity9am      1554\n",
       "Humidity3pm      3630\n",
       "Pressure9am     13940\n",
       "Pressure3pm     13993\n",
       "Temp9am           685\n",
       "Temp3pm          2746\n",
       "RainToday           0\n",
       "dtype: int64"
      ]
     },
     "execution_count": 21,
     "metadata": {},
     "output_type": "execute_result"
    }
   ],
   "source": [
    "#missing values\n",
    "raindata.apply(pd.isnull).sum()"
   ]
  },
  {
   "cell_type": "code",
   "execution_count": 22,
   "id": "ef201144",
   "metadata": {},
   "outputs": [
    {
     "data": {
      "text/html": [
       "<div>\n",
       "<style scoped>\n",
       "    .dataframe tbody tr th:only-of-type {\n",
       "        vertical-align: middle;\n",
       "    }\n",
       "\n",
       "    .dataframe tbody tr th {\n",
       "        vertical-align: top;\n",
       "    }\n",
       "\n",
       "    .dataframe thead th {\n",
       "        text-align: right;\n",
       "    }\n",
       "</style>\n",
       "<table border=\"1\" class=\"dataframe\">\n",
       "  <thead>\n",
       "    <tr style=\"text-align: right;\">\n",
       "      <th></th>\n",
       "      <th>MinTemp</th>\n",
       "      <th>MaxTemp</th>\n",
       "      <th>Rainfall</th>\n",
       "      <th>WindSpeed9am</th>\n",
       "      <th>WindSpeed3pm</th>\n",
       "      <th>Humidity9am</th>\n",
       "      <th>Humidity3pm</th>\n",
       "      <th>Pressure9am</th>\n",
       "      <th>Pressure3pm</th>\n",
       "      <th>Temp9am</th>\n",
       "      <th>Temp3pm</th>\n",
       "      <th>RainToday</th>\n",
       "    </tr>\n",
       "    <tr>\n",
       "      <th>Date</th>\n",
       "      <th></th>\n",
       "      <th></th>\n",
       "      <th></th>\n",
       "      <th></th>\n",
       "      <th></th>\n",
       "      <th></th>\n",
       "      <th></th>\n",
       "      <th></th>\n",
       "      <th></th>\n",
       "      <th></th>\n",
       "      <th></th>\n",
       "      <th></th>\n",
       "    </tr>\n",
       "  </thead>\n",
       "  <tbody>\n",
       "    <tr>\n",
       "      <th>2008-12-01</th>\n",
       "      <td>13.4</td>\n",
       "      <td>22.9</td>\n",
       "      <td>0.6</td>\n",
       "      <td>20.0</td>\n",
       "      <td>24.0</td>\n",
       "      <td>71.0</td>\n",
       "      <td>22.0</td>\n",
       "      <td>1007.7</td>\n",
       "      <td>1007.1</td>\n",
       "      <td>16.9</td>\n",
       "      <td>21.8</td>\n",
       "      <td>No</td>\n",
       "    </tr>\n",
       "    <tr>\n",
       "      <th>2008-12-02</th>\n",
       "      <td>7.4</td>\n",
       "      <td>25.1</td>\n",
       "      <td>0.0</td>\n",
       "      <td>4.0</td>\n",
       "      <td>22.0</td>\n",
       "      <td>44.0</td>\n",
       "      <td>25.0</td>\n",
       "      <td>1010.6</td>\n",
       "      <td>1007.8</td>\n",
       "      <td>17.2</td>\n",
       "      <td>24.3</td>\n",
       "      <td>No</td>\n",
       "    </tr>\n",
       "    <tr>\n",
       "      <th>2008-12-03</th>\n",
       "      <td>12.9</td>\n",
       "      <td>25.7</td>\n",
       "      <td>0.0</td>\n",
       "      <td>19.0</td>\n",
       "      <td>26.0</td>\n",
       "      <td>38.0</td>\n",
       "      <td>30.0</td>\n",
       "      <td>1007.6</td>\n",
       "      <td>1008.7</td>\n",
       "      <td>21.0</td>\n",
       "      <td>23.2</td>\n",
       "      <td>No</td>\n",
       "    </tr>\n",
       "    <tr>\n",
       "      <th>2008-12-04</th>\n",
       "      <td>9.2</td>\n",
       "      <td>28.0</td>\n",
       "      <td>0.0</td>\n",
       "      <td>11.0</td>\n",
       "      <td>9.0</td>\n",
       "      <td>45.0</td>\n",
       "      <td>16.0</td>\n",
       "      <td>1017.6</td>\n",
       "      <td>1012.8</td>\n",
       "      <td>18.1</td>\n",
       "      <td>26.5</td>\n",
       "      <td>No</td>\n",
       "    </tr>\n",
       "    <tr>\n",
       "      <th>2008-12-05</th>\n",
       "      <td>17.5</td>\n",
       "      <td>32.3</td>\n",
       "      <td>1.0</td>\n",
       "      <td>7.0</td>\n",
       "      <td>20.0</td>\n",
       "      <td>82.0</td>\n",
       "      <td>33.0</td>\n",
       "      <td>1010.8</td>\n",
       "      <td>1006.0</td>\n",
       "      <td>17.8</td>\n",
       "      <td>29.7</td>\n",
       "      <td>No</td>\n",
       "    </tr>\n",
       "    <tr>\n",
       "      <th>...</th>\n",
       "      <td>...</td>\n",
       "      <td>...</td>\n",
       "      <td>...</td>\n",
       "      <td>...</td>\n",
       "      <td>...</td>\n",
       "      <td>...</td>\n",
       "      <td>...</td>\n",
       "      <td>...</td>\n",
       "      <td>...</td>\n",
       "      <td>...</td>\n",
       "      <td>...</td>\n",
       "      <td>...</td>\n",
       "    </tr>\n",
       "    <tr>\n",
       "      <th>2017-06-21</th>\n",
       "      <td>2.8</td>\n",
       "      <td>23.4</td>\n",
       "      <td>0.0</td>\n",
       "      <td>13.0</td>\n",
       "      <td>11.0</td>\n",
       "      <td>51.0</td>\n",
       "      <td>24.0</td>\n",
       "      <td>1024.6</td>\n",
       "      <td>1020.3</td>\n",
       "      <td>10.1</td>\n",
       "      <td>22.4</td>\n",
       "      <td>No</td>\n",
       "    </tr>\n",
       "    <tr>\n",
       "      <th>2017-06-22</th>\n",
       "      <td>3.6</td>\n",
       "      <td>25.3</td>\n",
       "      <td>0.0</td>\n",
       "      <td>13.0</td>\n",
       "      <td>9.0</td>\n",
       "      <td>56.0</td>\n",
       "      <td>21.0</td>\n",
       "      <td>1023.5</td>\n",
       "      <td>1019.1</td>\n",
       "      <td>10.9</td>\n",
       "      <td>24.5</td>\n",
       "      <td>No</td>\n",
       "    </tr>\n",
       "    <tr>\n",
       "      <th>2017-06-23</th>\n",
       "      <td>5.4</td>\n",
       "      <td>26.9</td>\n",
       "      <td>0.0</td>\n",
       "      <td>9.0</td>\n",
       "      <td>9.0</td>\n",
       "      <td>53.0</td>\n",
       "      <td>24.0</td>\n",
       "      <td>1021.0</td>\n",
       "      <td>1016.8</td>\n",
       "      <td>12.5</td>\n",
       "      <td>26.1</td>\n",
       "      <td>No</td>\n",
       "    </tr>\n",
       "    <tr>\n",
       "      <th>2017-06-24</th>\n",
       "      <td>7.8</td>\n",
       "      <td>27.0</td>\n",
       "      <td>0.0</td>\n",
       "      <td>13.0</td>\n",
       "      <td>7.0</td>\n",
       "      <td>51.0</td>\n",
       "      <td>24.0</td>\n",
       "      <td>1019.4</td>\n",
       "      <td>1016.5</td>\n",
       "      <td>15.1</td>\n",
       "      <td>26.0</td>\n",
       "      <td>No</td>\n",
       "    </tr>\n",
       "    <tr>\n",
       "      <th>2017-06-25</th>\n",
       "      <td>14.9</td>\n",
       "      <td>NaN</td>\n",
       "      <td>0.0</td>\n",
       "      <td>17.0</td>\n",
       "      <td>17.0</td>\n",
       "      <td>62.0</td>\n",
       "      <td>36.0</td>\n",
       "      <td>1020.2</td>\n",
       "      <td>1017.9</td>\n",
       "      <td>15.0</td>\n",
       "      <td>20.9</td>\n",
       "      <td>No</td>\n",
       "    </tr>\n",
       "  </tbody>\n",
       "</table>\n",
       "<p>142199 rows × 12 columns</p>\n",
       "</div>"
      ],
      "text/plain": [
       "            MinTemp  MaxTemp  Rainfall  WindSpeed9am  WindSpeed3pm  \\\n",
       "Date                                                                 \n",
       "2008-12-01     13.4     22.9       0.6          20.0          24.0   \n",
       "2008-12-02      7.4     25.1       0.0           4.0          22.0   \n",
       "2008-12-03     12.9     25.7       0.0          19.0          26.0   \n",
       "2008-12-04      9.2     28.0       0.0          11.0           9.0   \n",
       "2008-12-05     17.5     32.3       1.0           7.0          20.0   \n",
       "...             ...      ...       ...           ...           ...   \n",
       "2017-06-21      2.8     23.4       0.0          13.0          11.0   \n",
       "2017-06-22      3.6     25.3       0.0          13.0           9.0   \n",
       "2017-06-23      5.4     26.9       0.0           9.0           9.0   \n",
       "2017-06-24      7.8     27.0       0.0          13.0           7.0   \n",
       "2017-06-25     14.9      NaN       0.0          17.0          17.0   \n",
       "\n",
       "            Humidity9am  Humidity3pm  Pressure9am  Pressure3pm  Temp9am  \\\n",
       "Date                                                                      \n",
       "2008-12-01         71.0         22.0       1007.7       1007.1     16.9   \n",
       "2008-12-02         44.0         25.0       1010.6       1007.8     17.2   \n",
       "2008-12-03         38.0         30.0       1007.6       1008.7     21.0   \n",
       "2008-12-04         45.0         16.0       1017.6       1012.8     18.1   \n",
       "2008-12-05         82.0         33.0       1010.8       1006.0     17.8   \n",
       "...                 ...          ...          ...          ...      ...   \n",
       "2017-06-21         51.0         24.0       1024.6       1020.3     10.1   \n",
       "2017-06-22         56.0         21.0       1023.5       1019.1     10.9   \n",
       "2017-06-23         53.0         24.0       1021.0       1016.8     12.5   \n",
       "2017-06-24         51.0         24.0       1019.4       1016.5     15.1   \n",
       "2017-06-25         62.0         36.0       1020.2       1017.9     15.0   \n",
       "\n",
       "            Temp3pm RainToday  \n",
       "Date                           \n",
       "2008-12-01     21.8        No  \n",
       "2008-12-02     24.3        No  \n",
       "2008-12-03     23.2        No  \n",
       "2008-12-04     26.5        No  \n",
       "2008-12-05     29.7        No  \n",
       "...             ...       ...  \n",
       "2017-06-21     22.4        No  \n",
       "2017-06-22     24.5        No  \n",
       "2017-06-23     26.1        No  \n",
       "2017-06-24     26.0        No  \n",
       "2017-06-25     20.9        No  \n",
       "\n",
       "[142199 rows x 12 columns]"
      ]
     },
     "execution_count": 22,
     "metadata": {},
     "output_type": "execute_result"
    }
   ],
   "source": [
    "#display the dataset after removing rows with NaN values for RainToday column\n",
    "raindata"
   ]
  },
  {
   "cell_type": "code",
   "execution_count": 23,
   "id": "a2235cd6",
   "metadata": {},
   "outputs": [
    {
     "data": {
      "text/plain": [
       "<AxesSubplot:title={'center':'MinTemp'}, xlabel='RainToday'>"
      ]
     },
     "execution_count": 23,
     "metadata": {},
     "output_type": "execute_result"
    },
    {
     "data": {
      "image/png": "[encoded data removed]",
      "text/plain": [
       "<Figure size 360x432 with 1 Axes>"
      ]
     },
     "metadata": {
      "needs_background": "light"
     },
     "output_type": "display_data"
    }
   ],
   "source": [
    "#box plot graph to identify any outliers with Minimum Temperature and Rainfall\n",
    "raindata.boxplot(column='MinTemp', by='RainToday', figsize=(5,6))"
   ]
  },
  {
   "cell_type": "code",
   "execution_count": 24,
   "id": "f3a9718a",
   "metadata": {},
   "outputs": [
    {
     "data": {
      "text/plain": [
       "<AxesSubplot:title={'center':'MaxTemp'}, xlabel='RainToday'>"
      ]
     },
     "execution_count": 24,
     "metadata": {},
     "output_type": "execute_result"
    },
    {
     "data": {
      "image/png": "[encoded data removed]",
      "text/plain": [
       "<Figure size 360x432 with 1 Axes>"
      ]
     },
     "metadata": {
      "needs_background": "light"
     },
     "output_type": "display_data"
    }
   ],
   "source": [
    "#box plot graph to identify any outliers with Maximum Temperature and Rainfall\n",
    "raindata.boxplot(column='MaxTemp', by='RainToday', figsize=(5,6))"
   ]
  },
  {
   "cell_type": "code",
   "execution_count": 25,
   "id": "a70901aa",
   "metadata": {},
   "outputs": [
    {
     "data": {
      "text/plain": [
       "<AxesSubplot:>"
      ]
     },
     "execution_count": 25,
     "metadata": {},
     "output_type": "execute_result"
    },
    {
     "data": {
      "image/png": "[encoded data removed]",
      "text/plain": [
       "<Figure size 576x288 with 1 Axes>"
      ]
     },
     "metadata": {
      "needs_background": "light"
     },
     "output_type": "display_data"
    }
   ],
   "source": [
    "# Generating a boxplot for single column\n",
    "raindata.boxplot(column='Rainfall', figsize=(8,4), vert=False)"
   ]
  },
  {
   "cell_type": "code",
   "execution_count": 26,
   "id": "6a6f7d10",
   "metadata": {},
   "outputs": [
    {
     "data": {
      "text/plain": [
       "<AxesSubplot:>"
      ]
     },
     "execution_count": 26,
     "metadata": {},
     "output_type": "execute_result"
    },
    {
     "data": {
      "image/png": "[encoded data removed]",
      "text/plain": [
       "<Figure size 576x288 with 1 Axes>"
      ]
     },
     "metadata": {
      "needs_background": "light"
     },
     "output_type": "display_data"
    }
   ],
   "source": [
    "# Generating a boxplot for single column\n",
    "raindata.boxplot(column='Pressure3pm', figsize=(8,4), vert=False)"
   ]
  },
  {
   "cell_type": "markdown",
   "id": "2a6cbb60",
   "metadata": {},
   "source": [
    "# Correlation with Rainfall"
   ]
  },
  {
   "cell_type": "code",
   "execution_count": 27,
   "id": "ec57e991",
   "metadata": {},
   "outputs": [
    {
     "data": {
      "image/png": "[encoded data removed]",
      "text/plain": [
       "<Figure size 864x720 with 2 Axes>"
      ]
     },
     "metadata": {
      "needs_background": "light"
     },
     "output_type": "display_data"
    }
   ],
   "source": [
    "#Using Pearson Correlation\n",
    "plt.figure(figsize=(12,10))\n",
    "correlation_rain = raindata.corr()\n",
    "sns.heatmap(correlation_rain, annot=True, cmap=plt.cm.Blues)\n",
    "plt.show()"
   ]
  },
  {
   "cell_type": "code",
   "execution_count": 28,
   "id": "af4718e7",
   "metadata": {},
   "outputs": [
    {
     "data": {
      "text/plain": [
       "MinTemp        0.103938\n",
       "Rainfall       1.000000\n",
       "Humidity9am    0.224405\n",
       "Humidity3pm    0.255755\n",
       "Pressure9am    0.168154\n",
       "Pressure3pm    0.126534\n",
       "Name: Rainfall, dtype: float64"
      ]
     },
     "execution_count": 28,
     "metadata": {},
     "output_type": "execute_result"
    }
   ],
   "source": [
    "#Correlation with output variable converting to absolute values\n",
    "cor_target = abs(correlation_rain[\"Rainfall\"])\n",
    "#Selecting moderate correlated features\n",
    "relevant_features = cor_target[cor_target>0.1]\n",
    "relevant_features"
   ]
  },
  {
   "cell_type": "code",
   "execution_count": 29,
   "id": "f0fb1fe7",
   "metadata": {},
   "outputs": [
    {
     "data": {
      "text/plain": [
       "MinTemp           487\n",
       "MaxTemp           470\n",
       "Rainfall            0\n",
       "WindSpeed9am     1091\n",
       "WindSpeed3pm     2647\n",
       "Humidity9am      1554\n",
       "Humidity3pm      3630\n",
       "Pressure9am     13940\n",
       "Pressure3pm     13993\n",
       "Temp9am           685\n",
       "Temp3pm          2746\n",
       "RainToday           0\n",
       "dtype: int64"
      ]
     },
     "execution_count": 29,
     "metadata": {},
     "output_type": "execute_result"
    }
   ],
   "source": [
    "#missing values\n",
    "raindata.apply(pd.isnull).sum()"
   ]
  },
  {
   "cell_type": "markdown",
   "id": "e455f37d",
   "metadata": {},
   "source": [
    "# Analyzing Dataset"
   ]
  },
  {
   "cell_type": "code",
   "execution_count": 30,
   "id": "2814b5db",
   "metadata": {},
   "outputs": [
    {
     "data": {
      "text/plain": [
       "<AxesSubplot:xlabel='Date'>"
      ]
     },
     "execution_count": 30,
     "metadata": {},
     "output_type": "execute_result"
    },
    {
     "data": {
      "image/png": "[encoded data removed]",
      "text/plain": [
       "<Figure size 432x288 with 1 Axes>"
      ]
     },
     "metadata": {
      "needs_background": "light"
     },
     "output_type": "display_data"
    }
   ],
   "source": [
    "#Rainfall graph\n",
    "raindata[\"Rainfall\"].plot()"
   ]
  },
  {
   "cell_type": "code",
   "execution_count": 31,
   "id": "ced4d770",
   "metadata": {},
   "outputs": [
    {
     "data": {
      "text/plain": [
       "<AxesSubplot:xlabel='Date'>"
      ]
     },
     "execution_count": 31,
     "metadata": {},
     "output_type": "execute_result"
    },
    {
     "data": {
      "image/png": "[encoded data removed]",
      "text/plain": [
       "<Figure size 432x288 with 1 Axes>"
      ]
     },
     "metadata": {
      "needs_background": "light"
     },
     "output_type": "display_data"
    }
   ],
   "source": [
    "#plot Rainfall vs MaxTemp\n",
    "raindata[[\"Rainfall\",\"MaxTemp\"]].plot()"
   ]
  },
  {
   "cell_type": "code",
   "execution_count": 32,
   "id": "c46d95e6",
   "metadata": {},
   "outputs": [
    {
     "data": {
      "text/plain": [
       "<AxesSubplot:xlabel='Date'>"
      ]
     },
     "execution_count": 32,
     "metadata": {},
     "output_type": "execute_result"
    },
    {
     "data": {
      "image/png": "[encoded data removed]",
      "text/plain": [
       "<Figure size 432x288 with 1 Axes>"
      ]
     },
     "metadata": {
      "needs_background": "light"
     },
     "output_type": "display_data"
    }
   ],
   "source": [
    "#plot Rainfall vs Minimum Temperature\n",
    "raindata[[\"Rainfall\",\"MinTemp\"]].plot()"
   ]
  },
  {
   "cell_type": "code",
   "execution_count": 33,
   "id": "3ad52278",
   "metadata": {},
   "outputs": [
    {
     "data": {
      "text/plain": [
       "<AxesSubplot:xlabel='Date'>"
      ]
     },
     "execution_count": 33,
     "metadata": {},
     "output_type": "execute_result"
    },
    {
     "data": {
      "image/png": "[encoded data removed]",
      "text/plain": [
       "<Figure size 432x288 with 1 Axes>"
      ]
     },
     "metadata": {
      "needs_background": "light"
     },
     "output_type": "display_data"
    }
   ],
   "source": [
    "#plot Rainfall and Temperature\n",
    "raindata[[\"Rainfall\",\"Temp3pm\"]].plot()"
   ]
  },
  {
   "cell_type": "code",
   "execution_count": 34,
   "id": "6bee4421",
   "metadata": {},
   "outputs": [
    {
     "data": {
      "text/plain": [
       "<AxesSubplot:xlabel='Date'>"
      ]
     },
     "execution_count": 34,
     "metadata": {},
     "output_type": "execute_result"
    },
    {
     "data": {
      "image/png": "[encoded data removed]",
      "text/plain": [
       "<Figure size 432x288 with 1 Axes>"
      ]
     },
     "metadata": {
      "needs_background": "light"
     },
     "output_type": "display_data"
    }
   ],
   "source": [
    "#plot Maximum and Minimum Temperature\n",
    "raindata[[\"MaxTemp\",\"MinTemp\"]].plot()"
   ]
  },
  {
   "cell_type": "code",
   "execution_count": 35,
   "id": "e709b7a5",
   "metadata": {},
   "outputs": [
    {
     "data": {
      "text/plain": [
       "2007       61\n",
       "2008     2245\n",
       "2009    16594\n",
       "2010    16422\n",
       "2011    15125\n",
       "2012    15043\n",
       "2013    16099\n",
       "2014    17398\n",
       "2015    17232\n",
       "2016    17509\n",
       "2017     8471\n",
       "Name: Date, dtype: int64"
      ]
     },
     "execution_count": 35,
     "metadata": {},
     "output_type": "execute_result"
    }
   ],
   "source": [
    "#annual observations \n",
    "raindata.index.year.value_counts().sort_index()"
   ]
  },
  {
   "cell_type": "code",
   "execution_count": 36,
   "id": "9f4adede",
   "metadata": {},
   "outputs": [
    {
     "data": {
      "text/html": [
       "<div>\n",
       "<style scoped>\n",
       "    .dataframe tbody tr th:only-of-type {\n",
       "        vertical-align: middle;\n",
       "    }\n",
       "\n",
       "    .dataframe tbody tr th {\n",
       "        vertical-align: top;\n",
       "    }\n",
       "\n",
       "    .dataframe thead th {\n",
       "        text-align: right;\n",
       "    }\n",
       "</style>\n",
       "<table border=\"1\" class=\"dataframe\">\n",
       "  <thead>\n",
       "    <tr style=\"text-align: right;\">\n",
       "      <th></th>\n",
       "      <th>MinTemp</th>\n",
       "      <th>MaxTemp</th>\n",
       "      <th>Rainfall</th>\n",
       "      <th>WindSpeed9am</th>\n",
       "      <th>WindSpeed3pm</th>\n",
       "      <th>Humidity9am</th>\n",
       "      <th>Humidity3pm</th>\n",
       "      <th>Pressure9am</th>\n",
       "      <th>Pressure3pm</th>\n",
       "      <th>Temp9am</th>\n",
       "      <th>Temp3pm</th>\n",
       "    </tr>\n",
       "    <tr>\n",
       "      <th>Date</th>\n",
       "      <th></th>\n",
       "      <th></th>\n",
       "      <th></th>\n",
       "      <th></th>\n",
       "      <th></th>\n",
       "      <th></th>\n",
       "      <th></th>\n",
       "      <th></th>\n",
       "      <th></th>\n",
       "      <th></th>\n",
       "      <th></th>\n",
       "    </tr>\n",
       "  </thead>\n",
       "  <tbody>\n",
       "    <tr>\n",
       "      <th>2007</th>\n",
       "      <td>765.3</td>\n",
       "      <td>1530.3</td>\n",
       "      <td>196.4</td>\n",
       "      <td>586.0</td>\n",
       "      <td>1025.0</td>\n",
       "      <td>4243.0</td>\n",
       "      <td>2793.0</td>\n",
       "      <td>62023.1</td>\n",
       "      <td>6.185710e+04</td>\n",
       "      <td>1053.3</td>\n",
       "      <td>1430.8</td>\n",
       "    </tr>\n",
       "    <tr>\n",
       "      <th>2008</th>\n",
       "      <td>27958.4</td>\n",
       "      <td>51327.1</td>\n",
       "      <td>5149.0</td>\n",
       "      <td>31132.0</td>\n",
       "      <td>43342.0</td>\n",
       "      <td>145408.0</td>\n",
       "      <td>109488.0</td>\n",
       "      <td>2185221.9</td>\n",
       "      <td>2.180969e+06</td>\n",
       "      <td>37852.0</td>\n",
       "      <td>47688.1</td>\n",
       "    </tr>\n",
       "    <tr>\n",
       "      <th>2009</th>\n",
       "      <td>200819.5</td>\n",
       "      <td>384595.8</td>\n",
       "      <td>35949.0</td>\n",
       "      <td>236848.0</td>\n",
       "      <td>317622.0</td>\n",
       "      <td>1105652.0</td>\n",
       "      <td>820135.0</td>\n",
       "      <td>15229948.6</td>\n",
       "      <td>1.518137e+07</td>\n",
       "      <td>279567.3</td>\n",
       "      <td>358376.7</td>\n",
       "    </tr>\n",
       "    <tr>\n",
       "      <th>2010</th>\n",
       "      <td>197867.2</td>\n",
       "      <td>369668.3</td>\n",
       "      <td>44518.8</td>\n",
       "      <td>225495.0</td>\n",
       "      <td>298007.0</td>\n",
       "      <td>1154592.0</td>\n",
       "      <td>875509.0</td>\n",
       "      <td>15267645.0</td>\n",
       "      <td>1.520336e+07</td>\n",
       "      <td>272475.5</td>\n",
       "      <td>344118.4</td>\n",
       "    </tr>\n",
       "    <tr>\n",
       "      <th>2011</th>\n",
       "      <td>181607.5</td>\n",
       "      <td>340819.7</td>\n",
       "      <td>42791.6</td>\n",
       "      <td>212617.0</td>\n",
       "      <td>276838.0</td>\n",
       "      <td>1054447.0</td>\n",
       "      <td>806745.0</td>\n",
       "      <td>13847343.9</td>\n",
       "      <td>1.382892e+07</td>\n",
       "      <td>250123.5</td>\n",
       "      <td>317120.5</td>\n",
       "    </tr>\n",
       "    <tr>\n",
       "      <th>2012</th>\n",
       "      <td>168613.3</td>\n",
       "      <td>335664.7</td>\n",
       "      <td>36346.9</td>\n",
       "      <td>210035.0</td>\n",
       "      <td>278154.0</td>\n",
       "      <td>1005976.0</td>\n",
       "      <td>751998.0</td>\n",
       "      <td>13961474.4</td>\n",
       "      <td>1.391526e+07</td>\n",
       "      <td>242410.4</td>\n",
       "      <td>312373.8</td>\n",
       "    </tr>\n",
       "    <tr>\n",
       "      <th>2013</th>\n",
       "      <td>191127.1</td>\n",
       "      <td>374491.3</td>\n",
       "      <td>36583.4</td>\n",
       "      <td>229588.0</td>\n",
       "      <td>304940.0</td>\n",
       "      <td>1077078.0</td>\n",
       "      <td>800515.0</td>\n",
       "      <td>15002733.5</td>\n",
       "      <td>1.496858e+07</td>\n",
       "      <td>271355.1</td>\n",
       "      <td>349303.0</td>\n",
       "    </tr>\n",
       "    <tr>\n",
       "      <th>2014</th>\n",
       "      <td>215248.6</td>\n",
       "      <td>412891.2</td>\n",
       "      <td>34210.4</td>\n",
       "      <td>236733.0</td>\n",
       "      <td>316046.0</td>\n",
       "      <td>1174196.0</td>\n",
       "      <td>868852.0</td>\n",
       "      <td>15725938.5</td>\n",
       "      <td>1.568586e+07</td>\n",
       "      <td>300526.4</td>\n",
       "      <td>385976.0</td>\n",
       "    </tr>\n",
       "    <tr>\n",
       "      <th>2015</th>\n",
       "      <td>209940.8</td>\n",
       "      <td>404093.2</td>\n",
       "      <td>37234.1</td>\n",
       "      <td>237253.0</td>\n",
       "      <td>311022.0</td>\n",
       "      <td>1159868.0</td>\n",
       "      <td>835597.0</td>\n",
       "      <td>15537530.4</td>\n",
       "      <td>1.549894e+07</td>\n",
       "      <td>294423.9</td>\n",
       "      <td>366862.9</td>\n",
       "    </tr>\n",
       "    <tr>\n",
       "      <th>2016</th>\n",
       "      <td>218002.1</td>\n",
       "      <td>406842.0</td>\n",
       "      <td>41742.4</td>\n",
       "      <td>246443.0</td>\n",
       "      <td>313830.0</td>\n",
       "      <td>1204465.0</td>\n",
       "      <td>852498.0</td>\n",
       "      <td>15957436.9</td>\n",
       "      <td>1.591119e+07</td>\n",
       "      <td>300260.8</td>\n",
       "      <td>355098.8</td>\n",
       "    </tr>\n",
       "    <tr>\n",
       "      <th>2017</th>\n",
       "      <td>115036.5</td>\n",
       "      <td>210368.5</td>\n",
       "      <td>20998.2</td>\n",
       "      <td>108803.0</td>\n",
       "      <td>139926.0</td>\n",
       "      <td>597105.0</td>\n",
       "      <td>409519.0</td>\n",
       "      <td>7745809.6</td>\n",
       "      <td>7.725715e+06</td>\n",
       "      <td>153818.8</td>\n",
       "      <td>186266.5</td>\n",
       "    </tr>\n",
       "  </tbody>\n",
       "</table>\n",
       "</div>"
      ],
      "text/plain": [
       "       MinTemp   MaxTemp  Rainfall  WindSpeed9am  WindSpeed3pm  Humidity9am  \\\n",
       "Date                                                                          \n",
       "2007     765.3    1530.3     196.4         586.0        1025.0       4243.0   \n",
       "2008   27958.4   51327.1    5149.0       31132.0       43342.0     145408.0   \n",
       "2009  200819.5  384595.8   35949.0      236848.0      317622.0    1105652.0   \n",
       "2010  197867.2  369668.3   44518.8      225495.0      298007.0    1154592.0   \n",
       "2011  181607.5  340819.7   42791.6      212617.0      276838.0    1054447.0   \n",
       "2012  168613.3  335664.7   36346.9      210035.0      278154.0    1005976.0   \n",
       "2013  191127.1  374491.3   36583.4      229588.0      304940.0    1077078.0   \n",
       "2014  215248.6  412891.2   34210.4      236733.0      316046.0    1174196.0   \n",
       "2015  209940.8  404093.2   37234.1      237253.0      311022.0    1159868.0   \n",
       "2016  218002.1  406842.0   41742.4      246443.0      313830.0    1204465.0   \n",
       "2017  115036.5  210368.5   20998.2      108803.0      139926.0     597105.0   \n",
       "\n",
       "      Humidity3pm  Pressure9am   Pressure3pm   Temp9am   Temp3pm  \n",
       "Date                                                              \n",
       "2007       2793.0      62023.1  6.185710e+04    1053.3    1430.8  \n",
       "2008     109488.0    2185221.9  2.180969e+06   37852.0   47688.1  \n",
       "2009     820135.0   15229948.6  1.518137e+07  279567.3  358376.7  \n",
       "2010     875509.0   15267645.0  1.520336e+07  272475.5  344118.4  \n",
       "2011     806745.0   13847343.9  1.382892e+07  250123.5  317120.5  \n",
       "2012     751998.0   13961474.4  1.391526e+07  242410.4  312373.8  \n",
       "2013     800515.0   15002733.5  1.496858e+07  271355.1  349303.0  \n",
       "2014     868852.0   15725938.5  1.568586e+07  300526.4  385976.0  \n",
       "2015     835597.0   15537530.4  1.549894e+07  294423.9  366862.9  \n",
       "2016     852498.0   15957436.9  1.591119e+07  300260.8  355098.8  \n",
       "2017     409519.0    7745809.6  7.725715e+06  153818.8  186266.5  "
      ]
     },
     "execution_count": 36,
     "metadata": {},
     "output_type": "execute_result"
    }
   ],
   "source": [
    "#how much thee sum for each year\n",
    "raindata.groupby(raindata.index.year).sum()"
   ]
  },
  {
   "cell_type": "markdown",
   "id": "42255a75",
   "metadata": {},
   "source": [
    "# Split the Dataset"
   ]
  },
  {
   "cell_type": "code",
   "execution_count": 37,
   "id": "3cc9b40c",
   "metadata": {},
   "outputs": [],
   "source": [
    "#X considers upto Rain Today column\n",
    "X = raindata.iloc[:,:-1].values\n",
    "#Y considers upto Rain Today column\n",
    "Y = raindata.iloc[:,-1].values"
   ]
  },
  {
   "cell_type": "code",
   "execution_count": 38,
   "id": "78fe2d7b",
   "metadata": {},
   "outputs": [
    {
     "name": "stdout",
     "output_type": "stream",
     "text": [
      "[[1.3400e+01 2.2900e+01 6.0000e-01 ... 1.0071e+03 1.6900e+01 2.1800e+01]\n",
      " [7.4000e+00 2.5100e+01 0.0000e+00 ... 1.0078e+03 1.7200e+01 2.4300e+01]\n",
      " [1.2900e+01 2.5700e+01 0.0000e+00 ... 1.0087e+03 2.1000e+01 2.3200e+01]\n",
      " ...\n",
      " [5.4000e+00 2.6900e+01 0.0000e+00 ... 1.0168e+03 1.2500e+01 2.6100e+01]\n",
      " [7.8000e+00 2.7000e+01 0.0000e+00 ... 1.0165e+03 1.5100e+01 2.6000e+01]\n",
      " [1.4900e+01        nan 0.0000e+00 ... 1.0179e+03 1.5000e+01 2.0900e+01]]\n"
     ]
    }
   ],
   "source": [
    "print(X)"
   ]
  },
  {
   "cell_type": "code",
   "execution_count": 39,
   "id": "25b881ad",
   "metadata": {},
   "outputs": [
    {
     "name": "stdout",
     "output_type": "stream",
     "text": [
      "['No' 'No' 'No' ... 'No' 'No' 'No']\n"
     ]
    }
   ],
   "source": [
    "print(Y)"
   ]
  },
  {
   "cell_type": "code",
   "execution_count": 40,
   "id": "552be30e",
   "metadata": {},
   "outputs": [],
   "source": [
    "from sklearn.impute import SimpleImputer\n",
    "#arguments --> NaN values \n",
    "#simple imputer class is going to point on all the missing values and \n",
    "#'strategy' --> what to replace - with the mean\n",
    "imputer1 = SimpleImputer(missing_values = np.nan, strategy ='mean')\n",
    "\n",
    "#'strategy' --> what to replace - with most frequent values\n",
    "imputer2 = SimpleImputer(missing_values = np.nan, strategy ='most_frequent')"
   ]
  },
  {
   "cell_type": "code",
   "execution_count": 41,
   "id": "37999b32",
   "metadata": {},
   "outputs": [],
   "source": [
    "#with the most frequent values\n",
    "X = imputer2.fit_transform(X)"
   ]
  },
  {
   "cell_type": "code",
   "execution_count": 42,
   "id": "33b3e8e9",
   "metadata": {},
   "outputs": [
    {
     "name": "stdout",
     "output_type": "stream",
     "text": [
      "[[1.3400e+01 2.2900e+01 6.0000e-01 ... 1.0071e+03 1.6900e+01 2.1800e+01]\n",
      " [7.4000e+00 2.5100e+01 0.0000e+00 ... 1.0078e+03 1.7200e+01 2.4300e+01]\n",
      " [1.2900e+01 2.5700e+01 0.0000e+00 ... 1.0087e+03 2.1000e+01 2.3200e+01]\n",
      " ...\n",
      " [5.4000e+00 2.6900e+01 0.0000e+00 ... 1.0168e+03 1.2500e+01 2.6100e+01]\n",
      " [7.8000e+00 2.7000e+01 0.0000e+00 ... 1.0165e+03 1.5100e+01 2.6000e+01]\n",
      " [1.4900e+01 2.0000e+01 0.0000e+00 ... 1.0179e+03 1.5000e+01 2.0900e+01]]\n"
     ]
    }
   ],
   "source": [
    "print(X)"
   ]
  },
  {
   "cell_type": "code",
   "execution_count": 43,
   "id": "66c81934",
   "metadata": {},
   "outputs": [
    {
     "name": "stdout",
     "output_type": "stream",
     "text": [
      "False\n"
     ]
    }
   ],
   "source": [
    "#check whether there are missing values\n",
    "#print(array)\n",
    "array_summation = np. sum(X)\n",
    "array_has_nan_values = np. isnan(array_summation)\n",
    "print(array_has_nan_values)"
   ]
  },
  {
   "cell_type": "code",
   "execution_count": 44,
   "id": "b37bf4a5",
   "metadata": {},
   "outputs": [
    {
     "name": "stdout",
     "output_type": "stream",
     "text": [
      "['No' 'No' 'No' ... 'No' 'No' 'No']\n"
     ]
    }
   ],
   "source": [
    "print(Y)"
   ]
  },
  {
   "cell_type": "markdown",
   "id": "98eff4e5",
   "metadata": {},
   "source": [
    "# Encoding Dataset"
   ]
  },
  {
   "cell_type": "code",
   "execution_count": 45,
   "id": "9dec1286",
   "metadata": {},
   "outputs": [],
   "source": [
    "#import library to convert categorical variables to numerical varibles\n",
    "from sklearn.preprocessing import LabelEncoder\n",
    "\n",
    "#creating an instance of LabelEncoder class\n",
    "label = LabelEncoder()\n",
    "\n",
    "#fit the Split Y data\n",
    "Y = label.fit_transform(Y)"
   ]
  },
  {
   "cell_type": "code",
   "execution_count": 46,
   "id": "94818702",
   "metadata": {},
   "outputs": [
    {
     "name": "stdout",
     "output_type": "stream",
     "text": [
      "[0 0 0 ... 0 0 0]\n"
     ]
    }
   ],
   "source": [
    "#converted Y split to numerical values\n",
    "print(Y)"
   ]
  },
  {
   "cell_type": "code",
   "execution_count": null,
   "id": "040c5bb9",
   "metadata": {},
   "outputs": [],
   "source": []
  },
  {
   "cell_type": "markdown",
   "id": "d3b5af3f",
   "metadata": {},
   "source": [
    "# Split the dataset in to training and testing set"
   ]
  },
  {
   "cell_type": "code",
   "execution_count": 47,
   "id": "4f459462",
   "metadata": {},
   "outputs": [],
   "source": [
    "#Split the dataset in to training and testing data set\n",
    "from sklearn.model_selection import train_test_split\n",
    "X_train, X_test, Y_train, Y_test = train_test_split( X, Y, test_size=0.3)"
   ]
  },
  {
   "cell_type": "code",
   "execution_count": 48,
   "id": "25bbb25e",
   "metadata": {},
   "outputs": [
    {
     "data": {
      "text/plain": [
       "(99539, 11)"
      ]
     },
     "execution_count": 48,
     "metadata": {},
     "output_type": "execute_result"
    }
   ],
   "source": [
    "X_train.shape"
   ]
  },
  {
   "cell_type": "code",
   "execution_count": 49,
   "id": "4b4a9ed3",
   "metadata": {},
   "outputs": [
    {
     "data": {
      "text/plain": [
       "(42660, 11)"
      ]
     },
     "execution_count": 49,
     "metadata": {},
     "output_type": "execute_result"
    }
   ],
   "source": [
    "X_test.shape"
   ]
  },
  {
   "cell_type": "markdown",
   "id": "723911e2",
   "metadata": {},
   "source": [
    "# Naive Bayes Model for Rain Today Prediction"
   ]
  },
  {
   "cell_type": "code",
   "execution_count": 50,
   "id": "f41b54b2",
   "metadata": {},
   "outputs": [],
   "source": [
    "#Split the dataset in to training and testing data set\n",
    "from sklearn.model_selection import train_test_split\n",
    "X_train, X_test, Y_train, Y_test = train_test_split( X, Y, test_size=0.3)"
   ]
  },
  {
   "cell_type": "code",
   "execution_count": 51,
   "id": "6559c037",
   "metadata": {},
   "outputs": [
    {
     "name": "stdout",
     "output_type": "stream",
     "text": [
      "Train set: (99539, 11) (99539,)\n",
      "Test set: (42660, 11) (42660,)\n"
     ]
    }
   ],
   "source": [
    "print ('Train set:', X_train.shape,  Y_train.shape)\n",
    "print ('Test set:', X_test.shape,  Y_test.shape)"
   ]
  },
  {
   "cell_type": "code",
   "execution_count": 52,
   "id": "e146075c",
   "metadata": {},
   "outputs": [],
   "source": [
    "from sklearn.naive_bayes import MultinomialNB\n",
    "model = MultinomialNB()"
   ]
  },
  {
   "cell_type": "code",
   "execution_count": 53,
   "id": "357b0402",
   "metadata": {},
   "outputs": [],
   "source": [
    "from sklearn.preprocessing import MinMaxScaler #fixed import\n",
    "\n",
    "scaler = MinMaxScaler()\n",
    "X_train = scaler.fit_transform(X_train)\n",
    "X_test = scaler.transform(X_test)"
   ]
  },
  {
   "cell_type": "code",
   "execution_count": 54,
   "id": "84768507",
   "metadata": {},
   "outputs": [
    {
     "data": {
      "text/plain": [
       "MultinomialNB()"
      ]
     },
     "execution_count": 54,
     "metadata": {},
     "output_type": "execute_result"
    }
   ],
   "source": [
    "model.fit(X_train,Y_train)"
   ]
  },
  {
   "cell_type": "code",
   "execution_count": 55,
   "id": "b9c19bf3",
   "metadata": {},
   "outputs": [
    {
     "data": {
      "text/plain": [
       "0.7794655414908579"
      ]
     },
     "execution_count": 55,
     "metadata": {},
     "output_type": "execute_result"
    }
   ],
   "source": [
    "model.score(X_test,Y_test)"
   ]
  },
  {
   "cell_type": "code",
   "execution_count": 56,
   "id": "fe79c74f",
   "metadata": {},
   "outputs": [
    {
     "data": {
      "text/plain": [
       "array([0, 0, 0, ..., 0, 0, 0])"
      ]
     },
     "execution_count": 56,
     "metadata": {},
     "output_type": "execute_result"
    }
   ],
   "source": [
    "predictions = model.predict(X_test)\n",
    "predictions"
   ]
  },
  {
   "cell_type": "code",
   "execution_count": 57,
   "id": "02caac49",
   "metadata": {},
   "outputs": [
    {
     "name": "stdout",
     "output_type": "stream",
     "text": [
      "Model Accuracy: 0.7794655414908579\n"
     ]
    }
   ],
   "source": [
    "from sklearn.metrics import accuracy_score\n",
    "predictions = model.predict(X_test)\n",
    "print('Model Accuracy:', accuracy_score(Y_test,predictions))\n",
    "accuracy_NB = accuracy_score(Y_test,predictions)"
   ]
  },
  {
   "cell_type": "code",
   "execution_count": 58,
   "id": "393ac07b",
   "metadata": {},
   "outputs": [
    {
     "data": {
      "text/plain": [
       "array([[33182,     0],\n",
       "       [ 9408,    70]], dtype=int64)"
      ]
     },
     "execution_count": 58,
     "metadata": {},
     "output_type": "execute_result"
    }
   ],
   "source": [
    "from sklearn.metrics import confusion_matrix\n",
    "confusion_matrix(Y_test,predictions)"
   ]
  },
  {
   "cell_type": "markdown",
   "id": "b47cffec",
   "metadata": {},
   "source": [
    "# Accuracy visualization with Naive Bayes model"
   ]
  },
  {
   "cell_type": "code",
   "execution_count": 59,
   "id": "3b2ea7f0",
   "metadata": {},
   "outputs": [
    {
     "data": {
      "text/plain": [
       "Text(0, 0.5, 'Accuracy')"
      ]
     },
     "execution_count": 59,
     "metadata": {},
     "output_type": "execute_result"
    },
    {
     "data": {
      "image/png": "[encoded data removed]",
      "text/plain": [
       "<Figure size 432x216 with 1 Axes>"
      ]
     },
     "metadata": {
      "needs_background": "light"
     },
     "output_type": "display_data"
    }
   ],
   "source": [
    "import matplotlib.pyplot as plt\n",
    "%matplotlib inline\n",
    "#Adjust figure size\n",
    "plt.figure(figsize=(6,3))\n",
    "plt.ylim(0.0, 1.0)\n",
    "#X-axis, Y-axis -> value of that model\n",
    "plt.bar(\"Naive Bayes\",(accuracy_score(Y_test,predictions)),width=0.5,color=\"brown\")\n",
    "plt.xlabel(\"Machine Learning Algorithm\")\n",
    "plt.ylabel(\"Accuracy\")"
   ]
  },
  {
   "cell_type": "markdown",
   "id": "c035375f",
   "metadata": {},
   "source": [
    "# Build the random forest model for Rain Today Prediction"
   ]
  },
  {
   "cell_type": "code",
   "execution_count": 60,
   "id": "a0c16edb",
   "metadata": {},
   "outputs": [
    {
     "data": {
      "text/plain": [
       "RandomForestClassifier(n_estimators=50)"
      ]
     },
     "execution_count": 60,
     "metadata": {},
     "output_type": "execute_result"
    }
   ],
   "source": [
    "#import random forest classifier\n",
    "from sklearn.ensemble import RandomForestClassifier\n",
    "model = RandomForestClassifier(n_estimators=50)\n",
    "model.fit(X_train,Y_train)"
   ]
  },
  {
   "cell_type": "code",
   "execution_count": 61,
   "id": "768e6fc9",
   "metadata": {},
   "outputs": [
    {
     "data": {
      "text/plain": [
       "array([0, 0, 0, ..., 0, 0, 0])"
      ]
     },
     "execution_count": 61,
     "metadata": {},
     "output_type": "execute_result"
    }
   ],
   "source": [
    "pred = model.predict(X_test)\n",
    "pred"
   ]
  },
  {
   "cell_type": "code",
   "execution_count": 62,
   "id": "70e7415a",
   "metadata": {},
   "outputs": [
    {
     "data": {
      "text/plain": [
       "array([0, 0, 0, ..., 0, 0, 0])"
      ]
     },
     "execution_count": 62,
     "metadata": {},
     "output_type": "execute_result"
    }
   ],
   "source": [
    "Y_test"
   ]
  },
  {
   "cell_type": "code",
   "execution_count": 63,
   "id": "4bee2647",
   "metadata": {},
   "outputs": [
    {
     "name": "stdout",
     "output_type": "stream",
     "text": [
      "Accuracy of the model: 0.9999062353492734\n"
     ]
    }
   ],
   "source": [
    "#Calculate the accuracy of the random forest model\n",
    "from sklearn.metrics import accuracy_score\n",
    "model_accuracy_RF = accuracy_score(Y_test,pred)\n",
    "print('Accuracy of the model:', model_accuracy_RF)"
   ]
  },
  {
   "cell_type": "code",
   "execution_count": 64,
   "id": "d42b6766",
   "metadata": {},
   "outputs": [
    {
     "data": {
      "text/plain": [
       "array([[33182,     0],\n",
       "       [    4,  9474]], dtype=int64)"
      ]
     },
     "execution_count": 64,
     "metadata": {},
     "output_type": "execute_result"
    }
   ],
   "source": [
    "#Find the confusion matrix\n",
    "from sklearn.metrics import confusion_matrix\n",
    "confusion_matrix(Y_test,pred)"
   ]
  },
  {
   "cell_type": "markdown",
   "id": "c0a9dd54",
   "metadata": {},
   "source": [
    "# Accuracy visualization with random forest model"
   ]
  },
  {
   "cell_type": "code",
   "execution_count": 65,
   "id": "4c34c68b",
   "metadata": {},
   "outputs": [
    {
     "data": {
      "text/plain": [
       "Text(0, 0.5, 'Accuracy')"
      ]
     },
     "execution_count": 65,
     "metadata": {},
     "output_type": "execute_result"
    },
    {
     "data": {
      "image/png": "[encoded data removed]",
      "text/plain": [
       "<Figure size 432x216 with 1 Axes>"
      ]
     },
     "metadata": {
      "needs_background": "light"
     },
     "output_type": "display_data"
    }
   ],
   "source": [
    "import matplotlib.pyplot as plt\n",
    "%matplotlib inline\n",
    "#Adjust figure size\n",
    "plt.figure(figsize=(6,3))\n",
    "plt.ylim(0.0, 1.0)\n",
    "#X-axis, Y-axis -> value of that model\n",
    "plt.bar(\"Random Forest\",(accuracy_score(Y_test,pred)),width=0.5,color=\"purple\")\n",
    "plt.xlabel(\"Machine Learning Algorithm\")\n",
    "plt.ylabel(\"Accuracy\")"
   ]
  },
  {
   "cell_type": "markdown",
   "id": "3d0fd76a",
   "metadata": {},
   "source": [
    "# Decision Tree Model for RainToday prediction"
   ]
  },
  {
   "cell_type": "code",
   "execution_count": 66,
   "id": "af38ef66",
   "metadata": {},
   "outputs": [],
   "source": [
    "#from sklearn.model_selection import train_test_split\n",
    "#X_train,X_test,Y_train,Y_test = train_test_split(X,Y, test_size =0.20, random_state=10)\n",
    "#X_train.shape , X_test.shape"
   ]
  },
  {
   "cell_type": "code",
   "execution_count": 67,
   "id": "b8eddcf8",
   "metadata": {},
   "outputs": [],
   "source": [
    "from sklearn.metrics import classification_report,confusion_matrix,accuracy_score"
   ]
  },
  {
   "cell_type": "code",
   "execution_count": 68,
   "id": "604db0ce",
   "metadata": {},
   "outputs": [
    {
     "data": {
      "text/plain": [
       "DecisionTreeClassifier()"
      ]
     },
     "execution_count": 68,
     "metadata": {},
     "output_type": "execute_result"
    }
   ],
   "source": [
    "#import DecisionTreeClassifier\n",
    "from sklearn.tree import DecisionTreeClassifier\n",
    "dtree = DecisionTreeClassifier()\n",
    "dtree.fit(X_train,Y_train)\n",
    "#p=dtree.predict(X_test)\n",
    "#print(confusion_matrix(Y_test,p))\n",
    "#print(classification_report(Y_test,p))\n",
    "#print(accuracy_score(Y_test,p))"
   ]
  },
  {
   "cell_type": "code",
   "execution_count": 69,
   "id": "439d99cf",
   "metadata": {},
   "outputs": [],
   "source": [
    "train_pred = dtree.predict(X_train)\n",
    "test_pred = dtree.predict(X_test)"
   ]
  },
  {
   "cell_type": "code",
   "execution_count": 70,
   "id": "29dbca72",
   "metadata": {},
   "outputs": [
    {
     "data": {
      "text/plain": [
       "array([0, 0, 0, ..., 0, 0, 0])"
      ]
     },
     "execution_count": 70,
     "metadata": {},
     "output_type": "execute_result"
    }
   ],
   "source": [
    "test_pred"
   ]
  },
  {
   "cell_type": "code",
   "execution_count": 71,
   "id": "928c43d9",
   "metadata": {},
   "outputs": [
    {
     "data": {
      "text/plain": [
       "array([0, 1, 0, ..., 0, 0, 0])"
      ]
     },
     "execution_count": 71,
     "metadata": {},
     "output_type": "execute_result"
    }
   ],
   "source": [
    "train_pred"
   ]
  },
  {
   "cell_type": "code",
   "execution_count": 72,
   "id": "8477d2b7",
   "metadata": {},
   "outputs": [
    {
     "name": "stdout",
     "output_type": "stream",
     "text": [
      "1.0\n",
      "1.0\n"
     ]
    }
   ],
   "source": [
    "print(accuracy_score(Y_train,train_pred))\n",
    "print(accuracy_score(Y_test,test_pred))\n",
    "DT_accuracy = accuracy_score(Y_test,test_pred)"
   ]
  },
  {
   "cell_type": "markdown",
   "id": "d3fa9c81",
   "metadata": {},
   "source": [
    "# Accuracy Visualization with Decision Tree"
   ]
  },
  {
   "cell_type": "code",
   "execution_count": 73,
   "id": "798b466a",
   "metadata": {},
   "outputs": [
    {
     "data": {
      "text/plain": [
       "Text(0, 0.5, 'Accuracy')"
      ]
     },
     "execution_count": 73,
     "metadata": {},
     "output_type": "execute_result"
    },
    {
     "data": {
      "image/png": "[encoded data removed]",
      "text/plain": [
       "<Figure size 432x216 with 1 Axes>"
      ]
     },
     "metadata": {
      "needs_background": "light"
     },
     "output_type": "display_data"
    }
   ],
   "source": [
    "import matplotlib.pyplot as plt\n",
    "%matplotlib inline\n",
    "#Adjust figure size\n",
    "plt.figure(figsize=(6,3))\n",
    "plt.ylim(0.0, 1.0)\n",
    "#X-axis, Y-axis -> value of that model\n",
    "plt.bar(\"Decision Tree\",(accuracy_score(Y_test,test_pred)),width=0.5,color=\"red\")\n",
    "plt.xlabel(\"Machine Learning Algorithm\")\n",
    "plt.ylabel(\"Accuracy\")"
   ]
  },
  {
   "cell_type": "markdown",
   "id": "3d2d97cc",
   "metadata": {},
   "source": [
    "# Logistic Regression Model Creation for RainToday prediction"
   ]
  },
  {
   "cell_type": "code",
   "execution_count": 74,
   "id": "818e4e40",
   "metadata": {},
   "outputs": [],
   "source": [
    "# importing the MinMaxScaler\n",
    "from sklearn.preprocessing import MinMaxScaler\n",
    "\n",
    "# creating a scaler\n",
    "mm = MinMaxScaler()\n",
    "\n",
    "# feeding the independent variable into the scaler\n",
    "X_train = mm.fit_transform(X_train)\n",
    "X_test = mm.transform(X_test)"
   ]
  },
  {
   "cell_type": "code",
   "execution_count": 75,
   "id": "2dff7dee",
   "metadata": {},
   "outputs": [
    {
     "name": "stderr",
     "output_type": "stream",
     "text": [
      "C:\\Users\\sgeet\\anaconda3\\lib\\site-packages\\sklearn\\linear_model\\_logistic.py:763: ConvergenceWarning: lbfgs failed to converge (status=1):\n",
      "STOP: TOTAL NO. of ITERATIONS REACHED LIMIT.\n",
      "\n",
      "Increase the number of iterations (max_iter) or scale the data as shown in:\n",
      "    https://scikit-learn.org/stable/modules/preprocessing.html\n",
      "Please also refer to the documentation for alternative solver options:\n",
      "    https://scikit-learn.org/stable/modules/linear_model.html#logistic-regression\n",
      "  n_iter_i = _check_optimize_result(\n"
     ]
    },
    {
     "name": "stdout",
     "output_type": "stream",
     "text": [
      "[[32688   494]\n",
      " [ 3736  5742]]\n",
      "              precision    recall  f1-score   support\n",
      "\n",
      "           0       0.90      0.99      0.94     33182\n",
      "           1       0.92      0.61      0.73      9478\n",
      "\n",
      "    accuracy                           0.90     42660\n",
      "   macro avg       0.91      0.80      0.84     42660\n",
      "weighted avg       0.90      0.90      0.89     42660\n",
      "\n",
      "0.9008438818565401\n"
     ]
    }
   ],
   "source": [
    "from sklearn.linear_model import  LogisticRegression\n",
    "\n",
    "# creating a logistic regression model\n",
    "modelR = LogisticRegression(random_state=42,solver = 'lbfgs')\n",
    "\n",
    "# feeding the training data to the model\n",
    "modelR.fit(X_train, Y_train)\n",
    "\n",
    "# predicting the test set results\n",
    "Y_pred = modelR.predict(X_test)\n",
    "\n",
    "# calculating the classification accuracies\n",
    "print(confusion_matrix(Y_test,Y_pred))\n",
    "print(classification_report(Y_test,Y_pred))\n",
    "print(accuracy_score(Y_test,Y_pred))\n",
    "LR_accuracy = accuracy_score(Y_test,Y_pred)"
   ]
  },
  {
   "cell_type": "markdown",
   "id": "55c3d277",
   "metadata": {},
   "source": [
    "# Accuracy Visualization with Logistic Regression"
   ]
  },
  {
   "cell_type": "code",
   "execution_count": 76,
   "id": "39de7bd3",
   "metadata": {},
   "outputs": [
    {
     "data": {
      "text/plain": [
       "Text(0, 0.5, 'Accuracy')"
      ]
     },
     "execution_count": 76,
     "metadata": {},
     "output_type": "execute_result"
    },
    {
     "data": {
      "image/png": "[encoded data removed]",
      "text/plain": [
       "<Figure size 432x216 with 1 Axes>"
      ]
     },
     "metadata": {
      "needs_background": "light"
     },
     "output_type": "display_data"
    }
   ],
   "source": [
    "import matplotlib.pyplot as plt\n",
    "%matplotlib inline\n",
    "#Adjust figure size\n",
    "plt.figure(figsize=(6,3))\n",
    "plt.ylim(0.0, 1.0)\n",
    "#X-axis, Y-axis -> value of that model\n",
    "plt.bar(\"Logistic Regression\",(accuracy_score(Y_test,Y_pred)),width=0.5)\n",
    "plt.xlabel(\"Machine Learning Algorithm\")\n",
    "plt.ylabel(\"Accuracy\")"
   ]
  },
  {
   "cell_type": "markdown",
   "id": "da6fa72b",
   "metadata": {},
   "source": [
    "# Xg Boost Model for Rain Today Prediction"
   ]
  },
  {
   "cell_type": "code",
   "execution_count": 77,
   "id": "d8b457e2",
   "metadata": {},
   "outputs": [],
   "source": [
    "#Split the dataset in to training and testing data set\n",
    "from sklearn.model_selection import train_test_split\n",
    "X_train, X_test, Y_train, Y_test = train_test_split( X, Y, test_size=0.2)"
   ]
  },
  {
   "cell_type": "code",
   "execution_count": 78,
   "id": "a6cc102b",
   "metadata": {},
   "outputs": [
    {
     "data": {
      "text/plain": [
       "XGBClassifier(base_score=0.5, booster='gbtree', callbacks=None,\n",
       "              colsample_bylevel=1, colsample_bynode=1, colsample_bytree=1,\n",
       "              early_stopping_rounds=None, enable_categorical=False,\n",
       "              eval_metric=None, gamma=0, gpu_id=-1, grow_policy='depthwise',\n",
       "              importance_type=None, interaction_constraints='',\n",
       "              learning_rate=0.300000012, max_bin=256, max_cat_to_onehot=4,\n",
       "              max_delta_step=0, max_depth=6, max_leaves=0, min_child_weight=1,\n",
       "              missing=nan, monotone_constraints='()', n_estimators=100,\n",
       "              n_jobs=0, num_parallel_tree=1, predictor='auto', random_state=0,\n",
       "              reg_alpha=0, reg_lambda=1, ...)"
      ]
     },
     "execution_count": 78,
     "metadata": {},
     "output_type": "execute_result"
    }
   ],
   "source": [
    "#XG Boost\n",
    "from xgboost import XGBClassifier\n",
    "model_xg = XGBClassifier()\n",
    "model_xg.fit(X_train,Y_train)"
   ]
  },
  {
   "cell_type": "code",
   "execution_count": null,
   "id": "20edac70",
   "metadata": {},
   "outputs": [],
   "source": []
  },
  {
   "cell_type": "code",
   "execution_count": 79,
   "id": "dc81c098",
   "metadata": {},
   "outputs": [],
   "source": [
    "pred = model_xg.predict(X_test)"
   ]
  },
  {
   "cell_type": "code",
   "execution_count": 80,
   "id": "d351daf8",
   "metadata": {},
   "outputs": [
    {
     "data": {
      "text/plain": [
       "array([0, 0, 0, ..., 0, 1, 1])"
      ]
     },
     "execution_count": 80,
     "metadata": {},
     "output_type": "execute_result"
    }
   ],
   "source": [
    "pred"
   ]
  },
  {
   "cell_type": "code",
   "execution_count": 81,
   "id": "e1d58145",
   "metadata": {},
   "outputs": [
    {
     "data": {
      "text/plain": [
       "array([0, 0, 0, ..., 0, 1, 1])"
      ]
     },
     "execution_count": 81,
     "metadata": {},
     "output_type": "execute_result"
    }
   ],
   "source": [
    "Y_test"
   ]
  },
  {
   "cell_type": "code",
   "execution_count": 82,
   "id": "89aca804",
   "metadata": {},
   "outputs": [],
   "source": [
    "from sklearn.metrics import accuracy_score,confusion_matrix"
   ]
  },
  {
   "cell_type": "code",
   "execution_count": 83,
   "id": "1b7fb412",
   "metadata": {},
   "outputs": [],
   "source": [
    "accuracy_score(pred, Y_test)\n",
    "accuracyXg = accuracy_score(pred, Y_test)"
   ]
  },
  {
   "cell_type": "code",
   "execution_count": 84,
   "id": "b763241e",
   "metadata": {},
   "outputs": [
    {
     "data": {
      "text/plain": [
       "array([[22050,     0],\n",
       "       [    0,  6390]], dtype=int64)"
      ]
     },
     "execution_count": 84,
     "metadata": {},
     "output_type": "execute_result"
    }
   ],
   "source": [
    "confusion_matrix(pred, Y_test)"
   ]
  },
  {
   "cell_type": "markdown",
   "id": "c99e716d",
   "metadata": {},
   "source": [
    "# Accuracy Visualization with Xg Boost"
   ]
  },
  {
   "cell_type": "code",
   "execution_count": 85,
   "id": "f02a955c",
   "metadata": {},
   "outputs": [
    {
     "data": {
      "text/plain": [
       "Text(0, 0.5, 'Accuracy')"
      ]
     },
     "execution_count": 85,
     "metadata": {},
     "output_type": "execute_result"
    },
    {
     "data": {
      "image/png": "[encoded data removed]",
      "text/plain": [
       "<Figure size 432x216 with 1 Axes>"
      ]
     },
     "metadata": {
      "needs_background": "light"
     },
     "output_type": "display_data"
    }
   ],
   "source": [
    "import matplotlib.pyplot as plt\n",
    "%matplotlib inline\n",
    "#Adjust figure size\n",
    "plt.figure(figsize=(6,3))\n",
    "plt.ylim(0.0, 1.0)\n",
    "#X-axis, Y-axis -> value of that model\n",
    "plt.bar(\"Xg Boost\",(accuracy_score(Y_test,pred)),width=0.5,color=\"green\")\n",
    "plt.xlabel(\"Machine Learning Algorithm\")\n",
    "plt.ylabel(\"Accuracy\")"
   ]
  },
  {
   "cell_type": "markdown",
   "id": "b56b8843",
   "metadata": {},
   "source": [
    "# KNN Model Creation for RainToday prediction"
   ]
  },
  {
   "cell_type": "code",
   "execution_count": 86,
   "id": "614a7b0c",
   "metadata": {},
   "outputs": [
    {
     "data": {
      "text/plain": [
       "0.7499982419004353"
      ]
     },
     "execution_count": 86,
     "metadata": {},
     "output_type": "execute_result"
    }
   ],
   "source": [
    "from sklearn.model_selection import train_test_split\n",
    "X_train,X_test,Y_train,Y_test=train_test_split(X,Y,random_state=42)\n",
    "len(X_train)/len(X)"
   ]
  },
  {
   "cell_type": "code",
   "execution_count": 87,
   "id": "2faffd17",
   "metadata": {},
   "outputs": [],
   "source": [
    "#import KNeighborsClassifier\n",
    "from sklearn.neighbors import KNeighborsClassifier"
   ]
  },
  {
   "cell_type": "code",
   "execution_count": 88,
   "id": "d228776c",
   "metadata": {},
   "outputs": [],
   "source": [
    "#assigning no of neighbors to model\n",
    "classifier=KNeighborsClassifier(n_neighbors=7)"
   ]
  },
  {
   "cell_type": "code",
   "execution_count": 89,
   "id": "42d57b97",
   "metadata": {},
   "outputs": [
    {
     "data": {
      "text/plain": [
       "KNeighborsClassifier(n_neighbors=7)"
      ]
     },
     "execution_count": 89,
     "metadata": {},
     "output_type": "execute_result"
    }
   ],
   "source": [
    "classifier.fit(X_train,Y_train)"
   ]
  },
  {
   "cell_type": "code",
   "execution_count": 90,
   "id": "2ab7aa1e",
   "metadata": {},
   "outputs": [],
   "source": [
    "#prediction\n",
    "Y_prediction=classifier.predict(X_test)"
   ]
  },
  {
   "cell_type": "code",
   "execution_count": 91,
   "id": "1196bfc3",
   "metadata": {},
   "outputs": [
    {
     "data": {
      "text/plain": [
       "array([0, 0, 0, ..., 0, 0, 1])"
      ]
     },
     "execution_count": 91,
     "metadata": {},
     "output_type": "execute_result"
    }
   ],
   "source": [
    "Y_prediction"
   ]
  },
  {
   "cell_type": "code",
   "execution_count": 92,
   "id": "e1ac6096",
   "metadata": {},
   "outputs": [],
   "source": [
    "#checking the most suitable value for K\n",
    "# values = []\n",
    "# for n in range(1,15):\n",
    "#     classifier = KNeighborsClassifier(n_neighbors=n)\n",
    "#     classifier.fit(X_train,Y_train)\n",
    "#     values.append(classifier.score(X_test,Y_test))"
   ]
  },
  {
   "cell_type": "code",
   "execution_count": 93,
   "id": "0650d05f",
   "metadata": {},
   "outputs": [],
   "source": [
    "# import matplotlib.pyplot as plt\n",
    "# %matplotlib inline\n",
    "# plt.plot(range(1,15),values)"
   ]
  },
  {
   "cell_type": "code",
   "execution_count": 94,
   "id": "a4c32b35",
   "metadata": {},
   "outputs": [],
   "source": [
    "#from sklearn.metrics import classification_report,confusion_matrix,accuracy_score"
   ]
  },
  {
   "cell_type": "code",
   "execution_count": 95,
   "id": "0986c708",
   "metadata": {},
   "outputs": [
    {
     "name": "stdout",
     "output_type": "stream",
     "text": [
      "[[27056   514]\n",
      " [ 2758  5222]]\n",
      "              precision    recall  f1-score   support\n",
      "\n",
      "           0       0.91      0.98      0.94     27570\n",
      "           1       0.91      0.65      0.76      7980\n",
      "\n",
      "    accuracy                           0.91     35550\n",
      "   macro avg       0.91      0.82      0.85     35550\n",
      "weighted avg       0.91      0.91      0.90     35550\n",
      "\n",
      "0.9079606188466948\n"
     ]
    }
   ],
   "source": [
    "#generate accuracy reports\n",
    "print(confusion_matrix(Y_test,Y_prediction))\n",
    "print(classification_report(Y_test,Y_prediction))\n",
    "print(accuracy_score(Y_test,Y_prediction))\n",
    "KNN_accuracy = accuracy_score(Y_test,Y_prediction)"
   ]
  },
  {
   "cell_type": "markdown",
   "id": "557d8dcb",
   "metadata": {},
   "source": [
    "# Accuracy visualization with KNN"
   ]
  },
  {
   "cell_type": "code",
   "execution_count": 96,
   "id": "d4885c69",
   "metadata": {},
   "outputs": [
    {
     "data": {
      "text/plain": [
       "Text(0, 0.5, 'Accuracy')"
      ]
     },
     "execution_count": 96,
     "metadata": {},
     "output_type": "execute_result"
    },
    {
     "data": {
      "image/png": "[encoded data removed]",
      "text/plain": [
       "<Figure size 432x216 with 1 Axes>"
      ]
     },
     "metadata": {
      "needs_background": "light"
     },
     "output_type": "display_data"
    }
   ],
   "source": [
    "#import matplotlib.pyplot as plt\n",
    "#%matplotlib inline\n",
    "#Adjust figure size\n",
    "plt.figure(figsize=(6,3))\n",
    "plt.ylim(0.0, 1.0)\n",
    "#X-axis, Y-axis -> value of that model\n",
    "plt.bar(\"KNeighbors\",(accuracy_score(Y_test,Y_prediction)),width=0.5,color=\"orange\")\n",
    "plt.xlabel(\"Machine Learning Algorithm\")\n",
    "plt.ylabel(\"Accuracy\")"
   ]
  },
  {
   "cell_type": "markdown",
   "id": "2653b957",
   "metadata": {},
   "source": [
    "# Summarize accuracy comparison of models to predict RainToday"
   ]
  },
  {
   "cell_type": "code",
   "execution_count": 97,
   "id": "8aba4871",
   "metadata": {},
   "outputs": [
    {
     "data": {
      "text/plain": [
       "Text(0, 0.5, 'Accuracy')"
      ]
     },
     "execution_count": 97,
     "metadata": {},
     "output_type": "execute_result"
    },
    {
     "data": {
      "image/png": "[encoded data removed]",
      "text/plain": [
       "<Figure size 864x432 with 1 Axes>"
      ]
     },
     "metadata": {
      "needs_background": "light"
     },
     "output_type": "display_data"
    }
   ],
   "source": [
    "#Adjust figure size\n",
    "plt.figure(figsize=(12,6))\n",
    "plt.ylim(0.0, 1.0)\n",
    "#X-axis, Y-axis -> value of that model\n",
    "plt.bar(\"Logistic Regression\",LR_accuracy,width=0.5)\n",
    "plt.bar(\"KNeighbors\",KNN_accuracy,width=0.5)\n",
    "plt.bar(\"Xg Boost\",accuracyXg,width=0.5)\n",
    "plt.bar(\"Decision Tree\",DT_accuracy,width=0.5)\n",
    "plt.bar(\"Random Forest\",model_accuracy_RF,width=0.5)\n",
    "plt.bar(\"Naive Bayes\",accuracy_NB,width=0.5)\n",
    "plt.xlabel(\"Machine Learning Algorithm\")\n",
    "plt.ylabel(\"Accuracy\")"
   ]
  },
  {
   "cell_type": "code",
   "execution_count": null,
   "id": "5e3286a6",
   "metadata": {},
   "outputs": [],
   "source": []
  },
  {
   "cell_type": "markdown",
   "id": "bc81375e",
   "metadata": {},
   "source": [
    "# Rainfall Tomorrow"
   ]
  },
  {
   "cell_type": "code",
   "execution_count": 98,
   "id": "b83d1893",
   "metadata": {},
   "outputs": [],
   "source": [
    "#copy the original dataset\n",
    "raindata_tomorrow = dataset.copy()"
   ]
  },
  {
   "cell_type": "code",
   "execution_count": 99,
   "id": "a2f4cfd4",
   "metadata": {},
   "outputs": [],
   "source": [
    "#Select the necessary columns\n",
    "raindata_tomorrow = raindata_tomorrow [['MinTemp', 'MaxTemp','Rainfall','WindSpeed9am','WindSpeed3pm','Humidity9am','Humidity3pm', 'Pressure9am','Pressure3pm','Temp9am','Temp3pm','RainToday','RainTomorrow']]"
   ]
  },
  {
   "cell_type": "code",
   "execution_count": 100,
   "id": "159e873c",
   "metadata": {},
   "outputs": [
    {
     "data": {
      "text/html": [
       "<div>\n",
       "<style scoped>\n",
       "    .dataframe tbody tr th:only-of-type {\n",
       "        vertical-align: middle;\n",
       "    }\n",
       "\n",
       "    .dataframe tbody tr th {\n",
       "        vertical-align: top;\n",
       "    }\n",
       "\n",
       "    .dataframe thead th {\n",
       "        text-align: right;\n",
       "    }\n",
       "</style>\n",
       "<table border=\"1\" class=\"dataframe\">\n",
       "  <thead>\n",
       "    <tr style=\"text-align: right;\">\n",
       "      <th></th>\n",
       "      <th>MinTemp</th>\n",
       "      <th>MaxTemp</th>\n",
       "      <th>Rainfall</th>\n",
       "      <th>WindSpeed9am</th>\n",
       "      <th>WindSpeed3pm</th>\n",
       "      <th>Humidity9am</th>\n",
       "      <th>Humidity3pm</th>\n",
       "      <th>Pressure9am</th>\n",
       "      <th>Pressure3pm</th>\n",
       "      <th>Temp9am</th>\n",
       "      <th>Temp3pm</th>\n",
       "      <th>RainToday</th>\n",
       "      <th>RainTomorrow</th>\n",
       "    </tr>\n",
       "    <tr>\n",
       "      <th>Date</th>\n",
       "      <th></th>\n",
       "      <th></th>\n",
       "      <th></th>\n",
       "      <th></th>\n",
       "      <th></th>\n",
       "      <th></th>\n",
       "      <th></th>\n",
       "      <th></th>\n",
       "      <th></th>\n",
       "      <th></th>\n",
       "      <th></th>\n",
       "      <th></th>\n",
       "      <th></th>\n",
       "    </tr>\n",
       "  </thead>\n",
       "  <tbody>\n",
       "    <tr>\n",
       "      <th>2008-12-01</th>\n",
       "      <td>13.4</td>\n",
       "      <td>22.9</td>\n",
       "      <td>0.6</td>\n",
       "      <td>20.0</td>\n",
       "      <td>24.0</td>\n",
       "      <td>71.0</td>\n",
       "      <td>22.0</td>\n",
       "      <td>1007.7</td>\n",
       "      <td>1007.1</td>\n",
       "      <td>16.9</td>\n",
       "      <td>21.8</td>\n",
       "      <td>No</td>\n",
       "      <td>No</td>\n",
       "    </tr>\n",
       "    <tr>\n",
       "      <th>2008-12-02</th>\n",
       "      <td>7.4</td>\n",
       "      <td>25.1</td>\n",
       "      <td>0.0</td>\n",
       "      <td>4.0</td>\n",
       "      <td>22.0</td>\n",
       "      <td>44.0</td>\n",
       "      <td>25.0</td>\n",
       "      <td>1010.6</td>\n",
       "      <td>1007.8</td>\n",
       "      <td>17.2</td>\n",
       "      <td>24.3</td>\n",
       "      <td>No</td>\n",
       "      <td>No</td>\n",
       "    </tr>\n",
       "    <tr>\n",
       "      <th>2008-12-03</th>\n",
       "      <td>12.9</td>\n",
       "      <td>25.7</td>\n",
       "      <td>0.0</td>\n",
       "      <td>19.0</td>\n",
       "      <td>26.0</td>\n",
       "      <td>38.0</td>\n",
       "      <td>30.0</td>\n",
       "      <td>1007.6</td>\n",
       "      <td>1008.7</td>\n",
       "      <td>21.0</td>\n",
       "      <td>23.2</td>\n",
       "      <td>No</td>\n",
       "      <td>No</td>\n",
       "    </tr>\n",
       "    <tr>\n",
       "      <th>2008-12-04</th>\n",
       "      <td>9.2</td>\n",
       "      <td>28.0</td>\n",
       "      <td>0.0</td>\n",
       "      <td>11.0</td>\n",
       "      <td>9.0</td>\n",
       "      <td>45.0</td>\n",
       "      <td>16.0</td>\n",
       "      <td>1017.6</td>\n",
       "      <td>1012.8</td>\n",
       "      <td>18.1</td>\n",
       "      <td>26.5</td>\n",
       "      <td>No</td>\n",
       "      <td>No</td>\n",
       "    </tr>\n",
       "    <tr>\n",
       "      <th>2008-12-05</th>\n",
       "      <td>17.5</td>\n",
       "      <td>32.3</td>\n",
       "      <td>1.0</td>\n",
       "      <td>7.0</td>\n",
       "      <td>20.0</td>\n",
       "      <td>82.0</td>\n",
       "      <td>33.0</td>\n",
       "      <td>1010.8</td>\n",
       "      <td>1006.0</td>\n",
       "      <td>17.8</td>\n",
       "      <td>29.7</td>\n",
       "      <td>No</td>\n",
       "      <td>No</td>\n",
       "    </tr>\n",
       "    <tr>\n",
       "      <th>...</th>\n",
       "      <td>...</td>\n",
       "      <td>...</td>\n",
       "      <td>...</td>\n",
       "      <td>...</td>\n",
       "      <td>...</td>\n",
       "      <td>...</td>\n",
       "      <td>...</td>\n",
       "      <td>...</td>\n",
       "      <td>...</td>\n",
       "      <td>...</td>\n",
       "      <td>...</td>\n",
       "      <td>...</td>\n",
       "      <td>...</td>\n",
       "    </tr>\n",
       "    <tr>\n",
       "      <th>2017-06-21</th>\n",
       "      <td>2.8</td>\n",
       "      <td>23.4</td>\n",
       "      <td>0.0</td>\n",
       "      <td>13.0</td>\n",
       "      <td>11.0</td>\n",
       "      <td>51.0</td>\n",
       "      <td>24.0</td>\n",
       "      <td>1024.6</td>\n",
       "      <td>1020.3</td>\n",
       "      <td>10.1</td>\n",
       "      <td>22.4</td>\n",
       "      <td>No</td>\n",
       "      <td>No</td>\n",
       "    </tr>\n",
       "    <tr>\n",
       "      <th>2017-06-22</th>\n",
       "      <td>3.6</td>\n",
       "      <td>25.3</td>\n",
       "      <td>0.0</td>\n",
       "      <td>13.0</td>\n",
       "      <td>9.0</td>\n",
       "      <td>56.0</td>\n",
       "      <td>21.0</td>\n",
       "      <td>1023.5</td>\n",
       "      <td>1019.1</td>\n",
       "      <td>10.9</td>\n",
       "      <td>24.5</td>\n",
       "      <td>No</td>\n",
       "      <td>No</td>\n",
       "    </tr>\n",
       "    <tr>\n",
       "      <th>2017-06-23</th>\n",
       "      <td>5.4</td>\n",
       "      <td>26.9</td>\n",
       "      <td>0.0</td>\n",
       "      <td>9.0</td>\n",
       "      <td>9.0</td>\n",
       "      <td>53.0</td>\n",
       "      <td>24.0</td>\n",
       "      <td>1021.0</td>\n",
       "      <td>1016.8</td>\n",
       "      <td>12.5</td>\n",
       "      <td>26.1</td>\n",
       "      <td>No</td>\n",
       "      <td>No</td>\n",
       "    </tr>\n",
       "    <tr>\n",
       "      <th>2017-06-24</th>\n",
       "      <td>7.8</td>\n",
       "      <td>27.0</td>\n",
       "      <td>0.0</td>\n",
       "      <td>13.0</td>\n",
       "      <td>7.0</td>\n",
       "      <td>51.0</td>\n",
       "      <td>24.0</td>\n",
       "      <td>1019.4</td>\n",
       "      <td>1016.5</td>\n",
       "      <td>15.1</td>\n",
       "      <td>26.0</td>\n",
       "      <td>No</td>\n",
       "      <td>No</td>\n",
       "    </tr>\n",
       "    <tr>\n",
       "      <th>2017-06-25</th>\n",
       "      <td>14.9</td>\n",
       "      <td>NaN</td>\n",
       "      <td>0.0</td>\n",
       "      <td>17.0</td>\n",
       "      <td>17.0</td>\n",
       "      <td>62.0</td>\n",
       "      <td>36.0</td>\n",
       "      <td>1020.2</td>\n",
       "      <td>1017.9</td>\n",
       "      <td>15.0</td>\n",
       "      <td>20.9</td>\n",
       "      <td>No</td>\n",
       "      <td>NaN</td>\n",
       "    </tr>\n",
       "  </tbody>\n",
       "</table>\n",
       "<p>145460 rows × 13 columns</p>\n",
       "</div>"
      ],
      "text/plain": [
       "            MinTemp  MaxTemp  Rainfall  WindSpeed9am  WindSpeed3pm  \\\n",
       "Date                                                                 \n",
       "2008-12-01     13.4     22.9       0.6          20.0          24.0   \n",
       "2008-12-02      7.4     25.1       0.0           4.0          22.0   \n",
       "2008-12-03     12.9     25.7       0.0          19.0          26.0   \n",
       "2008-12-04      9.2     28.0       0.0          11.0           9.0   \n",
       "2008-12-05     17.5     32.3       1.0           7.0          20.0   \n",
       "...             ...      ...       ...           ...           ...   \n",
       "2017-06-21      2.8     23.4       0.0          13.0          11.0   \n",
       "2017-06-22      3.6     25.3       0.0          13.0           9.0   \n",
       "2017-06-23      5.4     26.9       0.0           9.0           9.0   \n",
       "2017-06-24      7.8     27.0       0.0          13.0           7.0   \n",
       "2017-06-25     14.9      NaN       0.0          17.0          17.0   \n",
       "\n",
       "            Humidity9am  Humidity3pm  Pressure9am  Pressure3pm  Temp9am  \\\n",
       "Date                                                                      \n",
       "2008-12-01         71.0         22.0       1007.7       1007.1     16.9   \n",
       "2008-12-02         44.0         25.0       1010.6       1007.8     17.2   \n",
       "2008-12-03         38.0         30.0       1007.6       1008.7     21.0   \n",
       "2008-12-04         45.0         16.0       1017.6       1012.8     18.1   \n",
       "2008-12-05         82.0         33.0       1010.8       1006.0     17.8   \n",
       "...                 ...          ...          ...          ...      ...   \n",
       "2017-06-21         51.0         24.0       1024.6       1020.3     10.1   \n",
       "2017-06-22         56.0         21.0       1023.5       1019.1     10.9   \n",
       "2017-06-23         53.0         24.0       1021.0       1016.8     12.5   \n",
       "2017-06-24         51.0         24.0       1019.4       1016.5     15.1   \n",
       "2017-06-25         62.0         36.0       1020.2       1017.9     15.0   \n",
       "\n",
       "            Temp3pm RainToday RainTomorrow  \n",
       "Date                                        \n",
       "2008-12-01     21.8        No           No  \n",
       "2008-12-02     24.3        No           No  \n",
       "2008-12-03     23.2        No           No  \n",
       "2008-12-04     26.5        No           No  \n",
       "2008-12-05     29.7        No           No  \n",
       "...             ...       ...          ...  \n",
       "2017-06-21     22.4        No           No  \n",
       "2017-06-22     24.5        No           No  \n",
       "2017-06-23     26.1        No           No  \n",
       "2017-06-24     26.0        No           No  \n",
       "2017-06-25     20.9        No          NaN  \n",
       "\n",
       "[145460 rows x 13 columns]"
      ]
     },
     "execution_count": 100,
     "metadata": {},
     "output_type": "execute_result"
    }
   ],
   "source": [
    "#display the dataset\n",
    "raindata_tomorrow"
   ]
  },
  {
   "cell_type": "markdown",
   "id": "43acac42",
   "metadata": {},
   "source": [
    "# Data Preprocessing"
   ]
  },
  {
   "cell_type": "code",
   "execution_count": 101,
   "id": "b1746290",
   "metadata": {},
   "outputs": [
    {
     "data": {
      "text/plain": [
       "MinTemp          1485\n",
       "MaxTemp          1261\n",
       "Rainfall         3261\n",
       "WindSpeed9am     1767\n",
       "WindSpeed3pm     3062\n",
       "Humidity9am      2654\n",
       "Humidity3pm      4507\n",
       "Pressure9am     15065\n",
       "Pressure3pm     15028\n",
       "Temp9am          1767\n",
       "Temp3pm          3609\n",
       "RainToday        3261\n",
       "RainTomorrow     3267\n",
       "dtype: int64"
      ]
     },
     "execution_count": 101,
     "metadata": {},
     "output_type": "execute_result"
    }
   ],
   "source": [
    "#number of missing values\n",
    "raindata_tomorrow.apply(pd.isnull).sum()"
   ]
  },
  {
   "cell_type": "code",
   "execution_count": 102,
   "id": "b523a4b8",
   "metadata": {},
   "outputs": [
    {
     "data": {
      "text/html": [
       "<div>\n",
       "<style scoped>\n",
       "    .dataframe tbody tr th:only-of-type {\n",
       "        vertical-align: middle;\n",
       "    }\n",
       "\n",
       "    .dataframe tbody tr th {\n",
       "        vertical-align: top;\n",
       "    }\n",
       "\n",
       "    .dataframe thead th {\n",
       "        text-align: right;\n",
       "    }\n",
       "</style>\n",
       "<table border=\"1\" class=\"dataframe\">\n",
       "  <thead>\n",
       "    <tr style=\"text-align: right;\">\n",
       "      <th></th>\n",
       "      <th>MinTemp</th>\n",
       "      <th>MaxTemp</th>\n",
       "      <th>Rainfall</th>\n",
       "      <th>WindSpeed9am</th>\n",
       "      <th>WindSpeed3pm</th>\n",
       "      <th>Humidity9am</th>\n",
       "      <th>Humidity3pm</th>\n",
       "      <th>Pressure9am</th>\n",
       "      <th>Pressure3pm</th>\n",
       "      <th>Temp9am</th>\n",
       "      <th>Temp3pm</th>\n",
       "      <th>RainToday</th>\n",
       "      <th>RainTomorrow</th>\n",
       "    </tr>\n",
       "    <tr>\n",
       "      <th>Date</th>\n",
       "      <th></th>\n",
       "      <th></th>\n",
       "      <th></th>\n",
       "      <th></th>\n",
       "      <th></th>\n",
       "      <th></th>\n",
       "      <th></th>\n",
       "      <th></th>\n",
       "      <th></th>\n",
       "      <th></th>\n",
       "      <th></th>\n",
       "      <th></th>\n",
       "      <th></th>\n",
       "    </tr>\n",
       "  </thead>\n",
       "  <tbody>\n",
       "    <tr>\n",
       "      <th>2008-12-15</th>\n",
       "      <td>8.4</td>\n",
       "      <td>24.6</td>\n",
       "      <td>0.0</td>\n",
       "      <td>4.0</td>\n",
       "      <td>30.0</td>\n",
       "      <td>57.0</td>\n",
       "      <td>32.0</td>\n",
       "      <td>1009.7</td>\n",
       "      <td>1008.7</td>\n",
       "      <td>15.9</td>\n",
       "      <td>23.5</td>\n",
       "      <td>No</td>\n",
       "      <td>NaN</td>\n",
       "    </tr>\n",
       "    <tr>\n",
       "      <th>2008-12-16</th>\n",
       "      <td>9.8</td>\n",
       "      <td>27.7</td>\n",
       "      <td>NaN</td>\n",
       "      <td>NaN</td>\n",
       "      <td>22.0</td>\n",
       "      <td>50.0</td>\n",
       "      <td>28.0</td>\n",
       "      <td>1013.4</td>\n",
       "      <td>1010.3</td>\n",
       "      <td>17.3</td>\n",
       "      <td>26.2</td>\n",
       "      <td>NaN</td>\n",
       "      <td>No</td>\n",
       "    </tr>\n",
       "    <tr>\n",
       "      <th>2009-02-28</th>\n",
       "      <td>16.0</td>\n",
       "      <td>34.5</td>\n",
       "      <td>0.0</td>\n",
       "      <td>6.0</td>\n",
       "      <td>NaN</td>\n",
       "      <td>44.0</td>\n",
       "      <td>14.0</td>\n",
       "      <td>1007.5</td>\n",
       "      <td>1004.6</td>\n",
       "      <td>22.2</td>\n",
       "      <td>33.6</td>\n",
       "      <td>No</td>\n",
       "      <td>No</td>\n",
       "    </tr>\n",
       "    <tr>\n",
       "      <th>2009-09-10</th>\n",
       "      <td>2.6</td>\n",
       "      <td>NaN</td>\n",
       "      <td>0.0</td>\n",
       "      <td>6.0</td>\n",
       "      <td>13.0</td>\n",
       "      <td>71.0</td>\n",
       "      <td>55.0</td>\n",
       "      <td>1017.8</td>\n",
       "      <td>1017.6</td>\n",
       "      <td>9.7</td>\n",
       "      <td>14.3</td>\n",
       "      <td>No</td>\n",
       "      <td>NaN</td>\n",
       "    </tr>\n",
       "    <tr>\n",
       "      <th>2009-09-11</th>\n",
       "      <td>NaN</td>\n",
       "      <td>18.8</td>\n",
       "      <td>NaN</td>\n",
       "      <td>7.0</td>\n",
       "      <td>19.0</td>\n",
       "      <td>83.0</td>\n",
       "      <td>46.0</td>\n",
       "      <td>1022.2</td>\n",
       "      <td>1018.2</td>\n",
       "      <td>8.7</td>\n",
       "      <td>18.1</td>\n",
       "      <td>NaN</td>\n",
       "      <td>No</td>\n",
       "    </tr>\n",
       "    <tr>\n",
       "      <th>...</th>\n",
       "      <td>...</td>\n",
       "      <td>...</td>\n",
       "      <td>...</td>\n",
       "      <td>...</td>\n",
       "      <td>...</td>\n",
       "      <td>...</td>\n",
       "      <td>...</td>\n",
       "      <td>...</td>\n",
       "      <td>...</td>\n",
       "      <td>...</td>\n",
       "      <td>...</td>\n",
       "      <td>...</td>\n",
       "      <td>...</td>\n",
       "    </tr>\n",
       "    <tr>\n",
       "      <th>2016-06-23</th>\n",
       "      <td>14.2</td>\n",
       "      <td>18.7</td>\n",
       "      <td>NaN</td>\n",
       "      <td>9.0</td>\n",
       "      <td>NaN</td>\n",
       "      <td>81.0</td>\n",
       "      <td>67.0</td>\n",
       "      <td>1015.2</td>\n",
       "      <td>1014.6</td>\n",
       "      <td>16.6</td>\n",
       "      <td>17.5</td>\n",
       "      <td>NaN</td>\n",
       "      <td>NaN</td>\n",
       "    </tr>\n",
       "    <tr>\n",
       "      <th>2016-06-24</th>\n",
       "      <td>3.2</td>\n",
       "      <td>17.9</td>\n",
       "      <td>NaN</td>\n",
       "      <td>11.0</td>\n",
       "      <td>20.0</td>\n",
       "      <td>83.0</td>\n",
       "      <td>39.0</td>\n",
       "      <td>1022.4</td>\n",
       "      <td>1019.0</td>\n",
       "      <td>8.8</td>\n",
       "      <td>17.2</td>\n",
       "      <td>NaN</td>\n",
       "      <td>No</td>\n",
       "    </tr>\n",
       "    <tr>\n",
       "      <th>2017-02-21</th>\n",
       "      <td>13.5</td>\n",
       "      <td>NaN</td>\n",
       "      <td>0.0</td>\n",
       "      <td>24.0</td>\n",
       "      <td>7.0</td>\n",
       "      <td>23.0</td>\n",
       "      <td>11.0</td>\n",
       "      <td>1013.7</td>\n",
       "      <td>1008.4</td>\n",
       "      <td>25.2</td>\n",
       "      <td>34.4</td>\n",
       "      <td>No</td>\n",
       "      <td>NaN</td>\n",
       "    </tr>\n",
       "    <tr>\n",
       "      <th>2017-02-22</th>\n",
       "      <td>16.1</td>\n",
       "      <td>38.0</td>\n",
       "      <td>NaN</td>\n",
       "      <td>22.0</td>\n",
       "      <td>17.0</td>\n",
       "      <td>30.0</td>\n",
       "      <td>16.0</td>\n",
       "      <td>1011.4</td>\n",
       "      <td>1008.6</td>\n",
       "      <td>27.7</td>\n",
       "      <td>36.4</td>\n",
       "      <td>NaN</td>\n",
       "      <td>No</td>\n",
       "    </tr>\n",
       "    <tr>\n",
       "      <th>2017-06-25</th>\n",
       "      <td>14.9</td>\n",
       "      <td>NaN</td>\n",
       "      <td>0.0</td>\n",
       "      <td>17.0</td>\n",
       "      <td>17.0</td>\n",
       "      <td>62.0</td>\n",
       "      <td>36.0</td>\n",
       "      <td>1020.2</td>\n",
       "      <td>1017.9</td>\n",
       "      <td>15.0</td>\n",
       "      <td>20.9</td>\n",
       "      <td>No</td>\n",
       "      <td>NaN</td>\n",
       "    </tr>\n",
       "  </tbody>\n",
       "</table>\n",
       "<p>21492 rows × 13 columns</p>\n",
       "</div>"
      ],
      "text/plain": [
       "            MinTemp  MaxTemp  Rainfall  WindSpeed9am  WindSpeed3pm  \\\n",
       "Date                                                                 \n",
       "2008-12-15      8.4     24.6       0.0           4.0          30.0   \n",
       "2008-12-16      9.8     27.7       NaN           NaN          22.0   \n",
       "2009-02-28     16.0     34.5       0.0           6.0           NaN   \n",
       "2009-09-10      2.6      NaN       0.0           6.0          13.0   \n",
       "2009-09-11      NaN     18.8       NaN           7.0          19.0   \n",
       "...             ...      ...       ...           ...           ...   \n",
       "2016-06-23     14.2     18.7       NaN           9.0           NaN   \n",
       "2016-06-24      3.2     17.9       NaN          11.0          20.0   \n",
       "2017-02-21     13.5      NaN       0.0          24.0           7.0   \n",
       "2017-02-22     16.1     38.0       NaN          22.0          17.0   \n",
       "2017-06-25     14.9      NaN       0.0          17.0          17.0   \n",
       "\n",
       "            Humidity9am  Humidity3pm  Pressure9am  Pressure3pm  Temp9am  \\\n",
       "Date                                                                      \n",
       "2008-12-15         57.0         32.0       1009.7       1008.7     15.9   \n",
       "2008-12-16         50.0         28.0       1013.4       1010.3     17.3   \n",
       "2009-02-28         44.0         14.0       1007.5       1004.6     22.2   \n",
       "2009-09-10         71.0         55.0       1017.8       1017.6      9.7   \n",
       "2009-09-11         83.0         46.0       1022.2       1018.2      8.7   \n",
       "...                 ...          ...          ...          ...      ...   \n",
       "2016-06-23         81.0         67.0       1015.2       1014.6     16.6   \n",
       "2016-06-24         83.0         39.0       1022.4       1019.0      8.8   \n",
       "2017-02-21         23.0         11.0       1013.7       1008.4     25.2   \n",
       "2017-02-22         30.0         16.0       1011.4       1008.6     27.7   \n",
       "2017-06-25         62.0         36.0       1020.2       1017.9     15.0   \n",
       "\n",
       "            Temp3pm RainToday RainTomorrow  \n",
       "Date                                        \n",
       "2008-12-15     23.5        No          NaN  \n",
       "2008-12-16     26.2       NaN           No  \n",
       "2009-02-28     33.6        No           No  \n",
       "2009-09-10     14.3        No          NaN  \n",
       "2009-09-11     18.1       NaN           No  \n",
       "...             ...       ...          ...  \n",
       "2016-06-23     17.5       NaN          NaN  \n",
       "2016-06-24     17.2       NaN           No  \n",
       "2017-02-21     34.4        No          NaN  \n",
       "2017-02-22     36.4       NaN           No  \n",
       "2017-06-25     20.9        No          NaN  \n",
       "\n",
       "[21492 rows x 13 columns]"
      ]
     },
     "execution_count": 102,
     "metadata": {},
     "output_type": "execute_result"
    }
   ],
   "source": [
    "#Display the NaN records\n",
    "raindata_tomorrow[raindata_tomorrow.isna().any(axis=1)]"
   ]
  },
  {
   "cell_type": "code",
   "execution_count": 103,
   "id": "8fac9262",
   "metadata": {},
   "outputs": [],
   "source": [
    "#fill NaN values of 'Rainfall' column using most frequent values\n",
    "\n",
    "raindata_tomorrow['Rainfall'] = raindata_tomorrow['Rainfall'].fillna(raindata_tomorrow['Rainfall'].value_counts().index[0])"
   ]
  },
  {
   "cell_type": "code",
   "execution_count": 104,
   "id": "6d8f1147",
   "metadata": {},
   "outputs": [],
   "source": [
    "#Rain_Today column\n",
    "#where Rainfall > 1mm \n",
    "raindata_tomorrow[\"Rain_Today\"] = np.where(raindata_tomorrow['Rainfall'] >= 1, 'Yes','No')"
   ]
  },
  {
   "cell_type": "code",
   "execution_count": 105,
   "id": "215b323c",
   "metadata": {},
   "outputs": [],
   "source": [
    "#RainTomorrow column consist NaN values\n",
    "#To predict RainTomorrow \n",
    "#Add a new column with no NaN values 'Rain_Tomorrow'\n",
    "#shifting one row ''\n",
    "raindata_tomorrow[\"Rain_Tomorrow\"] = raindata_tomorrow.shift(-1)[\"Rain_Today\"]"
   ]
  },
  {
   "cell_type": "code",
   "execution_count": 106,
   "id": "9dcdd320",
   "metadata": {},
   "outputs": [
    {
     "data": {
      "text/plain": [
       "MinTemp           1485\n",
       "MaxTemp           1261\n",
       "Rainfall             0\n",
       "WindSpeed9am      1767\n",
       "WindSpeed3pm      3062\n",
       "Humidity9am       2654\n",
       "Humidity3pm       4507\n",
       "Pressure9am      15065\n",
       "Pressure3pm      15028\n",
       "Temp9am           1767\n",
       "Temp3pm           3609\n",
       "RainToday         3261\n",
       "RainTomorrow      3267\n",
       "Rain_Today           0\n",
       "Rain_Tomorrow        1\n",
       "dtype: int64"
      ]
     },
     "execution_count": 106,
     "metadata": {},
     "output_type": "execute_result"
    }
   ],
   "source": [
    "#number of missing values\n",
    "raindata_tomorrow.apply(pd.isnull).sum()"
   ]
  },
  {
   "cell_type": "code",
   "execution_count": 107,
   "id": "0ab05591",
   "metadata": {},
   "outputs": [
    {
     "data": {
      "text/html": [
       "<div>\n",
       "<style scoped>\n",
       "    .dataframe tbody tr th:only-of-type {\n",
       "        vertical-align: middle;\n",
       "    }\n",
       "\n",
       "    .dataframe tbody tr th {\n",
       "        vertical-align: top;\n",
       "    }\n",
       "\n",
       "    .dataframe thead th {\n",
       "        text-align: right;\n",
       "    }\n",
       "</style>\n",
       "<table border=\"1\" class=\"dataframe\">\n",
       "  <thead>\n",
       "    <tr style=\"text-align: right;\">\n",
       "      <th></th>\n",
       "      <th>MinTemp</th>\n",
       "      <th>MaxTemp</th>\n",
       "      <th>Rainfall</th>\n",
       "      <th>WindSpeed9am</th>\n",
       "      <th>WindSpeed3pm</th>\n",
       "      <th>Humidity9am</th>\n",
       "      <th>Humidity3pm</th>\n",
       "      <th>Pressure9am</th>\n",
       "      <th>Pressure3pm</th>\n",
       "      <th>Temp9am</th>\n",
       "      <th>Temp3pm</th>\n",
       "      <th>RainToday</th>\n",
       "      <th>RainTomorrow</th>\n",
       "      <th>Rain_Today</th>\n",
       "      <th>Rain_Tomorrow</th>\n",
       "    </tr>\n",
       "    <tr>\n",
       "      <th>Date</th>\n",
       "      <th></th>\n",
       "      <th></th>\n",
       "      <th></th>\n",
       "      <th></th>\n",
       "      <th></th>\n",
       "      <th></th>\n",
       "      <th></th>\n",
       "      <th></th>\n",
       "      <th></th>\n",
       "      <th></th>\n",
       "      <th></th>\n",
       "      <th></th>\n",
       "      <th></th>\n",
       "      <th></th>\n",
       "      <th></th>\n",
       "    </tr>\n",
       "  </thead>\n",
       "  <tbody>\n",
       "    <tr>\n",
       "      <th>2017-06-21</th>\n",
       "      <td>2.8</td>\n",
       "      <td>23.4</td>\n",
       "      <td>0.0</td>\n",
       "      <td>13.0</td>\n",
       "      <td>11.0</td>\n",
       "      <td>51.0</td>\n",
       "      <td>24.0</td>\n",
       "      <td>1024.6</td>\n",
       "      <td>1020.3</td>\n",
       "      <td>10.1</td>\n",
       "      <td>22.4</td>\n",
       "      <td>No</td>\n",
       "      <td>No</td>\n",
       "      <td>No</td>\n",
       "      <td>No</td>\n",
       "    </tr>\n",
       "    <tr>\n",
       "      <th>2017-06-22</th>\n",
       "      <td>3.6</td>\n",
       "      <td>25.3</td>\n",
       "      <td>0.0</td>\n",
       "      <td>13.0</td>\n",
       "      <td>9.0</td>\n",
       "      <td>56.0</td>\n",
       "      <td>21.0</td>\n",
       "      <td>1023.5</td>\n",
       "      <td>1019.1</td>\n",
       "      <td>10.9</td>\n",
       "      <td>24.5</td>\n",
       "      <td>No</td>\n",
       "      <td>No</td>\n",
       "      <td>No</td>\n",
       "      <td>No</td>\n",
       "    </tr>\n",
       "    <tr>\n",
       "      <th>2017-06-23</th>\n",
       "      <td>5.4</td>\n",
       "      <td>26.9</td>\n",
       "      <td>0.0</td>\n",
       "      <td>9.0</td>\n",
       "      <td>9.0</td>\n",
       "      <td>53.0</td>\n",
       "      <td>24.0</td>\n",
       "      <td>1021.0</td>\n",
       "      <td>1016.8</td>\n",
       "      <td>12.5</td>\n",
       "      <td>26.1</td>\n",
       "      <td>No</td>\n",
       "      <td>No</td>\n",
       "      <td>No</td>\n",
       "      <td>No</td>\n",
       "    </tr>\n",
       "    <tr>\n",
       "      <th>2017-06-24</th>\n",
       "      <td>7.8</td>\n",
       "      <td>27.0</td>\n",
       "      <td>0.0</td>\n",
       "      <td>13.0</td>\n",
       "      <td>7.0</td>\n",
       "      <td>51.0</td>\n",
       "      <td>24.0</td>\n",
       "      <td>1019.4</td>\n",
       "      <td>1016.5</td>\n",
       "      <td>15.1</td>\n",
       "      <td>26.0</td>\n",
       "      <td>No</td>\n",
       "      <td>No</td>\n",
       "      <td>No</td>\n",
       "      <td>No</td>\n",
       "    </tr>\n",
       "    <tr>\n",
       "      <th>2017-06-25</th>\n",
       "      <td>14.9</td>\n",
       "      <td>NaN</td>\n",
       "      <td>0.0</td>\n",
       "      <td>17.0</td>\n",
       "      <td>17.0</td>\n",
       "      <td>62.0</td>\n",
       "      <td>36.0</td>\n",
       "      <td>1020.2</td>\n",
       "      <td>1017.9</td>\n",
       "      <td>15.0</td>\n",
       "      <td>20.9</td>\n",
       "      <td>No</td>\n",
       "      <td>NaN</td>\n",
       "      <td>No</td>\n",
       "      <td>NaN</td>\n",
       "    </tr>\n",
       "  </tbody>\n",
       "</table>\n",
       "</div>"
      ],
      "text/plain": [
       "            MinTemp  MaxTemp  Rainfall  WindSpeed9am  WindSpeed3pm  \\\n",
       "Date                                                                 \n",
       "2017-06-21      2.8     23.4       0.0          13.0          11.0   \n",
       "2017-06-22      3.6     25.3       0.0          13.0           9.0   \n",
       "2017-06-23      5.4     26.9       0.0           9.0           9.0   \n",
       "2017-06-24      7.8     27.0       0.0          13.0           7.0   \n",
       "2017-06-25     14.9      NaN       0.0          17.0          17.0   \n",
       "\n",
       "            Humidity9am  Humidity3pm  Pressure9am  Pressure3pm  Temp9am  \\\n",
       "Date                                                                      \n",
       "2017-06-21         51.0         24.0       1024.6       1020.3     10.1   \n",
       "2017-06-22         56.0         21.0       1023.5       1019.1     10.9   \n",
       "2017-06-23         53.0         24.0       1021.0       1016.8     12.5   \n",
       "2017-06-24         51.0         24.0       1019.4       1016.5     15.1   \n",
       "2017-06-25         62.0         36.0       1020.2       1017.9     15.0   \n",
       "\n",
       "            Temp3pm RainToday RainTomorrow Rain_Today Rain_Tomorrow  \n",
       "Date                                                                 \n",
       "2017-06-21     22.4        No           No         No            No  \n",
       "2017-06-22     24.5        No           No         No            No  \n",
       "2017-06-23     26.1        No           No         No            No  \n",
       "2017-06-24     26.0        No           No         No            No  \n",
       "2017-06-25     20.9        No          NaN         No           NaN  "
      ]
     },
     "execution_count": 107,
     "metadata": {},
     "output_type": "execute_result"
    }
   ],
   "source": [
    "#dispplay the last 5 records of the dataset\n",
    "raindata_tomorrow.tail(5)"
   ]
  },
  {
   "cell_type": "code",
   "execution_count": 108,
   "id": "14f555ba",
   "metadata": {},
   "outputs": [],
   "source": [
    "#remove the last row 'Rain_Tomorrow' with NaN\n",
    "raindata_tomorrow = raindata_tomorrow.iloc[:-1,:].copy()"
   ]
  },
  {
   "cell_type": "code",
   "execution_count": 109,
   "id": "3023e7d6",
   "metadata": {},
   "outputs": [
    {
     "data": {
      "text/html": [
       "<div>\n",
       "<style scoped>\n",
       "    .dataframe tbody tr th:only-of-type {\n",
       "        vertical-align: middle;\n",
       "    }\n",
       "\n",
       "    .dataframe tbody tr th {\n",
       "        vertical-align: top;\n",
       "    }\n",
       "\n",
       "    .dataframe thead th {\n",
       "        text-align: right;\n",
       "    }\n",
       "</style>\n",
       "<table border=\"1\" class=\"dataframe\">\n",
       "  <thead>\n",
       "    <tr style=\"text-align: right;\">\n",
       "      <th></th>\n",
       "      <th>MinTemp</th>\n",
       "      <th>MaxTemp</th>\n",
       "      <th>Rainfall</th>\n",
       "      <th>WindSpeed9am</th>\n",
       "      <th>WindSpeed3pm</th>\n",
       "      <th>Humidity9am</th>\n",
       "      <th>Humidity3pm</th>\n",
       "      <th>Pressure9am</th>\n",
       "      <th>Pressure3pm</th>\n",
       "      <th>Temp9am</th>\n",
       "      <th>Temp3pm</th>\n",
       "      <th>RainToday</th>\n",
       "      <th>RainTomorrow</th>\n",
       "      <th>Rain_Today</th>\n",
       "      <th>Rain_Tomorrow</th>\n",
       "    </tr>\n",
       "    <tr>\n",
       "      <th>Date</th>\n",
       "      <th></th>\n",
       "      <th></th>\n",
       "      <th></th>\n",
       "      <th></th>\n",
       "      <th></th>\n",
       "      <th></th>\n",
       "      <th></th>\n",
       "      <th></th>\n",
       "      <th></th>\n",
       "      <th></th>\n",
       "      <th></th>\n",
       "      <th></th>\n",
       "      <th></th>\n",
       "      <th></th>\n",
       "      <th></th>\n",
       "    </tr>\n",
       "  </thead>\n",
       "  <tbody>\n",
       "    <tr>\n",
       "      <th>2008-12-01</th>\n",
       "      <td>13.4</td>\n",
       "      <td>22.9</td>\n",
       "      <td>0.6</td>\n",
       "      <td>20.0</td>\n",
       "      <td>24.0</td>\n",
       "      <td>71.0</td>\n",
       "      <td>22.0</td>\n",
       "      <td>1007.7</td>\n",
       "      <td>1007.1</td>\n",
       "      <td>16.9</td>\n",
       "      <td>21.8</td>\n",
       "      <td>No</td>\n",
       "      <td>No</td>\n",
       "      <td>No</td>\n",
       "      <td>No</td>\n",
       "    </tr>\n",
       "    <tr>\n",
       "      <th>2008-12-02</th>\n",
       "      <td>7.4</td>\n",
       "      <td>25.1</td>\n",
       "      <td>0.0</td>\n",
       "      <td>4.0</td>\n",
       "      <td>22.0</td>\n",
       "      <td>44.0</td>\n",
       "      <td>25.0</td>\n",
       "      <td>1010.6</td>\n",
       "      <td>1007.8</td>\n",
       "      <td>17.2</td>\n",
       "      <td>24.3</td>\n",
       "      <td>No</td>\n",
       "      <td>No</td>\n",
       "      <td>No</td>\n",
       "      <td>No</td>\n",
       "    </tr>\n",
       "    <tr>\n",
       "      <th>2008-12-03</th>\n",
       "      <td>12.9</td>\n",
       "      <td>25.7</td>\n",
       "      <td>0.0</td>\n",
       "      <td>19.0</td>\n",
       "      <td>26.0</td>\n",
       "      <td>38.0</td>\n",
       "      <td>30.0</td>\n",
       "      <td>1007.6</td>\n",
       "      <td>1008.7</td>\n",
       "      <td>21.0</td>\n",
       "      <td>23.2</td>\n",
       "      <td>No</td>\n",
       "      <td>No</td>\n",
       "      <td>No</td>\n",
       "      <td>No</td>\n",
       "    </tr>\n",
       "    <tr>\n",
       "      <th>2008-12-04</th>\n",
       "      <td>9.2</td>\n",
       "      <td>28.0</td>\n",
       "      <td>0.0</td>\n",
       "      <td>11.0</td>\n",
       "      <td>9.0</td>\n",
       "      <td>45.0</td>\n",
       "      <td>16.0</td>\n",
       "      <td>1017.6</td>\n",
       "      <td>1012.8</td>\n",
       "      <td>18.1</td>\n",
       "      <td>26.5</td>\n",
       "      <td>No</td>\n",
       "      <td>No</td>\n",
       "      <td>No</td>\n",
       "      <td>Yes</td>\n",
       "    </tr>\n",
       "    <tr>\n",
       "      <th>2008-12-05</th>\n",
       "      <td>17.5</td>\n",
       "      <td>32.3</td>\n",
       "      <td>1.0</td>\n",
       "      <td>7.0</td>\n",
       "      <td>20.0</td>\n",
       "      <td>82.0</td>\n",
       "      <td>33.0</td>\n",
       "      <td>1010.8</td>\n",
       "      <td>1006.0</td>\n",
       "      <td>17.8</td>\n",
       "      <td>29.7</td>\n",
       "      <td>No</td>\n",
       "      <td>No</td>\n",
       "      <td>Yes</td>\n",
       "      <td>No</td>\n",
       "    </tr>\n",
       "    <tr>\n",
       "      <th>...</th>\n",
       "      <td>...</td>\n",
       "      <td>...</td>\n",
       "      <td>...</td>\n",
       "      <td>...</td>\n",
       "      <td>...</td>\n",
       "      <td>...</td>\n",
       "      <td>...</td>\n",
       "      <td>...</td>\n",
       "      <td>...</td>\n",
       "      <td>...</td>\n",
       "      <td>...</td>\n",
       "      <td>...</td>\n",
       "      <td>...</td>\n",
       "      <td>...</td>\n",
       "      <td>...</td>\n",
       "    </tr>\n",
       "    <tr>\n",
       "      <th>2017-06-20</th>\n",
       "      <td>3.5</td>\n",
       "      <td>21.8</td>\n",
       "      <td>0.0</td>\n",
       "      <td>15.0</td>\n",
       "      <td>13.0</td>\n",
       "      <td>59.0</td>\n",
       "      <td>27.0</td>\n",
       "      <td>1024.7</td>\n",
       "      <td>1021.2</td>\n",
       "      <td>9.4</td>\n",
       "      <td>20.9</td>\n",
       "      <td>No</td>\n",
       "      <td>No</td>\n",
       "      <td>No</td>\n",
       "      <td>No</td>\n",
       "    </tr>\n",
       "    <tr>\n",
       "      <th>2017-06-21</th>\n",
       "      <td>2.8</td>\n",
       "      <td>23.4</td>\n",
       "      <td>0.0</td>\n",
       "      <td>13.0</td>\n",
       "      <td>11.0</td>\n",
       "      <td>51.0</td>\n",
       "      <td>24.0</td>\n",
       "      <td>1024.6</td>\n",
       "      <td>1020.3</td>\n",
       "      <td>10.1</td>\n",
       "      <td>22.4</td>\n",
       "      <td>No</td>\n",
       "      <td>No</td>\n",
       "      <td>No</td>\n",
       "      <td>No</td>\n",
       "    </tr>\n",
       "    <tr>\n",
       "      <th>2017-06-22</th>\n",
       "      <td>3.6</td>\n",
       "      <td>25.3</td>\n",
       "      <td>0.0</td>\n",
       "      <td>13.0</td>\n",
       "      <td>9.0</td>\n",
       "      <td>56.0</td>\n",
       "      <td>21.0</td>\n",
       "      <td>1023.5</td>\n",
       "      <td>1019.1</td>\n",
       "      <td>10.9</td>\n",
       "      <td>24.5</td>\n",
       "      <td>No</td>\n",
       "      <td>No</td>\n",
       "      <td>No</td>\n",
       "      <td>No</td>\n",
       "    </tr>\n",
       "    <tr>\n",
       "      <th>2017-06-23</th>\n",
       "      <td>5.4</td>\n",
       "      <td>26.9</td>\n",
       "      <td>0.0</td>\n",
       "      <td>9.0</td>\n",
       "      <td>9.0</td>\n",
       "      <td>53.0</td>\n",
       "      <td>24.0</td>\n",
       "      <td>1021.0</td>\n",
       "      <td>1016.8</td>\n",
       "      <td>12.5</td>\n",
       "      <td>26.1</td>\n",
       "      <td>No</td>\n",
       "      <td>No</td>\n",
       "      <td>No</td>\n",
       "      <td>No</td>\n",
       "    </tr>\n",
       "    <tr>\n",
       "      <th>2017-06-24</th>\n",
       "      <td>7.8</td>\n",
       "      <td>27.0</td>\n",
       "      <td>0.0</td>\n",
       "      <td>13.0</td>\n",
       "      <td>7.0</td>\n",
       "      <td>51.0</td>\n",
       "      <td>24.0</td>\n",
       "      <td>1019.4</td>\n",
       "      <td>1016.5</td>\n",
       "      <td>15.1</td>\n",
       "      <td>26.0</td>\n",
       "      <td>No</td>\n",
       "      <td>No</td>\n",
       "      <td>No</td>\n",
       "      <td>No</td>\n",
       "    </tr>\n",
       "  </tbody>\n",
       "</table>\n",
       "<p>145459 rows × 15 columns</p>\n",
       "</div>"
      ],
      "text/plain": [
       "            MinTemp  MaxTemp  Rainfall  WindSpeed9am  WindSpeed3pm  \\\n",
       "Date                                                                 \n",
       "2008-12-01     13.4     22.9       0.6          20.0          24.0   \n",
       "2008-12-02      7.4     25.1       0.0           4.0          22.0   \n",
       "2008-12-03     12.9     25.7       0.0          19.0          26.0   \n",
       "2008-12-04      9.2     28.0       0.0          11.0           9.0   \n",
       "2008-12-05     17.5     32.3       1.0           7.0          20.0   \n",
       "...             ...      ...       ...           ...           ...   \n",
       "2017-06-20      3.5     21.8       0.0          15.0          13.0   \n",
       "2017-06-21      2.8     23.4       0.0          13.0          11.0   \n",
       "2017-06-22      3.6     25.3       0.0          13.0           9.0   \n",
       "2017-06-23      5.4     26.9       0.0           9.0           9.0   \n",
       "2017-06-24      7.8     27.0       0.0          13.0           7.0   \n",
       "\n",
       "            Humidity9am  Humidity3pm  Pressure9am  Pressure3pm  Temp9am  \\\n",
       "Date                                                                      \n",
       "2008-12-01         71.0         22.0       1007.7       1007.1     16.9   \n",
       "2008-12-02         44.0         25.0       1010.6       1007.8     17.2   \n",
       "2008-12-03         38.0         30.0       1007.6       1008.7     21.0   \n",
       "2008-12-04         45.0         16.0       1017.6       1012.8     18.1   \n",
       "2008-12-05         82.0         33.0       1010.8       1006.0     17.8   \n",
       "...                 ...          ...          ...          ...      ...   \n",
       "2017-06-20         59.0         27.0       1024.7       1021.2      9.4   \n",
       "2017-06-21         51.0         24.0       1024.6       1020.3     10.1   \n",
       "2017-06-22         56.0         21.0       1023.5       1019.1     10.9   \n",
       "2017-06-23         53.0         24.0       1021.0       1016.8     12.5   \n",
       "2017-06-24         51.0         24.0       1019.4       1016.5     15.1   \n",
       "\n",
       "            Temp3pm RainToday RainTomorrow Rain_Today Rain_Tomorrow  \n",
       "Date                                                                 \n",
       "2008-12-01     21.8        No           No         No            No  \n",
       "2008-12-02     24.3        No           No         No            No  \n",
       "2008-12-03     23.2        No           No         No            No  \n",
       "2008-12-04     26.5        No           No         No           Yes  \n",
       "2008-12-05     29.7        No           No        Yes            No  \n",
       "...             ...       ...          ...        ...           ...  \n",
       "2017-06-20     20.9        No           No         No            No  \n",
       "2017-06-21     22.4        No           No         No            No  \n",
       "2017-06-22     24.5        No           No         No            No  \n",
       "2017-06-23     26.1        No           No         No            No  \n",
       "2017-06-24     26.0        No           No         No            No  \n",
       "\n",
       "[145459 rows x 15 columns]"
      ]
     },
     "execution_count": 109,
     "metadata": {},
     "output_type": "execute_result"
    }
   ],
   "source": [
    "#the dataset after removing the last record with NaN\n",
    "raindata_tomorrow"
   ]
  },
  {
   "cell_type": "code",
   "execution_count": 110,
   "id": "5b1a249c",
   "metadata": {},
   "outputs": [],
   "source": [
    "#Select the necessary columns\n",
    "raindata_tomorrow = raindata_tomorrow [['MinTemp', 'MaxTemp','Rainfall','WindSpeed9am','WindSpeed3pm','Humidity9am','Humidity3pm', 'Pressure9am','Pressure3pm','Temp9am','Temp3pm','Rain_Today','Rain_Tomorrow']]"
   ]
  },
  {
   "cell_type": "code",
   "execution_count": 111,
   "id": "97fca617",
   "metadata": {},
   "outputs": [
    {
     "data": {
      "text/plain": [
       "MinTemp           1485\n",
       "MaxTemp           1260\n",
       "Rainfall             0\n",
       "WindSpeed9am      1767\n",
       "WindSpeed3pm      3062\n",
       "Humidity9am       2654\n",
       "Humidity3pm       4507\n",
       "Pressure9am      15065\n",
       "Pressure3pm      15028\n",
       "Temp9am           1767\n",
       "Temp3pm           3609\n",
       "Rain_Today           0\n",
       "Rain_Tomorrow        0\n",
       "dtype: int64"
      ]
     },
     "execution_count": 111,
     "metadata": {},
     "output_type": "execute_result"
    }
   ],
   "source": [
    "#number of missing values\n",
    "raindata_tomorrow.apply(pd.isnull).sum()"
   ]
  },
  {
   "cell_type": "markdown",
   "id": "bb33d067",
   "metadata": {},
   "source": [
    "# Split the dataset"
   ]
  },
  {
   "cell_type": "code",
   "execution_count": 112,
   "id": "8d17ecb1",
   "metadata": {},
   "outputs": [],
   "source": [
    "#X_rain considers upto Rain_Today column\n",
    "X_rain = raindata_tomorrow.iloc[:,:-1].values\n",
    "#Y_rain considers Rain Tomorrow column\n",
    "Y_rain = raindata_tomorrow.iloc[:,-1].values"
   ]
  },
  {
   "cell_type": "code",
   "execution_count": 113,
   "id": "8885e2c0",
   "metadata": {},
   "outputs": [
    {
     "name": "stdout",
     "output_type": "stream",
     "text": [
      "[[13.4 22.9 0.6 ... 16.9 21.8 'No']\n",
      " [7.4 25.1 0.0 ... 17.2 24.3 'No']\n",
      " [12.9 25.7 0.0 ... 21.0 23.2 'No']\n",
      " ...\n",
      " [3.6 25.3 0.0 ... 10.9 24.5 'No']\n",
      " [5.4 26.9 0.0 ... 12.5 26.1 'No']\n",
      " [7.8 27.0 0.0 ... 15.1 26.0 'No']]\n"
     ]
    }
   ],
   "source": [
    "print(X_rain)"
   ]
  },
  {
   "cell_type": "code",
   "execution_count": 114,
   "id": "af6e06b3",
   "metadata": {},
   "outputs": [
    {
     "name": "stdout",
     "output_type": "stream",
     "text": [
      "['No' 'No' 'No' ... 'No' 'No' 'No']\n"
     ]
    }
   ],
   "source": [
    "print(Y_rain)"
   ]
  },
  {
   "cell_type": "code",
   "execution_count": 115,
   "id": "98827c44",
   "metadata": {},
   "outputs": [],
   "source": [
    "#reshape Y --> to change 1D into 2D list \n",
    "#important because scikit libraries do not take 1D list\n",
    "Y_rain = Y_rain.reshape(-1,1)"
   ]
  },
  {
   "cell_type": "code",
   "execution_count": 116,
   "id": "d19c6621",
   "metadata": {},
   "outputs": [
    {
     "name": "stdout",
     "output_type": "stream",
     "text": [
      "[['No']\n",
      " ['No']\n",
      " ['No']\n",
      " ...\n",
      " ['No']\n",
      " ['No']\n",
      " ['No']]\n"
     ]
    }
   ],
   "source": [
    "print(Y_rain)"
   ]
  },
  {
   "cell_type": "markdown",
   "id": "b75a0e4c",
   "metadata": {},
   "source": [
    "# Handling missing values"
   ]
  },
  {
   "cell_type": "code",
   "execution_count": 117,
   "id": "313a8188",
   "metadata": {},
   "outputs": [],
   "source": [
    "from sklearn.impute import SimpleImputer\n",
    "#arguments --> NaN values \n",
    "#simple imputer class is going to point on all the missing values and \n",
    "#'strategy' --> what to replace - with most frequent values\n",
    "imputer_freq = SimpleImputer(missing_values = np.nan, strategy ='most_frequent')"
   ]
  },
  {
   "cell_type": "code",
   "execution_count": 118,
   "id": "e0b4c6d5",
   "metadata": {},
   "outputs": [],
   "source": [
    "#apply to X_rain and Y_rain \n",
    "X_rain = imputer_freq.fit_transform(X_rain)\n",
    "Y_rain = imputer_freq.fit_transform(Y_rain)"
   ]
  },
  {
   "cell_type": "code",
   "execution_count": 119,
   "id": "c8d4c954",
   "metadata": {},
   "outputs": [
    {
     "name": "stdout",
     "output_type": "stream",
     "text": [
      "[[13.4 22.9 0.6 ... 16.9 21.8 'No']\n",
      " [7.4 25.1 0.0 ... 17.2 24.3 'No']\n",
      " [12.9 25.7 0.0 ... 21.0 23.2 'No']\n",
      " ...\n",
      " [3.6 25.3 0.0 ... 10.9 24.5 'No']\n",
      " [5.4 26.9 0.0 ... 12.5 26.1 'No']\n",
      " [7.8 27.0 0.0 ... 15.1 26.0 'No']]\n"
     ]
    }
   ],
   "source": [
    "print(X_rain)"
   ]
  },
  {
   "cell_type": "code",
   "execution_count": 120,
   "id": "d9d23fa0",
   "metadata": {},
   "outputs": [
    {
     "name": "stdout",
     "output_type": "stream",
     "text": [
      "[['No']\n",
      " ['No']\n",
      " ['No']\n",
      " ...\n",
      " ['No']\n",
      " ['No']\n",
      " ['No']]\n"
     ]
    }
   ],
   "source": [
    "print(Y_rain)"
   ]
  },
  {
   "cell_type": "markdown",
   "id": "c171d6b5",
   "metadata": {},
   "source": [
    "# Encoding dataset"
   ]
  },
  {
   "cell_type": "code",
   "execution_count": 121,
   "id": "378523b4",
   "metadata": {},
   "outputs": [
    {
     "name": "stderr",
     "output_type": "stream",
     "text": [
      "C:\\Users\\sgeet\\anaconda3\\lib\\site-packages\\sklearn\\utils\\validation.py:63: DataConversionWarning: A column-vector y was passed when a 1d array was expected. Please change the shape of y to (n_samples, ), for example using ravel().\n",
      "  return f(*args, **kwargs)\n"
     ]
    }
   ],
   "source": [
    "from sklearn.preprocessing import LabelEncoder\n",
    "\n",
    "#instance of the class - object\n",
    "label_en1 = LabelEncoder()\n",
    "\n",
    "#As the last column 'Rain_Today' has categorical variable convert to values\n",
    "X_rain[:,-1] = label_en1.fit_transform(X_rain[:,-1])\n",
    "\n",
    "#instance of LabelEncoder\n",
    "label_en2 = LabelEncoder()\n",
    "\n",
    "#'Rain_Tomorrow' has categorical variable convert to values\n",
    "Y_rain = label_en1.fit_transform(Y_rain)"
   ]
  },
  {
   "cell_type": "code",
   "execution_count": 122,
   "id": "ea2ea07d",
   "metadata": {},
   "outputs": [
    {
     "name": "stdout",
     "output_type": "stream",
     "text": [
      "[[13.4 22.9 0.6 ... 16.9 21.8 0]\n",
      " [7.4 25.1 0.0 ... 17.2 24.3 0]\n",
      " [12.9 25.7 0.0 ... 21.0 23.2 0]\n",
      " ...\n",
      " [3.6 25.3 0.0 ... 10.9 24.5 0]\n",
      " [5.4 26.9 0.0 ... 12.5 26.1 0]\n",
      " [7.8 27.0 0.0 ... 15.1 26.0 0]]\n"
     ]
    }
   ],
   "source": [
    "#X split after converting to numerical values\n",
    "print(X_rain)"
   ]
  },
  {
   "cell_type": "code",
   "execution_count": 123,
   "id": "bebe9181",
   "metadata": {},
   "outputs": [
    {
     "name": "stdout",
     "output_type": "stream",
     "text": [
      "[0 0 0 ... 0 0 0]\n"
     ]
    }
   ],
   "source": [
    "#Y split after converting to numerical values\n",
    "print(Y_rain)"
   ]
  },
  {
   "cell_type": "markdown",
   "id": "fc77709b",
   "metadata": {},
   "source": [
    "# Feature Scaling"
   ]
  },
  {
   "cell_type": "code",
   "execution_count": 124,
   "id": "56140c41",
   "metadata": {},
   "outputs": [],
   "source": [
    "#arrange data values within a range\n",
    "from sklearn.preprocessing import StandardScaler\n",
    "\n",
    "#create an instance of StandardScaler\n",
    "sc = StandardScaler() \n",
    "\n",
    "#Y_rain is already in a range (0 1)\n",
    "#arrange X_rain split to a scale\n",
    "X_rain = sc.fit_transform(X_rain) "
   ]
  },
  {
   "cell_type": "code",
   "execution_count": 125,
   "id": "ad156add",
   "metadata": {},
   "outputs": [
    {
     "name": "stdout",
     "output_type": "stream",
     "text": [
      "[[ 0.19132993 -0.04136275 -0.20358197 ... -0.01407285  0.0231028\n",
      "  -0.54848126]\n",
      " [-0.75104726  0.26874069 -0.27509765 ...  0.03244441  0.38779693\n",
      "  -0.54848126]\n",
      " [ 0.1127985   0.35331436 -0.27509765 ...  0.62166306  0.22733152\n",
      "  -0.54848126]\n",
      " ...\n",
      " [-1.34788615  0.29693191 -0.27509765 ... -0.94441809  0.41697246\n",
      "  -0.54848126]\n",
      " [-1.06517299  0.52246169 -0.27509765 ... -0.69632603  0.65037671\n",
      "  -0.54848126]\n",
      " [-0.68822212  0.5365573  -0.27509765 ... -0.29317642  0.63578894\n",
      "  -0.54848126]]\n"
     ]
    }
   ],
   "source": [
    "print(X_rain)"
   ]
  },
  {
   "cell_type": "markdown",
   "id": "3ee46b49",
   "metadata": {},
   "source": [
    "# Split the data into training and testing"
   ]
  },
  {
   "cell_type": "code",
   "execution_count": 126,
   "id": "d858e1dc",
   "metadata": {},
   "outputs": [
    {
     "data": {
      "text/plain": [
       "((116367, 12), (29092, 12))"
      ]
     },
     "execution_count": 126,
     "metadata": {},
     "output_type": "execute_result"
    }
   ],
   "source": [
    "X_rain_tr,X_rain_te,Y_rain_tr,Y_rain_te = train_test_split(X_rain,Y_rain, test_size =0.20, random_state=10)\n",
    "X_rain_tr.shape , X_rain_te.shape"
   ]
  },
  {
   "cell_type": "markdown",
   "id": "b9b7402a",
   "metadata": {},
   "source": [
    "# Decision Tree model for RainTomorrow prediction"
   ]
  },
  {
   "cell_type": "code",
   "execution_count": 127,
   "id": "c0468664",
   "metadata": {},
   "outputs": [
    {
     "data": {
      "text/plain": [
       "DecisionTreeClassifier()"
      ]
     },
     "execution_count": 127,
     "metadata": {},
     "output_type": "execute_result"
    }
   ],
   "source": [
    "#import DecisionTreeClassifier\n",
    "from sklearn.tree import DecisionTreeClassifier\n",
    "dtree2 = DecisionTreeClassifier()\n",
    "dtree2.fit(X_rain_tr,Y_rain_tr)"
   ]
  },
  {
   "cell_type": "code",
   "execution_count": 128,
   "id": "45717586",
   "metadata": {},
   "outputs": [],
   "source": [
    "train_pd = dtree2.predict(X_rain_tr)\n",
    "test_pd = dtree2.predict(X_rain_te)"
   ]
  },
  {
   "cell_type": "code",
   "execution_count": 129,
   "id": "d79c5ed0",
   "metadata": {},
   "outputs": [
    {
     "data": {
      "text/plain": [
       "array([1, 0, 0, ..., 1, 0, 0])"
      ]
     },
     "execution_count": 129,
     "metadata": {},
     "output_type": "execute_result"
    }
   ],
   "source": [
    "test_pd"
   ]
  },
  {
   "cell_type": "code",
   "execution_count": 130,
   "id": "fc71ed95",
   "metadata": {},
   "outputs": [
    {
     "data": {
      "text/plain": [
       "array([0, 0, 0, ..., 0, 0, 0])"
      ]
     },
     "execution_count": 130,
     "metadata": {},
     "output_type": "execute_result"
    }
   ],
   "source": [
    "train_pd"
   ]
  },
  {
   "cell_type": "code",
   "execution_count": 131,
   "id": "00243a5a",
   "metadata": {},
   "outputs": [
    {
     "name": "stdout",
     "output_type": "stream",
     "text": [
      "0.9998968779808709\n",
      "0.7645057060360236\n"
     ]
    }
   ],
   "source": [
    "print(accuracy_score(Y_rain_tr,train_pd))\n",
    "print(accuracy_score(Y_rain_te,test_pd))\n",
    "DT_score = accuracy_score(Y_rain_te,test_pd)"
   ]
  },
  {
   "cell_type": "markdown",
   "id": "794afe8a",
   "metadata": {},
   "source": [
    "# Accuracy visualization for RainTomorrow using Decision Tree"
   ]
  },
  {
   "cell_type": "code",
   "execution_count": 132,
   "id": "d018d430",
   "metadata": {},
   "outputs": [
    {
     "data": {
      "text/plain": [
       "Text(0, 0.5, 'Accuracy')"
      ]
     },
     "execution_count": 132,
     "metadata": {},
     "output_type": "execute_result"
    },
    {
     "data": {
      "image/png": "[encoded data removed]",
      "text/plain": [
       "<Figure size 432x216 with 1 Axes>"
      ]
     },
     "metadata": {
      "needs_background": "light"
     },
     "output_type": "display_data"
    }
   ],
   "source": [
    "#Adjust figure size\n",
    "plt.figure(figsize=(6,3))\n",
    "plt.ylim(0.0, 1.0)\n",
    "#X-axis, Y-axis -> value of that model\n",
    "plt.bar(\"Decision Tree\",(accuracy_score(Y_rain_te,test_pd)),width=0.5,color=\"red\")\n",
    "plt.xlabel(\"Machine Learning Algorithm\")\n",
    "plt.ylabel(\"Accuracy\")"
   ]
  },
  {
   "cell_type": "markdown",
   "id": "2da0cd44",
   "metadata": {},
   "source": [
    "# Logistic Regression model for RainTomorrow prediction"
   ]
  },
  {
   "cell_type": "code",
   "execution_count": 133,
   "id": "fbcac5cf",
   "metadata": {},
   "outputs": [],
   "source": [
    "# importing the MinMaxScaler\n",
    "from sklearn.preprocessing import MinMaxScaler\n",
    "\n",
    "# creating a scaler\n",
    "mm2 = MinMaxScaler()\n",
    "\n",
    "# feeding the independent variable into the scaler\n",
    "X_rain_tr = mm2.fit_transform(X_rain_tr)\n",
    "X_rain_te = mm2.transform(X_rain_te)"
   ]
  },
  {
   "cell_type": "code",
   "execution_count": 134,
   "id": "f1e59e98",
   "metadata": {},
   "outputs": [
    {
     "name": "stdout",
     "output_type": "stream",
     "text": [
      "[[21136  1228]\n",
      " [ 3703  3025]]\n",
      "              precision    recall  f1-score   support\n",
      "\n",
      "           0       0.85      0.95      0.90     22364\n",
      "           1       0.71      0.45      0.55      6728\n",
      "\n",
      "    accuracy                           0.83     29092\n",
      "   macro avg       0.78      0.70      0.72     29092\n",
      "weighted avg       0.82      0.83      0.82     29092\n",
      "\n",
      "0.8305032311288326\n"
     ]
    },
    {
     "name": "stderr",
     "output_type": "stream",
     "text": [
      "C:\\Users\\sgeet\\anaconda3\\lib\\site-packages\\sklearn\\linear_model\\_logistic.py:763: ConvergenceWarning: lbfgs failed to converge (status=1):\n",
      "STOP: TOTAL NO. of ITERATIONS REACHED LIMIT.\n",
      "\n",
      "Increase the number of iterations (max_iter) or scale the data as shown in:\n",
      "    https://scikit-learn.org/stable/modules/preprocessing.html\n",
      "Please also refer to the documentation for alternative solver options:\n",
      "    https://scikit-learn.org/stable/modules/linear_model.html#logistic-regression\n",
      "  n_iter_i = _check_optimize_result(\n"
     ]
    }
   ],
   "source": [
    "from sklearn.linear_model import  LogisticRegression\n",
    "\n",
    "# creating a logistic regression model\n",
    "modelR2 = LogisticRegression(random_state=42,solver = 'lbfgs')\n",
    "\n",
    "# feeding the training data to the model\n",
    "modelR2.fit(X_rain_tr, Y_rain_tr)\n",
    "\n",
    "# predicting the test set results\n",
    "Y_pd = modelR2.predict(X_rain_te)\n",
    "\n",
    "# calculating the classification accuracies\n",
    "print(confusion_matrix(Y_rain_te,Y_pd))\n",
    "print(classification_report(Y_rain_te,Y_pd))\n",
    "print(accuracy_score(Y_rain_te,Y_pd))\n",
    "LR_score = accuracy_score(Y_rain_te,Y_pd)"
   ]
  },
  {
   "cell_type": "markdown",
   "id": "e7be1b5a",
   "metadata": {},
   "source": [
    "# Accuracy visualization for RainTomorrow using Logistic Regression"
   ]
  },
  {
   "cell_type": "code",
   "execution_count": 135,
   "id": "d7681c68",
   "metadata": {},
   "outputs": [
    {
     "data": {
      "text/plain": [
       "Text(0, 0.5, 'Accuracy')"
      ]
     },
     "execution_count": 135,
     "metadata": {},
     "output_type": "execute_result"
    },
    {
     "data": {
      "image/png": "[encoded data removed]",
      "text/plain": [
       "<Figure size 432x216 with 1 Axes>"
      ]
     },
     "metadata": {
      "needs_background": "light"
     },
     "output_type": "display_data"
    }
   ],
   "source": [
    "#Adjust figure size\n",
    "plt.figure(figsize=(6,3))\n",
    "plt.ylim(0.0, 1.0)\n",
    "#X-axis, Y-axis -> value of that model\n",
    "plt.bar(\"Logistic Regression\",(accuracy_score(Y_rain_te,Y_pd)),width=0.5)\n",
    "plt.xlabel(\"Machine Learning Algorithm\")\n",
    "plt.ylabel(\"Accuracy\")"
   ]
  },
  {
   "cell_type": "markdown",
   "id": "85612829",
   "metadata": {},
   "source": [
    "# KNN model for RainTomorrow prediction"
   ]
  },
  {
   "cell_type": "code",
   "execution_count": 136,
   "id": "56e3fe30",
   "metadata": {},
   "outputs": [
    {
     "data": {
      "text/plain": [
       "0.7499982813026351"
      ]
     },
     "execution_count": 136,
     "metadata": {},
     "output_type": "execute_result"
    }
   ],
   "source": [
    "X_rain_tr,X_rain_te,Y_rain_tr,Y_rain_te=train_test_split(X_rain,Y_rain,random_state=42)\n",
    "len(X_rain_tr)/len(X_rain)"
   ]
  },
  {
   "cell_type": "code",
   "execution_count": 137,
   "id": "ce8cf393",
   "metadata": {},
   "outputs": [],
   "source": [
    "#import KNeighborsClassifier\n",
    "from sklearn.neighbors import KNeighborsClassifier"
   ]
  },
  {
   "cell_type": "code",
   "execution_count": 138,
   "id": "c1215de9",
   "metadata": {},
   "outputs": [],
   "source": [
    "#assigning no of neighbors to model\n",
    "classifier2 = KNeighborsClassifier(n_neighbors=12)"
   ]
  },
  {
   "cell_type": "code",
   "execution_count": 139,
   "id": "081490e3",
   "metadata": {},
   "outputs": [
    {
     "data": {
      "text/plain": [
       "KNeighborsClassifier(n_neighbors=12)"
      ]
     },
     "execution_count": 139,
     "metadata": {},
     "output_type": "execute_result"
    }
   ],
   "source": [
    "classifier2.fit(X_rain_tr,Y_rain_tr)"
   ]
  },
  {
   "cell_type": "code",
   "execution_count": 140,
   "id": "829261e4",
   "metadata": {},
   "outputs": [],
   "source": [
    "#prediction\n",
    "Y_p=classifier2.predict(X_rain_te)"
   ]
  },
  {
   "cell_type": "code",
   "execution_count": 141,
   "id": "4ea83c04",
   "metadata": {},
   "outputs": [
    {
     "data": {
      "text/plain": [
       "array([0, 0, 0, ..., 0, 0, 0])"
      ]
     },
     "execution_count": 141,
     "metadata": {},
     "output_type": "execute_result"
    }
   ],
   "source": [
    "Y_p"
   ]
  },
  {
   "cell_type": "code",
   "execution_count": 142,
   "id": "36f6f333",
   "metadata": {},
   "outputs": [],
   "source": [
    "#checking the most suitable value for K\n",
    "# vals = []\n",
    "# for n in range(1,15):\n",
    "#     classifier2 = KNeighborsClassifier(n_neighbors=n)\n",
    "#     classifier2.fit(X_rain_tr,Y_rain_tr)\n",
    "#     vals.append(classifier2.score(X_rain_te,Y_rain_te))"
   ]
  },
  {
   "cell_type": "code",
   "execution_count": 143,
   "id": "562ddf59",
   "metadata": {},
   "outputs": [],
   "source": [
    "# import matplotlib.pyplot as plt\n",
    "# %matplotlib inline\n",
    "# plt.plot(range(1,15),vals)"
   ]
  },
  {
   "cell_type": "code",
   "execution_count": 144,
   "id": "58ab21f2",
   "metadata": {},
   "outputs": [
    {
     "name": "stdout",
     "output_type": "stream",
     "text": [
      "[[26714  1243]\n",
      " [ 5012  3396]]\n",
      "              precision    recall  f1-score   support\n",
      "\n",
      "           0       0.84      0.96      0.90     27957\n",
      "           1       0.73      0.40      0.52      8408\n",
      "\n",
      "    accuracy                           0.83     36365\n",
      "   macro avg       0.79      0.68      0.71     36365\n",
      "weighted avg       0.82      0.83      0.81     36365\n",
      "\n",
      "0.8279939502268665\n"
     ]
    }
   ],
   "source": [
    "#generate accuracy reports\n",
    "print(confusion_matrix(Y_rain_te,Y_p))\n",
    "print(classification_report(Y_rain_te,Y_p))\n",
    "print(accuracy_score(Y_rain_te,Y_p))\n",
    "KNN_score = accuracy_score(Y_rain_te,Y_p)"
   ]
  },
  {
   "cell_type": "markdown",
   "id": "5d60c2f4",
   "metadata": {},
   "source": [
    "# Accuracy visualization for RainTomorrow using KNN"
   ]
  },
  {
   "cell_type": "code",
   "execution_count": 145,
   "id": "e3d11098",
   "metadata": {},
   "outputs": [
    {
     "data": {
      "text/plain": [
       "Text(0, 0.5, 'Accuracy')"
      ]
     },
     "execution_count": 145,
     "metadata": {},
     "output_type": "execute_result"
    },
    {
     "data": {
      "image/png": "[encoded data removed]",
      "text/plain": [
       "<Figure size 432x216 with 1 Axes>"
      ]
     },
     "metadata": {
      "needs_background": "light"
     },
     "output_type": "display_data"
    }
   ],
   "source": [
    "#Adjust figure size\n",
    "plt.figure(figsize=(6,3))\n",
    "plt.ylim(0.0, 1.0)\n",
    "#X-axis, Y-axis -> value of that model\n",
    "plt.bar(\"KNeighbors\",(accuracy_score(Y_rain_te,Y_p)),width=0.5,color=\"orange\")\n",
    "plt.xlabel(\"Machine Learning Algorithm\")\n",
    "plt.ylabel(\"Accuracy\")"
   ]
  },
  {
   "cell_type": "markdown",
   "id": "a2b29ab3",
   "metadata": {},
   "source": [
    "# Xg Boost Model for rainfall tomorrow prediction"
   ]
  },
  {
   "cell_type": "code",
   "execution_count": 146,
   "id": "a5fbd3ae",
   "metadata": {},
   "outputs": [
    {
     "data": {
      "text/plain": [
       "XGBClassifier(base_score=0.5, booster='gbtree', callbacks=None,\n",
       "              colsample_bylevel=1, colsample_bynode=1, colsample_bytree=1,\n",
       "              early_stopping_rounds=None, enable_categorical=False,\n",
       "              eval_metric=None, gamma=0, gpu_id=-1, grow_policy='depthwise',\n",
       "              importance_type=None, interaction_constraints='',\n",
       "              learning_rate=0.300000012, max_bin=256, max_cat_to_onehot=4,\n",
       "              max_delta_step=0, max_depth=6, max_leaves=0, min_child_weight=1,\n",
       "              missing=nan, monotone_constraints='()', n_estimators=100,\n",
       "              n_jobs=0, num_parallel_tree=1, predictor='auto', random_state=0,\n",
       "              reg_alpha=0, reg_lambda=1, ...)"
      ]
     },
     "execution_count": 146,
     "metadata": {},
     "output_type": "execute_result"
    }
   ],
   "source": [
    "#XG Boost\n",
    "from xgboost import XGBClassifier\n",
    "model_xg = XGBClassifier()\n",
    "model_xg.fit(X_rain_tr,Y_rain_tr)"
   ]
  },
  {
   "cell_type": "code",
   "execution_count": 147,
   "id": "332c7417",
   "metadata": {},
   "outputs": [],
   "source": [
    "pred = model_xg.predict(X_rain_te)"
   ]
  },
  {
   "cell_type": "code",
   "execution_count": 148,
   "id": "e77bbc59",
   "metadata": {},
   "outputs": [
    {
     "data": {
      "text/plain": [
       "array([0, 0, 0, ..., 0, 0, 0])"
      ]
     },
     "execution_count": 148,
     "metadata": {},
     "output_type": "execute_result"
    }
   ],
   "source": [
    "pred"
   ]
  },
  {
   "cell_type": "code",
   "execution_count": 149,
   "id": "6dce42fb",
   "metadata": {},
   "outputs": [
    {
     "data": {
      "text/plain": [
       "array([0, 0, 0, ..., 0, 0, 0])"
      ]
     },
     "execution_count": 149,
     "metadata": {},
     "output_type": "execute_result"
    }
   ],
   "source": [
    "Y_rain_te"
   ]
  },
  {
   "cell_type": "code",
   "execution_count": 150,
   "id": "73282e2d",
   "metadata": {},
   "outputs": [],
   "source": [
    "from sklearn.metrics import accuracy_score,confusion_matrix"
   ]
  },
  {
   "cell_type": "code",
   "execution_count": 151,
   "id": "b252fe33",
   "metadata": {},
   "outputs": [
    {
     "name": "stdout",
     "output_type": "stream",
     "text": [
      "Accuracy of the model: 0.8372336037398598\n"
     ]
    }
   ],
   "source": [
    "accuracy_score(pred, Y_rain_te)\n",
    "accuracy_XG = accuracy_score(pred, Y_rain_te)\n",
    "print('Accuracy of the model:', accuracy_XG)"
   ]
  },
  {
   "cell_type": "code",
   "execution_count": 152,
   "id": "cdd150b6",
   "metadata": {},
   "outputs": [
    {
     "data": {
      "text/plain": [
       "array([[26370,  4332],\n",
       "       [ 1587,  4076]], dtype=int64)"
      ]
     },
     "execution_count": 152,
     "metadata": {},
     "output_type": "execute_result"
    }
   ],
   "source": [
    "confusion_matrix(pred, Y_rain_te)"
   ]
  },
  {
   "cell_type": "markdown",
   "id": "1f7b8253",
   "metadata": {},
   "source": [
    "# Accuracy visualization for rainfall tomorrow using Xg Boost model"
   ]
  },
  {
   "cell_type": "code",
   "execution_count": 153,
   "id": "b73a94ac",
   "metadata": {},
   "outputs": [
    {
     "data": {
      "text/plain": [
       "Text(0, 0.5, 'Accuracy')"
      ]
     },
     "execution_count": 153,
     "metadata": {},
     "output_type": "execute_result"
    },
    {
     "data": {
      "image/png": "[encoded data removed]",
      "text/plain": [
       "<Figure size 432x216 with 1 Axes>"
      ]
     },
     "metadata": {
      "needs_background": "light"
     },
     "output_type": "display_data"
    }
   ],
   "source": [
    "import matplotlib.pyplot as plt\n",
    "%matplotlib inline\n",
    "#Adjust figure size\n",
    "plt.figure(figsize=(6,3))\n",
    "plt.ylim(0.0, 1.0)\n",
    "#X-axis, Y-axis -> value of that model\n",
    "plt.bar(\"Xg Boost\",(accuracy_score(Y_rain_te,pred)),width=0.5,color=\"green\")\n",
    "plt.xlabel(\"Machine Learning Algorithm\")\n",
    "plt.ylabel(\"Accuracy\")"
   ]
  },
  {
   "cell_type": "markdown",
   "id": "2b93f4e3",
   "metadata": {},
   "source": [
    "# Random Forest Model for rainfall tomorrow prediction"
   ]
  },
  {
   "cell_type": "code",
   "execution_count": 154,
   "id": "7acf3204",
   "metadata": {},
   "outputs": [
    {
     "data": {
      "text/plain": [
       "RandomForestClassifier(n_estimators=50)"
      ]
     },
     "execution_count": 154,
     "metadata": {},
     "output_type": "execute_result"
    }
   ],
   "source": [
    "#import random forest classifier\n",
    "from sklearn.ensemble import RandomForestClassifier\n",
    "model = RandomForestClassifier(n_estimators=50)\n",
    "model.fit(X_rain_tr,Y_rain_tr)"
   ]
  },
  {
   "cell_type": "code",
   "execution_count": 155,
   "id": "93617022",
   "metadata": {},
   "outputs": [
    {
     "data": {
      "text/plain": [
       "array([0, 0, 0, ..., 0, 1, 0])"
      ]
     },
     "execution_count": 155,
     "metadata": {},
     "output_type": "execute_result"
    }
   ],
   "source": [
    "pred = model.predict(X_rain_te)\n",
    "pred\n"
   ]
  },
  {
   "cell_type": "code",
   "execution_count": 156,
   "id": "86d313cb",
   "metadata": {},
   "outputs": [
    {
     "data": {
      "text/plain": [
       "array([0, 0, 0, ..., 0, 0, 0])"
      ]
     },
     "execution_count": 156,
     "metadata": {},
     "output_type": "execute_result"
    }
   ],
   "source": [
    "Y_rain_te"
   ]
  },
  {
   "cell_type": "code",
   "execution_count": 157,
   "id": "1d53e013",
   "metadata": {},
   "outputs": [
    {
     "name": "stdout",
     "output_type": "stream",
     "text": [
      "Accuracy of the model: 0.8370686099271277\n"
     ]
    }
   ],
   "source": [
    "#Calculate the accuracy of the random forest model\n",
    "from sklearn.metrics import accuracy_score\n",
    "model_accuracy_RFT = accuracy_score(Y_rain_te,pred)\n",
    "print('Accuracy of the model:', model_accuracy_RFT)"
   ]
  },
  {
   "cell_type": "code",
   "execution_count": 158,
   "id": "498ca0b6",
   "metadata": {},
   "outputs": [
    {
     "data": {
      "text/plain": [
       "array([[26486,  1471],\n",
       "       [ 4454,  3954]], dtype=int64)"
      ]
     },
     "execution_count": 158,
     "metadata": {},
     "output_type": "execute_result"
    }
   ],
   "source": [
    "#Find the confusion matrix\n",
    "from sklearn.metrics import confusion_matrix\n",
    "confusion_matrix(Y_rain_te,pred)"
   ]
  },
  {
   "cell_type": "markdown",
   "id": "17981205",
   "metadata": {},
   "source": [
    "# Accuracy visualization for rainfall tomorrow using Random Forest Model"
   ]
  },
  {
   "cell_type": "code",
   "execution_count": 159,
   "id": "f6265e29",
   "metadata": {},
   "outputs": [
    {
     "data": {
      "text/plain": [
       "Text(0, 0.5, 'Accuracy')"
      ]
     },
     "execution_count": 159,
     "metadata": {},
     "output_type": "execute_result"
    },
    {
     "data": {
      "image/png": "[encoded data removed]",
      "text/plain": [
       "<Figure size 432x216 with 1 Axes>"
      ]
     },
     "metadata": {
      "needs_background": "light"
     },
     "output_type": "display_data"
    }
   ],
   "source": [
    "import matplotlib.pyplot as plt\n",
    "%matplotlib inline\n",
    "#Adjust figure size\n",
    "plt.figure(figsize=(6,3))\n",
    "plt.ylim(0.0, 1.0)\n",
    "#X-axis, Y-axis -> value of that model\n",
    "plt.bar(\"Random Forest\",(accuracy_score(Y_rain_te,pred)),width=0.5,color=\"purple\")\n",
    "plt.xlabel(\"Machine Learning Algorithm\")\n",
    "plt.ylabel(\"Accuracy\")"
   ]
  },
  {
   "cell_type": "markdown",
   "id": "99ff5d99",
   "metadata": {},
   "source": [
    "# Naive Bayes model for Rain Tomorrow Prediction"
   ]
  },
  {
   "cell_type": "code",
   "execution_count": 160,
   "id": "19cbeccc",
   "metadata": {},
   "outputs": [],
   "source": [
    "from sklearn.naive_bayes import MultinomialNB\n",
    "model = MultinomialNB()"
   ]
  },
  {
   "cell_type": "code",
   "execution_count": 161,
   "id": "f275a457",
   "metadata": {},
   "outputs": [],
   "source": [
    "from sklearn.preprocessing import MinMaxScaler #fixed import\n",
    "\n",
    "scaler = MinMaxScaler()\n",
    "X_rain_tr = scaler.fit_transform(X_rain_tr)\n",
    "X_rain_te = scaler.transform(X_rain_te)"
   ]
  },
  {
   "cell_type": "code",
   "execution_count": 162,
   "id": "e3ec3c41",
   "metadata": {},
   "outputs": [
    {
     "data": {
      "text/plain": [
       "MultinomialNB()"
      ]
     },
     "execution_count": 162,
     "metadata": {},
     "output_type": "execute_result"
    }
   ],
   "source": [
    "model.fit(X_rain_tr,Y_rain_tr)"
   ]
  },
  {
   "cell_type": "code",
   "execution_count": 163,
   "id": "cb4c1364",
   "metadata": {},
   "outputs": [
    {
     "data": {
      "text/plain": [
       "0.7695311425821532"
      ]
     },
     "execution_count": 163,
     "metadata": {},
     "output_type": "execute_result"
    }
   ],
   "source": [
    "model.score(X_rain_te,Y_rain_te)"
   ]
  },
  {
   "cell_type": "code",
   "execution_count": 164,
   "id": "21720608",
   "metadata": {},
   "outputs": [
    {
     "data": {
      "text/plain": [
       "array([0, 0, 0, ..., 0, 0, 0])"
      ]
     },
     "execution_count": 164,
     "metadata": {},
     "output_type": "execute_result"
    }
   ],
   "source": [
    "predictions = model.predict(X_rain_te)\n",
    "predictions"
   ]
  },
  {
   "cell_type": "code",
   "execution_count": 165,
   "id": "16e46c2c",
   "metadata": {},
   "outputs": [
    {
     "name": "stdout",
     "output_type": "stream",
     "text": [
      "Model Accuracy: 0.7695311425821532\n"
     ]
    }
   ],
   "source": [
    "from sklearn.metrics import accuracy_score\n",
    "predictions = model.predict(X_rain_te)\n",
    "print('Model Accuracy:', accuracy_score(Y_rain_te,predictions))\n",
    "accuracy_NBT = accuracy_score(Y_rain_te,predictions)"
   ]
  },
  {
   "cell_type": "code",
   "execution_count": 166,
   "id": "aad1a0dc",
   "metadata": {},
   "outputs": [
    {
     "data": {
      "text/plain": [
       "array([[27954,     3],\n",
       "       [ 8378,    30]], dtype=int64)"
      ]
     },
     "execution_count": 166,
     "metadata": {},
     "output_type": "execute_result"
    }
   ],
   "source": [
    "from sklearn.metrics import confusion_matrix\n",
    "confusion_matrix(Y_rain_te,predictions)\n"
   ]
  },
  {
   "cell_type": "markdown",
   "id": "60abec7c",
   "metadata": {},
   "source": [
    "# Accuracy visualization for rainfall tomorrow using Naive Bayes Model"
   ]
  },
  {
   "cell_type": "code",
   "execution_count": 167,
   "id": "59a7df8e",
   "metadata": {},
   "outputs": [
    {
     "data": {
      "text/plain": [
       "Text(0, 0.5, 'Accuracy')"
      ]
     },
     "execution_count": 167,
     "metadata": {},
     "output_type": "execute_result"
    },
    {
     "data": {
      "image/png": "[encoded data removed]",
      "text/plain": [
       "<Figure size 432x216 with 1 Axes>"
      ]
     },
     "metadata": {
      "needs_background": "light"
     },
     "output_type": "display_data"
    }
   ],
   "source": [
    "import matplotlib.pyplot as plt\n",
    "%matplotlib inline\n",
    "#Adjust figure size\n",
    "plt.figure(figsize=(6,3))\n",
    "plt.ylim(0.0, 1.0)\n",
    "#X-axis, Y-axis -> value of that model\n",
    "plt.bar(\"Naive Bayes\",(accuracy_score(Y_rain_te,predictions)),width=0.5,color=\"brown\")\n",
    "plt.xlabel(\"Machine Learning Algorithm\")\n",
    "plt.ylabel(\"Accuracy\")"
   ]
  },
  {
   "cell_type": "markdown",
   "id": "52b1bb45",
   "metadata": {},
   "source": [
    "# Summarize accuracy comparison of models to predict RainTomorrow"
   ]
  },
  {
   "cell_type": "code",
   "execution_count": 168,
   "id": "44270858",
   "metadata": {},
   "outputs": [
    {
     "data": {
      "text/plain": [
       "Text(0, 0.5, 'Accuracy')"
      ]
     },
     "execution_count": 168,
     "metadata": {},
     "output_type": "execute_result"
    },
    {
     "data": {
      "image/png": "[encoded data removed]",
      "text/plain": [
       "<Figure size 864x432 with 1 Axes>"
      ]
     },
     "metadata": {
      "needs_background": "light"
     },
     "output_type": "display_data"
    }
   ],
   "source": [
    "#Adjust figure size\n",
    "plt.figure(figsize=(12,6))\n",
    "plt.ylim(0.0, 1.0)\n",
    "#X-axis, Y-axis -> value of that model\n",
    "plt.bar(\"Logistic Regression\",LR_score,width=0.5)\n",
    "plt.bar(\"KNeighbors\",KNN_score,width=0.5)\n",
    "plt.bar(\"Xg Boost\",accuracy_XG,width=0.5)\n",
    "plt.bar(\"Decision Tree\",DT_score,width=0.5)\n",
    "plt.bar(\"Random Forest\",model_accuracy_RFT,width=0.5)\n",
    "plt.bar(\"Naive Bayes\",accuracy_NBT,width=0.5)\n",
    "plt.xlabel(\"Machine Learning Algorithm\")\n",
    "plt.ylabel(\"Accuracy\")"
   ]
  },
  {
   "cell_type": "code",
   "execution_count": null,
   "id": "3b46c4f8",
   "metadata": {},
   "outputs": [],
   "source": [
    "result = model_logistic.predict(sc.transform([[1,30.8,26.7,83,83,4.7,5.1,6.7,1]]))\n",
    "if result == [0]:\n",
    "    print(\"No, It will not Rain Tomorrow\")\n",
    "else:\n",
    "    print(\"Yes, It will Rain Tomorrow\")"
   ]
  }
 ],
 "metadata": {
  "kernelspec": {
   "display_name": "Python 3 (ipykernel)",
   "language": "python",
   "name": "python3"
  },
  "language_info": {
   "codemirror_mode": {
    "name": "ipython",
    "version": 3
   },
   "file_extension": ".py",
   "mimetype": "text/x-python",
   "name": "python",
   "nbconvert_exporter": "python",
   "pygments_lexer": "ipython3",
   "version": "3.9.7"
  }
 },
 "nbformat": 4,
 "nbformat_minor": 5
}
